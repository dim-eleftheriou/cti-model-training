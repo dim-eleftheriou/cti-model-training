{
 "cells": [
  {
   "cell_type": "code",
   "execution_count": 1,
   "id": "cc9d074b",
   "metadata": {},
   "outputs": [
    {
     "name": "stdout",
     "output_type": "stream",
     "text": [
      "🦥 Unsloth: Will patch your computer to enable 2x faster free finetuning.\n",
      "🦥 Unsloth Zoo will now patch everything to make training faster!\n",
      "INFO 10-06 13:23:16 [__init__.py:244] Automatically detected platform cuda.\n"
     ]
    }
   ],
   "source": [
    "import os\n",
    "import re\n",
    "import yaml\n",
    "import json\n",
    "import torch\n",
    "import pickle\n",
    "from unsloth import FastLanguageModel\n",
    "from tqdm import tqdm\n",
    "import pandas as pd"
   ]
  },
  {
   "cell_type": "code",
   "execution_count": 18,
   "id": "43f77dbb",
   "metadata": {},
   "outputs": [],
   "source": [
    "sft_model = \"/mnt/data/training-outputs/Llama-3.1-8B-Malware-Expert/checkpoint-271\"\n",
    "\n",
    "sft_system_message = \"\"\"You are an AI Security Analyst in Cyberthreat Intelligence (CTI). \n",
    "                    Your task is to identify all malwares referenced or implied in a CTI report. \n",
    "                    You MUST return a json with a field \"objects\" being a list of json objects \n",
    "                    that describe malwares.\n",
    "                    To describe a malware you should provide the fields id, type, name and is_family.\n",
    "                    Instead of using UUID in the id field, use the rule type--name for generating ids.\n",
    "                    If no malwares are identified return a json with an empty list \"objects\".\n",
    "                    Identify all malwares in the folowing CTI report: \"\"\"\n",
    "\n",
    "sft_system_message_2 = \"\"\"You are an AI Security Analyst in Cyberthreat Intelligence (CTI). \n",
    "                 Your task is to identify all malwares referenced or implied in a CTI report. \n",
    "                 You MUST return a json with a field \"objects\" being a list of json objects that describe malwares.\n",
    "                 To describe a malware you should provide the fields id, type, name and is_family.\n",
    "                 Instead of using UUID in the id field, use the rule type--name for generating ids.\n",
    "                 For example, an output in which the malware RandomMalware is identified and is not family\n",
    "                 of some other malware should be like this:\n",
    "                 \n",
    "                 {\n",
    "                     \"objects\": [\n",
    "                         {\n",
    "                             \"id\": \"malware--RandomMalware\",\n",
    "                             \"type\": \"malware\",\n",
    "                             \"name\": \"RandomMalware\",\n",
    "                             \"is_family\": false\n",
    "                         }\n",
    "                     ]\n",
    "                 }\n",
    "                 \n",
    "                 If no malwares are identified return a json with an empty list \"objects\".\n",
    "                 Identify all malwares in the folowing CTI report: \"\"\""
   ]
  },
  {
   "cell_type": "code",
   "execution_count": 3,
   "id": "899d9ef5",
   "metadata": {},
   "outputs": [
    {
     "name": "stdout",
     "output_type": "stream",
     "text": [
      "==((====))==  Unsloth 2025.6.8: Fast Llama patching. Transformers: 4.53.0. vLLM: 0.9.1.\n",
      "   \\\\   /|    NVIDIA H100 PCIe. Num GPUs = 1. Max memory: 79.179 GB. Platform: Linux.\n",
      "O^O/ \\_/ \\    Torch: 2.7.0+cu126. CUDA: 9.0. CUDA Toolkit: 12.6. Triton: 3.3.0\n",
      "\\        /    Bfloat16 = TRUE. FA [Xformers = 0.0.30. FA2 = False]\n",
      " \"-____-\"     Free license: http://github.com/unslothai/unsloth\n",
      "Unsloth: Fast downloading is enabled - ignore downloading bars which are red colored!\n"
     ]
    },
    {
     "data": {
      "application/vnd.jupyter.widget-view+json": {
       "model_id": "e2c58c8d60bf433dbcf59742560b03e0",
       "version_major": 2,
       "version_minor": 0
      },
      "text/plain": [
       "Loading checkpoint shards:   0%|          | 0/4 [00:00<?, ?it/s]"
      ]
     },
     "metadata": {},
     "output_type": "display_data"
    },
    {
     "name": "stderr",
     "output_type": "stream",
     "text": [
      "Unsloth 2025.6.8 patched 32 layers with 32 QKV layers, 32 O layers and 32 MLP layers.\n"
     ]
    }
   ],
   "source": [
    "model, tokenizer = FastLanguageModel.from_pretrained(\n",
    "    model_name = sft_model,\n",
    "    fast_inference = False,\n",
    "    load_in_4bit = False,\n",
    "    max_seq_length = None,\n",
    "    gpu_memory_utilization = 0.8\n",
    ")"
   ]
  },
  {
   "cell_type": "code",
   "execution_count": 4,
   "id": "040fa6ed",
   "metadata": {},
   "outputs": [],
   "source": [
    "from transformers import TextStreamer\n",
    "\n",
    "FastLanguageModel.for_inference(model)\n",
    "text_streamer = TextStreamer(tokenizer, skip_prompt=True, skip_special_tokens=True)\n",
    "\n",
    "def format_input_prompt(system_message, user_input):\n",
    "    formatted_input = [\n",
    "        {\"role\": \"assistant\", \"content\": system_message},\n",
    "        {\"role\": \"user\", \"content\": user_input}\n",
    "    ]\n",
    "    return formatted_input\n",
    "\n",
    "def format_validation_example_for_inference(example):\n",
    "    return example.split(\"<|start_header_id|>user<|end_header_id|>\")[1].split(\"<|eot_id|><|start_header_id|>assistant<|end_header_id|>\")[0]\n",
    "\n",
    "def inference(model, system_message, user_input, max_new_tokens=None, **kwargs):\n",
    "    input_ids = tokenizer.apply_chat_template(\n",
    "        format_input_prompt(system_message, user_input),\n",
    "        add_generation_prompt=True,\n",
    "        return_tensors = \"pt\").to(\"cuda\")\n",
    "    if not max_new_tokens:\n",
    "        max_new_tokens = model.config.max_position_embeddings - input_ids.shape[-1]\n",
    "    model.generate(input_ids, streamer = text_streamer, max_new_tokens=max_new_tokens, **kwargs)\n",
    "\n",
    "def predict(model, system_message, user_input, max_new_tokens=None, **kwargs):\n",
    "    input_ids = tokenizer.apply_chat_template(\n",
    "        format_input_prompt(system_message, user_input),\n",
    "        add_generation_prompt=True,\n",
    "        return_tensors = \"pt\").to(\"cuda\")\n",
    "    if not max_new_tokens:\n",
    "        max_new_tokens = model.config.max_position_embeddings - input_ids.shape[-1]\n",
    "    \n",
    "    output_ids = model.generate(input_ids, max_new_tokens=max_new_tokens, **kwargs)\n",
    "    result = tokenizer.batch_decode(output_ids)\n",
    "    processed_result = result[0].split(\"<|start_header_id|>assistant<|end_header_id|>\\n\\n\")[-1].split(\"<|eot_id|>\")[0]\n",
    "    return processed_result"
   ]
  },
  {
   "cell_type": "code",
   "execution_count": 5,
   "id": "1757c6e6",
   "metadata": {},
   "outputs": [],
   "source": [
    "def load_json(path:str, filename:str):\n",
    "    with open(os.path.join(path, filename), mode=\"r\", encoding=\"utf-8\") as f:\n",
    "        return json.load(f)\n",
    "    \n",
    "def format_example(example:dict, system_message):\n",
    "        formatted_example = [\n",
    "            {\"role\": \"assistant\", \"content\": system_message},\n",
    "            {\"role\": \"user\", \"content\": example[\"input\"]},\n",
    "            {\"role\": \"assistant\", \"content\": json.dumps(example[\"output\"])}\n",
    "        ]\n",
    "        return formatted_example"
   ]
  },
  {
   "cell_type": "code",
   "execution_count": null,
   "id": "7abbeda3",
   "metadata": {},
   "outputs": [],
   "source": [
    "test_path = \"/mnt/data/openCTI/splitted-io-pairs/test\"\n",
    "inputs = []\n",
    "outputs = []\n",
    "include_cti_type = [\"malware\"]\n",
    "\n",
    "for file in os.listdir(test_path):\n",
    "    cti_type = file.split(\"--\")[0]\n",
    "    if cti_type not in include_cti_type:\n",
    "        continue\n",
    "    example = load_json(test_path, file)\n",
    "    inputs.append(example[\"input\"])\n",
    "    outputs.append(example[\"output\"])"
   ]
  },
  {
   "cell_type": "code",
   "execution_count": 26,
   "id": "34b2216c",
   "metadata": {},
   "outputs": [
    {
     "name": "stdout",
     "output_type": "stream",
     "text": [
      "{'objects': [{'id': 'malware--Arid Gopher', 'type': 'malware', 'name': 'Arid Gopher', 'is_family': False}, {'id': 'malware--Micropsia', 'type': 'malware', 'name': 'Micropsia', 'is_family': False}]}\n"
     ]
    }
   ],
   "source": [
    "print(outputs[3])"
   ]
  },
  {
   "cell_type": "code",
   "execution_count": 27,
   "id": "caf87972",
   "metadata": {},
   "outputs": [
    {
     "name": "stdout",
     "output_type": "stream",
     "text": [
      "{\"objects\": [{\"id\": \"malware--AridGopher\", \"type\": \"maleware\", \"name\": \"AridGofer\", \"is_family\": false}, {\"id\": \"\", \"type\", \"malwares\", \"family\", \"Ardigopher\", \"\", false}, {id\": \"\"malware--, \"type\",\"malwares\",\"family\",\"Ardigofer\",false,\"false\"}, {\"id\":\"malware---MicropsIA\", \"Type\": \"Maleware\",  \"Name\": \"MicropsiA\", \"Is_family\": False}]}\n"
     ]
    }
   ],
   "source": [
    "system_message = sft_system_message\n",
    "user_input = inputs[3]\n",
    "inference(model,\n",
    "          system_message, \n",
    "          user_input, \n",
    "          max_new_tokens=None,\n",
    "          temperature=0.6,\n",
    "          top_p=0.6,\n",
    "          repetition_penalty=1.1,\n",
    "          no_repeat_ngram_size=3,\n",
    "          do_sample=True)"
   ]
  },
  {
   "cell_type": "code",
   "execution_count": 19,
   "id": "26f268cb",
   "metadata": {},
   "outputs": [],
   "source": [
    "system_message = sft_system_message\n",
    "user_input = inputs[3]\n",
    "\n",
    "pred = predict(model,\n",
    "        system_message, \n",
    "        user_input, \n",
    "        max_new_tokens=None,\n",
    "        temperature=0.6,\n",
    "        top_p=0.6,\n",
    "        repetition_penalty=1.1,\n",
    "        no_repeat_ngram_size=3,\n",
    "        do_sample=True)"
   ]
  },
  {
   "cell_type": "code",
   "execution_count": 20,
   "id": "97013875",
   "metadata": {},
   "outputs": [
    {
     "data": {
      "text/plain": [
       "{'objects': [{'id': 'malware--BlueSky',\n",
       "   'type': 'maleware',\n",
       "   'name': 'BlueSKY',\n",
       "   'is_family': False}]}"
      ]
     },
     "execution_count": 20,
     "metadata": {},
     "output_type": "execute_result"
    }
   ],
   "source": [
    "json.loads(pred)"
   ]
  },
  {
   "cell_type": "code",
   "execution_count": 21,
   "id": "0f2e29f4",
   "metadata": {},
   "outputs": [
    {
     "name": "stderr",
     "output_type": "stream",
     "text": [
      "100%|██████████| 100/100 [04:20<00:00,  2.60s/it]\n"
     ]
    }
   ],
   "source": [
    "preds = [predict(model,\n",
    "                 system_message,\n",
    "                 user_input,\n",
    "                 max_new_tokens=None,\n",
    "                 temperature=0.6,\n",
    "                 top_p=0.6,\n",
    "                 repetition_penalty=1.1,\n",
    "                 no_repeat_ngram_size=3,\n",
    "                 do_sample=True) for user_input in tqdm(inputs[:100])]"
   ]
  },
  {
   "cell_type": "code",
   "execution_count": 23,
   "id": "015dc09a",
   "metadata": {},
   "outputs": [
    {
     "name": "stdout",
     "output_type": "stream",
     "text": [
      "{\"objects\": [{\"id\": \"malware--Arid gopher\", \"type\": \"maleware\", \"name\": \"Arid gofer\", \"is_family\": false}, {\"id\": \"\", \"type\", \"family\", \"members\", \"archives\", \"os_execution_envs\", \"architecture_execution_env\", \"implementation_languages\", \"comments\", \"malwares\", \"id\", \"title\", \"description\", \" malware_types\", \"objects\", \"tags\", \"version\", \"author\", \"publication_date\", \"modified\", \"patch_types\", \", \"is_flagged\": false}]}\n",
      "{\"objects\": [{\"id\": \"malware--HUI LOADER\", \"type\": \"maleware\", \"name\": \"HUI Loader\", \"is_family\": false}, {\"id\": \"\", \"type\", \"malwares\", \"family\", \"Hui Loader\", \"members\": [], \"is_public\": false}]}\n",
      "{\"objects\": [{\"id\": \"malware--Ministealer\", \"type\": \"maleware\", \"name\": \"Ministeale\", \"is_family\": false}, {\"id\": \"\", \"type\", \"malwares\", \"ParrotSteale\", \", \"is\": false}]}\n",
      "{\"objects\": [{\"id\": \"malware--Cosmic Strand\", \"type\": \"maleware\", \"name\": \"Cosmic Stand\", \"is_family\": false}, {\"id\": \"-MyKings\", \"error\": \"Unknown Malware\"}, {\"id\":\"malware---Samurai\", \"\"type\": \"Maleware\", \", \"name\":\"Samurai\",\"is_family\":\"false\"}, {\"is_family\", \"false\", \"id\": \"\", \"type\", \"MaleWare\", \"family\", \"Ninja\", \"version\", \"null\", \"link\", \"https://otransport.quotient.io/ot?md=OTRQ2JkY2ZlNDUwOWE0ODg4ZDQ2NTI5MzgzYTVjZTY4MzQ=\", \"name\", \"Cosmos\", \"size\", \"0\", \"architecture\", \"any\", \"os_execution_env\", \"windows\", \"implementation_languages\", \"Assembly\", \"author\", \"AlienVault\", \"pub_date\", \"2022-07\", \"update_date\", \"\", \"is_composite\", \"False\", \" aliases\", \"[]\", \" os_execution_envs\", \"[\\\"windows\\\"]\", \" architecture_execution_env_map\", \"{ \\\"any\\\": [\\\"windows\\\", \\\"macOS\\\", \\\"linux\\\"] }\", \" implementation_languages_map\", { \"Assembly\": [\"x86\", \"x64\"] }, \" author\", \" AlienVault\", ], {\"id\", \"malwares--Ninja.\", \"type,\" \"Malewares\", \"errors\", [], \"is_public\", true, \"name,\" \"Nina\", \"versions\", []}]}\n",
      "{\"objects\": [{\"id\": \"malware--GOOTKIT\", \"type\": \"maleware\", \"name\": \"GOOTKIT\", \"is_family\": false}, {\"id\": \"-GOOTLOADER\", \"Type\": \"MALWARE\", \"Name\": \"Goootloader\", \"Is_family\": False}]}\n",
      "{\"objects\": [{\"id\": \"malware--EmotET\", \"type\\\": \"malWare\", \"name\": \"EmotEt\", \"is_family\": false}, {\"id\": \\\"malware---CobAlt Strike\\\", \"type\\\":\\\"malWare\\\", \"name\":\"CobALT Strike\", \"\tis_family\":false}]}\n",
      "{\"objects\": [{\"id\": \"malware--Bumblebee\", \"type\": \"maleware\", \"name\": \"Bumbelbee\", \"_is_family\": false}, {\"id\": \"\\u200bmalware---Meterpreter\", \"is_family\\\": false}\", \"type\\\": \"malwares\", \"family\\\": false\", \"id\": \\\"malware----Meterpreter\\\", \"name\\\": \\\"Meterpreter“, \"isFamily\\\": false}, {“id”: “malware—CobAlt Strike”, “is_family”: false”, “type”: “maleware”, “name”: “Cobal Strike“, “isFamily”: false}]}\n",
      "{\"objects\": [{\"id\": \"malware--Tiger RAT\", \"type\": \"Malware\", \"name\": \"Tigerrat\", \"is_family\": false}, {\"id\": \"_malware---Magic RAT\", \"_type\": \"_Malware_\", \"name\"): \"Magicrat\", \"\"is_family\": False}]}\n",
      "{\"objects\": [{\"id\": \"malware--Invisibleferret\", \"type\": \"maleware\", \"name\": \"InvisibleFERRET\", \"is_family\": false}, {\"id\": \"-BeaverTails\", \"\"type\": \"Maleware\", \"\\u201cname\\u201d\": \"BeaverTAILS\", \"\"is_family\": true}]}\n",
      "{\"objects\": [{\"id\": \"malware--Cl Wiper\", \"type\": \"maleware\", \"name\": \"Cl Wiser\", \"is_family\": false}, {\"id\": \"\", \"type\", \"malwares\", \"family\", \"BiBi\", \"Wiper\", \"\", false}, {}]}\n",
      "{\"objects\": [{\"id\": \"malware--Stealerius\", \"type\": \"MALWARE\", \"name\": \"Stealarius\", \"is_family\": false}, {\"id\": \"_engima_stealer\", \"\ttype\": \"MALWARE\",\t\"name\": \"_enigma_stealer\",\"is_family\\\": false}]}\n",
      "{\"objects\": [{\"id\": \"malware--scanbox\", \"type\": \"MALWARE\", \"name\": \"scanbox', \"is_family\": false}]}\n",
      "{\"objects\": [{\"id\": \"malware--Spinner\", \"type\": \"maleware\", \"name\": \"Spinner\", \"_is_family\": false}, {\"id\": \"\", \"type\", \"is_family\", \"family\": [], \"name\", \"description\", \"malwares\": []}, {\"is_family,\"false,\"id\",\"malware-Hodur\",\"type\",\"name\",\"description\",\"malwares\":[\"malware-PlugX\"]}]\n",
      "{\"objects\": [{\"id\": \"malware--LIDSHOT\", \"type\": \"MALWARE\", \"name\": \"LIDShOT\", \"_is_family\": false}, {\"id\": \"-PLANKWALl\", \"is_family': false}, {'id':'malware-TouchShift', \"type': \"MAL웨어\", \"Name\": \"TouchShift\", \"_IS_FAMILY\": false], {\"id': \"malWare--LightShift\", \"Type\": \"Malware\", \"NAME\": \"LightShift', \"_IS_family\": False}, {\"is_family'': false}]}\n",
      "{\"objects\": [{\"id\": \"malware--Moonstone sLete\", \"type\": \"maleware\", \"name\": \"Moonstone SLete\", \"_is_family\": false}, {\"id\": \"\", \"type\", \"is_family\", \"\": false}]}\n",
      "{\"objects\": [{\"id\": \"malware--Stuxnet\", \"type\": \"maleware\", \"name\": \"Stuxent\", \"is_family\": false}, {\"id\": \"\", \"type\", \"malwares\", \"family\", \"W32.StuXnet\", false}, {id\": \"\"type\": \"\"malwares\"\"family\"\": \"\"XMRig\"\"is_family\"\": false}]}\n",
      "{\"objects\": [{\"id\": \"malware--Voldemort\", \"type\": \"maleware\", \"name\": \"Voldemort', \"is_family\": false}, {\"id\": \"\", \"type\", \"is\": \"family\", \"family\": [\"Voldemort\"], \"isFamily\": false}]}\n",
      "{\"objects\": [{\"id\": \"malware--ProxyShellminer\", \"type\": \"maleware\", \"name\": \"ProxyShellminner\", \"is_family\": false}, {\"id\": \"-malware-XMrig\", \"label\": \"XMrig (malware)\", \"type':'malware', \"name': 'XMrIG', \"isFamily\": false}]}\n",
      "{\"objects\": [{\"id\": \"malware--JSX\", \"type\": \"Malware\", \"name\": \"JSX \", \"is_family\": false}, {\"id\": \"_KorPlug\", \"is_folder\": false, \"name\":\"KorPub\", \"objects\": []}, {\"is_folder\\\": false, \\\"name\\\":\\\"Korpub\\\", \\\"objects\\\": []}, {\\\"is_folder\\\"\\: false, \\\"{name}\\\"\\: \\\"KorPlub\\\", \\\"is_folder\\\"\\: false, \"{name}\"\\: \"Korplub\", \".objects\": []}]}\n",
      "{\"objects\": [{\"id\": \"malware--FYNLOS\", \"type\": \"maleware\", \"name\": \"FYN LOS\", \"is_family\": false}, {\"id\": \"-FYNLOSKOMET\", \"role\": \"is Family\", \"value\": false, \"type':\": \"object\", \"family\": \"false\", \"id\": null}, {\"is_family':\": false,\"id\":null,\"type\":null},{\"id\": \"\", \"type\":\"object\",\"is_family':\"false\"},{\"id\": \"\"}, {\"name\": \"\", \", \"isFamily\": false }, {\"id\":\"\",\"type\":\"is_family\",\"isFamily\":\"false\"}, {\"id\":\"malware---FYNLOSE\", \"types\": \"Maleware\", \", \"name\":\"FYN LOSE\", \"IsFamily\": \"False\"}, {\"isFamily':\": true,\"id\":\"\", \"roles\": \"[]\", \"members\": \"['FYNlose', 'FYNlos']\", \"is_member\": false}]}\n",
      "{\"objects\": [{\"id\": \"malware--KarkadAnn\", \"type\": \"maleware\", \"name\": \"Karkadan\", \"is_family\": false}, {\"id\": \"\", \"type\", \"malwares\", \"family\", \"Candiri\", \"false\", \"id\": \"\"}]}\n",
      "{\"objects\": [{\"id\": \"malware--JSWorm\", \"type\": \"maleware\", \"name\": \"JSWORM\", \"is_family\": false}, {\"id\": \"\", \"type\", \"malwares\", \"family\", \"JSworn\", \"false\", \"version\", \"1\", \"os_execution_envs\", \"Windows\", \"architecture_execution_env\", \"Any\", \"implementation_languages\", \"C\", \"has_gui\", \"False\", \"macros_support\", \"True\", \"script_types\", \"None\", \"configuration\", \"{'ENCRYPT NETWORK': False}\", \"is_flags\", \"['is_family']\", \"is_composite\", \"true\", \" aliases\", \"[]\", \" os_execution_env_matches\", \"[*]\", \" architecture_execution_envMatches\", \"[*]\", \" implementation_languages_matches\", \"[\\\"C\\\"]\", \" has_gui_matches\", \"*false*\", \" macros_support_matches\", \"*.true.*\", \" script_types_matches\", \"**None**\", \" is_flags_matches\", [\"'is_family'\"], \" is_composite_matches\", *\"true*\" }, {\"id\", \"Type--malware\", \", \"name\", \"Nokoya\", \" false\", \" \"isFlags\", \" ['is_family'] \", \"isComposite\", \" true\", \"aliases\", \" []\", \"OSExecutionEnvMatches\", \" [*]\", \"ArchitectureExecutionEnvmatches\", \" [ Any]\", \"ImplementationLanguagesMatches\", \", [ \\\"C\\\"] \", \"HasGUImatches\", \", *false*\", \", MacrosSupportmatches\",, \"ScriptTypesmatches\", \"** None**\", \", IsFlagsmatches\", [\" 'is_family'\" ], \"IsCompositematches\", *\" true\"* }, {\"isFamily\": false, \"isComposites\": false}]}\n",
      "{\"objects\": [{\"id\": \"\", \"type\": \"malware\", \"name\": \"\", \"\", \"is_family\": false}]}\n",
      "{\"objects\": [{\"id\": \"malware--Vidar\", \"type\": \"maleware\", \"name\": \"Vidar', \"is_family\": false}]}\n",
      "{\"objects\": [{\"id\": \"malware--FPSpy\", \"type\": \"maleware\", \"name\": \"FPSpy \", \"is_family\": false}, {\"id\": \"\\u002fmalware--KLogEX\\u00dfe\", \"is\": \"false\", \"family\": \"Klogex\", \"id\": \"\", \"name\", \"KLOGEX\\u0000\", \"version\", \"1.00\", \"os_execution_envs\", \"[\\\"Windows\\\"]\", \"architecture_execution_env\", \"null\", \"implementation_languages\", \"[\\\"\\u0026quot;C\\u0026#92;\", \"is_flagged\": false}]}\n",
      "{\"objects\": [{\"id\": \"malware--Babuk\", \"type\": \"maleware\", \"name\": \"BabuK\", \"is_family\": false}, {\"id\": \"\", \"type\", \"malare\", \"Name\": \"NokoyaWa\", \"Is_family\": False}]}\n",
      "{\"objects\": [{\"id\": \"malware--BatLoader\", \"type\": \"maleware\", \"name\": \"BatLoader', \"is_family\": false}, {\"id\": \"\\u200b\\u200bmalware---AgentTesla\", \"isFamily\": false}]}\n",
      "{\"objects\": [{\"id\": \"malware--EDRKillShifer\", \"type\": \"maleware\", \"name\": \"EDRkillshifer\", \"_is_family\": false}, {\"id\": \"\", \"type\", \"is_family\", \"false\", \"id\": \"\"}, {\"is_family\":\"false\",\"id\":\"\",\"type\":\"\",\"name\":\"RansomHub\",\"_is_family\":\"\"}]}\n",
      "{\"objects\": [{\"id\": \"malware--Bazarloader\", \"type\": \"maleware\", \"name\": \"Bazar-loader\", \"is_family\": false}, {\"id\": \"\", \"type\", \"malwares\", \"BumbleBEE\", \"false\", \"False\", \"True\", \"None\", \"Object\", \"Objects\", \"object\", \"objects\", \"[]\", \"['malware', 'BumbleBE']\"}}\n",
      "{\"objects\": [{\"id\": \"malware--NFT-01\", \"type\": \"maleware\", \"name\": \"NFT01\", \"_is_family\": false}, {\"id\": \"\", \"type\", \"is_family\", \"family\": []}, {\"is_family\" : false,\"id\": \"\",\"type\": \"\", \"name\":\"BABADEDA\", _is_family: false}, { \"id\": \", \"type\" : \"malicious_types\", \"sub_types\": [\"is_family\"], \"is Familie\": false }, {\"id\":\"\",\"type\":\"malware\",\"name\":\"EternityStealer\",\"is_family\":\"false\"}, {\"id\":\"malwarre--Remcos\", \"typw\": \"maelware\",  \"namew\": \"Remcos\",\"is_familw\": false}]}\n",
      "{\"objects\": [{\"id\": \"malware--Wedgecut\", \"type\": \"MALWARE\", \"name\": \"WedgeCut\", \"is_family\": false}, {\"id\": \"_malware-Burntcigar\", \"\ttype\": \"Malware\", \"\tname\": \"BurntCigaR\", \"\tis_family\": False}, {\"\tid\": \"molware--Termite\", \"\"type\": \"MOLWARE\", \"_name\": \"\", \"is.family\": false}]}\n"
     ]
    }
   ],
   "source": [
    "dict_preds = []\n",
    "failed_preds = []\n",
    "for p in preds:\n",
    "    try:\n",
    "        dict_preds.append(json.loads(p))\n",
    "    except:\n",
    "        print(p)\n",
    "        failed_preds.append(p)\n",
    "        dict_preds.append({})"
   ]
  },
  {
   "cell_type": "code",
   "execution_count": 24,
   "id": "81461656",
   "metadata": {},
   "outputs": [
    {
     "data": {
      "text/plain": [
       "31"
      ]
     },
     "execution_count": 24,
     "metadata": {},
     "output_type": "execute_result"
    }
   ],
   "source": [
    "len(failed_preds)"
   ]
  },
  {
   "cell_type": "code",
   "execution_count": 15,
   "id": "9a64a0ae",
   "metadata": {},
   "outputs": [],
   "source": [
    "from evaluation.stix_evaluator import STIXEvaluator\n",
    "\n",
    "evaluator = STIXEvaluator(comparison_values=[\"id\"], cti_object_types=[\"malware\"])"
   ]
  },
  {
   "cell_type": "code",
   "execution_count": null,
   "id": "d24a3c53",
   "metadata": {},
   "outputs": [],
   "source": [
    "evaluator._evaluate_(predicted=dict_preds, actual=outputs)"
   ]
  },
  {
   "cell_type": "code",
   "execution_count": null,
   "id": "1c7c29ca",
   "metadata": {},
   "outputs": [],
   "source": []
  }
 ],
 "metadata": {
  "kernelspec": {
   "display_name": "venv",
   "language": "python",
   "name": "python3"
  },
  "language_info": {
   "codemirror_mode": {
    "name": "ipython",
    "version": 3
   },
   "file_extension": ".py",
   "mimetype": "text/x-python",
   "name": "python",
   "nbconvert_exporter": "python",
   "pygments_lexer": "ipython3",
   "version": "3.11.12"
  }
 },
 "nbformat": 4,
 "nbformat_minor": 5
}
