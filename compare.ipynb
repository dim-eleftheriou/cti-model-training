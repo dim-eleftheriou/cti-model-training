{
 "cells": [
  {
   "cell_type": "code",
   "execution_count": null,
   "id": "cc9d074b",
   "metadata": {},
   "outputs": [
    {
     "name": "stdout",
     "output_type": "stream",
     "text": [
      "🦥 Unsloth: Will patch your computer to enable 2x faster free finetuning.\n",
      "🦥 Unsloth Zoo will now patch everything to make training faster!\n",
      "INFO 07-15 08:26:10 [__init__.py:244] Automatically detected platform cuda.\n"
     ]
    }
   ],
   "source": [
    "import os\n",
    "import re\n",
    "import yaml\n",
    "import json\n",
    "import torch\n",
    "import pickle\n",
    "from unsloth import FastLanguageModel\n",
    "from tqdm import tqdm\n",
    "import pandas as pd"
   ]
  },
  {
   "cell_type": "code",
   "execution_count": 2,
   "id": "6bb502fb",
   "metadata": {},
   "outputs": [],
   "source": [
    "base_model = \"meta-llama/Llama-3.1-8B-Instruct\"\n",
    "sft_model = \"/mnt/data/training-outputs/Llama/Llama-3.1-8B-Instruct-Not-Quantized/checkpoint-190\"\n",
    "grpo_model = \"/mnt/data/training-outputs/LlamaGRPO/grpo_outputs/checkpoint-442\""
   ]
  },
  {
   "cell_type": "code",
   "execution_count": 3,
   "id": "eade1fbd",
   "metadata": {},
   "outputs": [],
   "source": [
    "with open(\"grpo_config.yaml\", \"r\") as f:\n",
    "    grpo_config = yaml.load(f, Loader=yaml.SafeLoader)\n",
    "\n",
    "with open(\"config.yaml\", \"r\") as f:\n",
    "    sft_config = yaml.load(f, Loader=yaml.SafeLoader)\n",
    "\n",
    "grpo_system_message = grpo_config[\"system_message\"]\n",
    "sft_system_message = sft_config[\"system_message\"]\n",
    "base_system_message = sft_system_message"
   ]
  },
  {
   "cell_type": "code",
   "execution_count": 4,
   "id": "c26f53d4",
   "metadata": {},
   "outputs": [
    {
     "name": "stdout",
     "output_type": "stream",
     "text": [
      "==((====))==  Unsloth 2025.6.8: Fast Llama patching. Transformers: 4.53.0. vLLM: 0.9.1.\n",
      "   \\\\   /|    NVIDIA H100 PCIe. Num GPUs = 1. Max memory: 79.19 GB. Platform: Linux.\n",
      "O^O/ \\_/ \\    Torch: 2.7.0+cu126. CUDA: 9.0. CUDA Toolkit: 12.6. Triton: 3.3.0\n",
      "\\        /    Bfloat16 = TRUE. FA [Xformers = 0.0.30. FA2 = False]\n",
      " \"-____-\"     Free license: http://github.com/unslothai/unsloth\n",
      "Unsloth: Fast downloading is enabled - ignore downloading bars which are red colored!\n"
     ]
    },
    {
     "data": {
      "application/vnd.jupyter.widget-view+json": {
       "model_id": "02dc90ca68de4f869be9f29e18845f2b",
       "version_major": 2,
       "version_minor": 0
      },
      "text/plain": [
       "Loading checkpoint shards:   0%|          | 0/4 [00:00<?, ?it/s]"
      ]
     },
     "metadata": {},
     "output_type": "display_data"
    },
    {
     "name": "stderr",
     "output_type": "stream",
     "text": [
      "Unsloth 2025.6.8 patched 32 layers with 32 QKV layers, 32 O layers and 32 MLP layers.\n"
     ]
    }
   ],
   "source": [
    "model, tokenizer = FastLanguageModel.from_pretrained(\n",
    "    model_name = sft_model,\n",
    "    fast_inference = False,\n",
    "    load_in_4bit = False,\n",
    "    max_seq_length = None,\n",
    "    gpu_memory_utilization = 0.7\n",
    ")\n",
    "\n",
    "model = model.for_inference()"
   ]
  },
  {
   "cell_type": "code",
   "execution_count": 5,
   "id": "1294b857",
   "metadata": {},
   "outputs": [],
   "source": [
    "def format_input_prompt(system_message, user_input):\n",
    "    formatted_input = [\n",
    "        {\"role\": \"assistant\", \"content\": system_message},\n",
    "        {\"role\": \"user\", \"content\": user_input}\n",
    "    ]\n",
    "    return formatted_input\n",
    "\n",
    "def sft_post_process(text):\n",
    "    text = text.split(sft_config[\"response_part\"])[-1]\n",
    "    text = text[2:] if text[:2]==\"\\n\\n\" else text\n",
    "    text = re.sub(r'<\\|eot_id\\|>', '', text)\n",
    "    return text\n",
    "\n",
    "def inference(model, system_message, user_input, max_new_tokens=None, **kwargs):\n",
    "    input_ids = tokenizer.apply_chat_template(\n",
    "        format_input_prompt(system_message, user_input),\n",
    "        add_generation_prompt=True,\n",
    "        return_tensors = \"pt\").to(\"cuda\")\n",
    "    if not max_new_tokens:\n",
    "        max_new_tokens = model.config.max_position_embeddings - input_ids.shape[-1]\n",
    "    output_ids = model.generate(input_ids, max_new_tokens=max_new_tokens, **kwargs)\n",
    "    output_text = tokenizer.batch_decode(output_ids)[0]\n",
    "    return sft_post_process(output_text)"
   ]
  },
  {
   "cell_type": "code",
   "execution_count": 6,
   "id": "efc8f5c1",
   "metadata": {},
   "outputs": [
    {
     "name": "stderr",
     "output_type": "stream",
     "text": [
      "The attention mask is not set and cannot be inferred from input because pad token is same as eos token. As a consequence, you may observe unexpected behavior. Please pass your input's `attention_mask` to obtain reliable results.\n",
      "LlamaForCausalLM has no `_prepare_4d_causal_attention_mask_with_cache_position` method defined in its base modeling class. Compiled forward passes will be sub-optimal. If you're writing code, see Llama for an example implementation. If you're a user, please report this issue on GitHub.\n"
     ]
    },
    {
     "data": {
      "text/plain": [
       "\"I'm functioning properly. What's your request? You want me to transform a Cyberthreat intel report into a STIK2.0 bundle?\""
      ]
     },
     "execution_count": 6,
     "metadata": {},
     "output_type": "execute_result"
    }
   ],
   "source": [
    "user_input = \"How are you?\"\n",
    "result = inference(model,\n",
    "                   sft_system_message, \n",
    "                   user_input, \n",
    "                   max_new_tokens=None,\n",
    "                   temperature=0.7,\n",
    "                   top_p=0.6,\n",
    "                   repetition_penalty=1.1,\n",
    "                   no_repeat_ngram_size=3,\n",
    "                   do_sample=True)\n",
    "result"
   ]
  },
  {
   "cell_type": "code",
   "execution_count": 5,
   "id": "f7a1b507",
   "metadata": {},
   "outputs": [],
   "source": [
    "def load_single_example(path:str, filename:str):\n",
    "    with open(os.path.join(path, filename), mode=\"r\", encoding=\"utf-8\") as f:\n",
    "        return json.load(f)"
   ]
  },
  {
   "cell_type": "code",
   "execution_count": 6,
   "id": "f6bb56f7",
   "metadata": {},
   "outputs": [],
   "source": [
    "test_data_path = \"/mnt/data/openCTI/io-pairs/test/\"\n",
    "test_data = [load_single_example(test_data_path, filename) for filename in os.listdir(test_data_path)]\n",
    "test_inputs = [example[\"input\"] for example in test_data]\n",
    "test_outputs = [example[\"output\"] for example in test_data]"
   ]
  },
  {
   "cell_type": "code",
   "execution_count": null,
   "id": "45c72411",
   "metadata": {},
   "outputs": [
    {
     "name": "stderr",
     "output_type": "stream",
     "text": [
      " 63%|██████▎   | 135/214 [9:28:22<1:39:10, 75.32s/it]  "
     ]
    }
   ],
   "source": [
    "# preds = [inference(model,\n",
    "#                    sft_system_message, \n",
    "#                    example, \n",
    "#                    max_new_tokens=32768,\n",
    "#                    temperature=0.7,\n",
    "#                    top_p=0.6,\n",
    "#                    repetition_penalty=1.1,\n",
    "#                    no_repeat_ngram_size=3,\n",
    "#                    do_sample=True) for example in tqdm(test_inputs)]\n",
    "\n",
    "# with open('sft_32768_token_limit_preds.pkl', 'wb') as file:\n",
    "#     pickle.dump(preds, file)"
   ]
  },
  {
   "cell_type": "code",
   "execution_count": 9,
   "id": "b5e7e2c3",
   "metadata": {},
   "outputs": [],
   "source": [
    "with open(\"sft_16384_token_limit_preds.pkl\", \"rb\") as file:\n",
    "    preds = pickle.load(file)"
   ]
  },
  {
   "cell_type": "code",
   "execution_count": 14,
   "id": "1a209e57",
   "metadata": {},
   "outputs": [
    {
     "data": {
      "text/plain": [
       "count      214.000000\n",
       "mean      6846.971963\n",
       "std       9961.374318\n",
       "min        306.000000\n",
       "25%       1784.250000\n",
       "50%       4169.500000\n",
       "75%       7247.250000\n",
       "max      84231.000000\n",
       "dtype: float64"
      ]
     },
     "execution_count": 14,
     "metadata": {},
     "output_type": "execute_result"
    }
   ],
   "source": [
    "size = [len(p) for p in preds]\n",
    "pd.Series(size).describe()"
   ]
  },
  {
   "cell_type": "code",
   "execution_count": 18,
   "id": "755d263c",
   "metadata": {},
   "outputs": [
    {
     "ename": "JSONDecodeError",
     "evalue": "Expecting ',' delimiter: line 1 column 1288 (char 1287)",
     "output_type": "error",
     "traceback": [
      "\u001b[31m---------------------------------------------------------------------------\u001b[39m",
      "\u001b[31mJSONDecodeError\u001b[39m                           Traceback (most recent call last)",
      "\u001b[36mCell\u001b[39m\u001b[36m \u001b[39m\u001b[32mIn[18]\u001b[39m\u001b[32m, line 1\u001b[39m\n\u001b[32m----> \u001b[39m\u001b[32m1\u001b[39m \u001b[43mjson\u001b[49m\u001b[43m.\u001b[49m\u001b[43mloads\u001b[49m\u001b[43m(\u001b[49m\n\u001b[32m      2\u001b[39m \u001b[43m    \u001b[49m\u001b[43mpreds\u001b[49m\u001b[43m[\u001b[49m\u001b[32;43m0\u001b[39;49m\u001b[43m]\u001b[49m\u001b[43m.\u001b[49m\u001b[43mreplace\u001b[49m\u001b[43m(\u001b[49m\u001b[33;43m\"\u001b[39;49m\u001b[38;5;130;43;01m\\'\u001b[39;49;00m\u001b[33;43m\"\u001b[39;49m\u001b[43m,\u001b[49m\u001b[43m \u001b[49m\u001b[33;43m'\u001b[39;49m\u001b[33;43m\"\u001b[39;49m\u001b[33;43m'\u001b[39;49m\u001b[43m)\u001b[49m\n\u001b[32m      3\u001b[39m \u001b[43m)\u001b[49m\n",
      "\u001b[36mFile \u001b[39m\u001b[32m/usr/local/lib/python3.11/json/__init__.py:346\u001b[39m, in \u001b[36mloads\u001b[39m\u001b[34m(s, cls, object_hook, parse_float, parse_int, parse_constant, object_pairs_hook, **kw)\u001b[39m\n\u001b[32m    341\u001b[39m     s = s.decode(detect_encoding(s), \u001b[33m'\u001b[39m\u001b[33msurrogatepass\u001b[39m\u001b[33m'\u001b[39m)\n\u001b[32m    343\u001b[39m \u001b[38;5;28;01mif\u001b[39;00m (\u001b[38;5;28mcls\u001b[39m \u001b[38;5;129;01mis\u001b[39;00m \u001b[38;5;28;01mNone\u001b[39;00m \u001b[38;5;129;01mand\u001b[39;00m object_hook \u001b[38;5;129;01mis\u001b[39;00m \u001b[38;5;28;01mNone\u001b[39;00m \u001b[38;5;129;01mand\u001b[39;00m\n\u001b[32m    344\u001b[39m         parse_int \u001b[38;5;129;01mis\u001b[39;00m \u001b[38;5;28;01mNone\u001b[39;00m \u001b[38;5;129;01mand\u001b[39;00m parse_float \u001b[38;5;129;01mis\u001b[39;00m \u001b[38;5;28;01mNone\u001b[39;00m \u001b[38;5;129;01mand\u001b[39;00m\n\u001b[32m    345\u001b[39m         parse_constant \u001b[38;5;129;01mis\u001b[39;00m \u001b[38;5;28;01mNone\u001b[39;00m \u001b[38;5;129;01mand\u001b[39;00m object_pairs_hook \u001b[38;5;129;01mis\u001b[39;00m \u001b[38;5;28;01mNone\u001b[39;00m \u001b[38;5;129;01mand\u001b[39;00m \u001b[38;5;129;01mnot\u001b[39;00m kw):\n\u001b[32m--> \u001b[39m\u001b[32m346\u001b[39m     \u001b[38;5;28;01mreturn\u001b[39;00m \u001b[43m_default_decoder\u001b[49m\u001b[43m.\u001b[49m\u001b[43mdecode\u001b[49m\u001b[43m(\u001b[49m\u001b[43ms\u001b[49m\u001b[43m)\u001b[49m\n\u001b[32m    347\u001b[39m \u001b[38;5;28;01mif\u001b[39;00m \u001b[38;5;28mcls\u001b[39m \u001b[38;5;129;01mis\u001b[39;00m \u001b[38;5;28;01mNone\u001b[39;00m:\n\u001b[32m    348\u001b[39m     \u001b[38;5;28mcls\u001b[39m = JSONDecoder\n",
      "\u001b[36mFile \u001b[39m\u001b[32m/usr/local/lib/python3.11/json/decoder.py:337\u001b[39m, in \u001b[36mJSONDecoder.decode\u001b[39m\u001b[34m(self, s, _w)\u001b[39m\n\u001b[32m    332\u001b[39m \u001b[38;5;28;01mdef\u001b[39;00m\u001b[38;5;250m \u001b[39m\u001b[34mdecode\u001b[39m(\u001b[38;5;28mself\u001b[39m, s, _w=WHITESPACE.match):\n\u001b[32m    333\u001b[39m \u001b[38;5;250m    \u001b[39m\u001b[33;03m\"\"\"Return the Python representation of ``s`` (a ``str`` instance\u001b[39;00m\n\u001b[32m    334\u001b[39m \u001b[33;03m    containing a JSON document).\u001b[39;00m\n\u001b[32m    335\u001b[39m \n\u001b[32m    336\u001b[39m \u001b[33;03m    \"\"\"\u001b[39;00m\n\u001b[32m--> \u001b[39m\u001b[32m337\u001b[39m     obj, end = \u001b[38;5;28;43mself\u001b[39;49m\u001b[43m.\u001b[49m\u001b[43mraw_decode\u001b[49m\u001b[43m(\u001b[49m\u001b[43ms\u001b[49m\u001b[43m,\u001b[49m\u001b[43m \u001b[49m\u001b[43midx\u001b[49m\u001b[43m=\u001b[49m\u001b[43m_w\u001b[49m\u001b[43m(\u001b[49m\u001b[43ms\u001b[49m\u001b[43m,\u001b[49m\u001b[43m \u001b[49m\u001b[32;43m0\u001b[39;49m\u001b[43m)\u001b[49m\u001b[43m.\u001b[49m\u001b[43mend\u001b[49m\u001b[43m(\u001b[49m\u001b[43m)\u001b[49m\u001b[43m)\u001b[49m\n\u001b[32m    338\u001b[39m     end = _w(s, end).end()\n\u001b[32m    339\u001b[39m     \u001b[38;5;28;01mif\u001b[39;00m end != \u001b[38;5;28mlen\u001b[39m(s):\n",
      "\u001b[36mFile \u001b[39m\u001b[32m/usr/local/lib/python3.11/json/decoder.py:353\u001b[39m, in \u001b[36mJSONDecoder.raw_decode\u001b[39m\u001b[34m(self, s, idx)\u001b[39m\n\u001b[32m    344\u001b[39m \u001b[38;5;250m\u001b[39m\u001b[33;03m\"\"\"Decode a JSON document from ``s`` (a ``str`` beginning with\u001b[39;00m\n\u001b[32m    345\u001b[39m \u001b[33;03ma JSON document) and return a 2-tuple of the Python\u001b[39;00m\n\u001b[32m    346\u001b[39m \u001b[33;03mrepresentation and the index in ``s`` where the document ended.\u001b[39;00m\n\u001b[32m   (...)\u001b[39m\u001b[32m    350\u001b[39m \n\u001b[32m    351\u001b[39m \u001b[33;03m\"\"\"\u001b[39;00m\n\u001b[32m    352\u001b[39m \u001b[38;5;28;01mtry\u001b[39;00m:\n\u001b[32m--> \u001b[39m\u001b[32m353\u001b[39m     obj, end = \u001b[38;5;28;43mself\u001b[39;49m\u001b[43m.\u001b[49m\u001b[43mscan_once\u001b[49m\u001b[43m(\u001b[49m\u001b[43ms\u001b[49m\u001b[43m,\u001b[49m\u001b[43m \u001b[49m\u001b[43midx\u001b[49m\u001b[43m)\u001b[49m\n\u001b[32m    354\u001b[39m \u001b[38;5;28;01mexcept\u001b[39;00m \u001b[38;5;167;01mStopIteration\u001b[39;00m \u001b[38;5;28;01mas\u001b[39;00m err:\n\u001b[32m    355\u001b[39m     \u001b[38;5;28;01mraise\u001b[39;00m JSONDecodeError(\u001b[33m\"\u001b[39m\u001b[33mExpecting value\u001b[39m\u001b[33m\"\u001b[39m, s, err.value) \u001b[38;5;28;01mfrom\u001b[39;00m\u001b[38;5;250m \u001b[39m\u001b[38;5;28;01mNone\u001b[39;00m\n",
      "\u001b[31mJSONDecodeError\u001b[39m: Expecting ',' delimiter: line 1 column 1288 (char 1287)"
     ]
    }
   ],
   "source": [
    "json.loads(\n",
    "    preds[0].replace(\"\\'\", '\"')\n",
    ")"
   ]
  },
  {
   "cell_type": "code",
   "execution_count": 22,
   "id": "ec0af8c7",
   "metadata": {},
   "outputs": [
    {
     "name": "stdout",
     "output_type": "stream",
     "text": [
      "{\"id\": \"\", \"type\": \"bundle\", \"objects\": [{\"id\": \"report--New Malvolent PyPI packages used by Lazurus\", \"type\": \"report\", \"name\": \"New Malovolent PyPI packets used by Lazorus\", \"description\": \"PyPI packages released to PyPi by Lzorus\", \"labels\": [\"python\", \"lazurus\", \"pypiconf\",\"swampool\", \"quasarlub\", \"pycryptovn\", \"typosquatling\"], \"report_types\": [\"threat-report\"], \"created\": \"2024-02-29 18:22\", \"object_refs\": [\"report--Lazurus\", \"indicator--https://blockchan-newtech.con/download/dowload.asap\", \"malware--comebacker\", \"attack-pattern--T1573\", \"intrusion-set--Lazarus\", \"vulnerability--CVE-2023-27362\", \"location--Europe\", \"identity--Python\", \"file--e88528ace23092bas628523564ad8abc\", \"domain-name--chaingrowen.com\", \"url--http://91,206,178,125/upload/uplod/asap\", \"domain-name-->blockchain.newtech.com\", \"url-->https://fastte.com/user/agencys.ap\", \"attack-pattern-->T1064\",\"malware-->pycryptocon\", \"location-->Asia\", \"vulnerabilty-->CVE-2018-1333\", \"identity-->QuasarLib\", \"file-->b4a048450bb729aea578e7aead9doff20371c18cc3f36de990d2bdafa4e77f67\", \"hostname-->fasttet.con\", \"email-address-->shusei.tomomaga@jpecr.cc\",\"relationship-->indicator--http//91,207,178.135/upload/uplo/asap--indicates--malware->comeback\", \"indicator-->https//blockchain-nwe-tech.com/download/dwolod.asap,\"relationship -->indicator-->http://911,207.178,135/upload/upload/asap-->indicates-->malware -->pycryptoon\", \"intrusion-sat-->Swapmempoo\", \"indication-->https/blockchain-new-tech.com/downlo/adwoload.asap-->malwar -->comebackor\", \"indications-->http//911,206.177,125/uplo/adupload/asap -->malware --pycryptoven\",\"relationships-->indicator-->htrps://blockchian-new-tech.con/download/doaload.asap--based-on-->indicator->https//blcokchain-new.tech.com/download/doald.asap \",\"relationship--indicator-->htps://fasttec.com/user/aency/ap-->indicate-->malwaire-->pycrypton\", \"relationship-->malwre-->pycrptoenv-->uses-->vulnerabilitiy-->CVE--2018--1333\", \"relationship--malwra-->pycytcon-->uses--vulnerabitity-->CVE-->2023--27362\", \"malwae-->pycrytoconf\", \"relationahip-->indicator -->https://chaigrown.com/manag/emange.asap -->indicates -->malwar-->pyctoconf\", \"indicator-->url-->http:/91,205,178.,125/upload/uload/asap\", \"relatiionship-->indicator==>https://chainingrown.com/mangaeg/emange/asap ==>indicates ==>malware ==>swapmempoool\", \"attack-patter-->T1090\", \"indication--https/blockchains-new-tech/con/download/doawload.aspa-->malwarf-->swapmempool\", \"indications--https//chaingron.com/mangage/emange/sap-->mailware-->swapmepool\",\"relationship->indicator-->uhr-->https/fastte.com/usser/agency/ap--based--on-->indicator----https://blcokin-new-tech.co/download/dooload.asap \", \"relationship->malware---pycryptoen-->uses->vulnerabiltiy--> CVE--2023-->27362 \", \"malwaie-->pycyrtoenv\", \"relationaship-->malwrare-->pycroton-->uses -->vulneratility-->CVE->2018-->1333\"]}, {\"id\": \"\", \"type\"\"relationship\", \"source_ref\": \"\", \"target_ref\": \"\"}, {\"id\": \"\", \"relationship\": \"indicates\", \"source_reff\": \"indicator--url-->htpp://91..206.175.125/uplad/asap\"\", \"target_reff\"\"malware\"\"-->pycriotoenv\"}, {\"id\": \", \"type\", \"intrussion-set\", \"name\": \"Lazaruz\"}, {\"indicator-->ur-->https/blockchain-new-teech.com/downlaod/doaload/asap\"}, {\"relationship\": \"indicates\", \"target_ref\": \"malwarere-->pycripton\", \"sourcre_ref\": \"indicator->url-->hhttps://blocokchain-nw-tech.com/doaload/doaload.doaload/asasp\"}, {\"id\", \"type\", \"attak-pattern\", \"nam\": \"T15734\"}, {\"intrusion-sest-->Swapmpoop\"}, {\"malware\", \"pycryptocfn\"}, {\"vulneraility\", \"CVE-2043-23762\"}, {\"location\", \"Europe\"}, {\"identity\", \"Python\"}, {\"file\", \"e885283ace230928ba628524654ad8abce\"}, {\"domain-name\", \"chaingown.com\"}, {\"url\", \"http://191,206..178.124/upload/uplad/assp\"}, {\"domin-name\", \"blockchain_newtech.com\"}, {\"url\", \"https://fasite.com/user/anecy/ap\"}, {\"attack-pattern\", \"T10644\"}, {\"mailware\", \"qaurarib\"}, {\"location\", \"Asia\"}, {\"identifier\", \"Vulnerabilaty-->CVE\", \"value\": \"2018->1333\"}, {\"identiy\", \"QuasarLab\"}, {\"fil\", \"b4ao48d450bb727aca578e9aead99dof20371ic18c39f36ded990dzbdfa4e767f67\"}, {\"hostname\", \"fasttet.co\"}, {\"email-address\", \"shuseitomomaga/jpcert.cc\"}, {\"relatiionship\", \"indicated\", \"target_reft\": \"indicator->ur-->http///91,210,178..125/uplod/adupload/sap\",\"source_ref\":\"malwarer-->pycriton\"}], [\"indicator-->urls-->https/blcokchin-new-tech/com/downlo/doaload/sap\"], [\"indicator\", \"url-->httpps://fasttee.com/user.agency/ap\"], [\"relationship\", \"indicate\", \"soure_ref\": \"\"indicator-->urs-->https/blackchain-new-tect.com/download/adoaload/aspa\", \"target_rref\": \"malwer-->pyctoron\"], [\"malware\", \"pycrytopon\"], {\"relationship\", \"--uses\", \"soucre_ref\": \"indicator -->ur-->htpps://blackchain-new-text.com/doald/doaload.doload/asap\"\", \"target_rreff\": \"vulnerableility-->CVE~2018~1333\"], [\"intrusion-seat\", \"Swapmempoop\"], {\"indicator\", \"--url-->htepps://blockchin-new-teach.com/doaldo/doaload.sapid/asap\"], {\"malwar\", \"comebackr\"}, {\"attack-patten\", \"T10904\"}, {\"indication\", \"https/blockchian--new-tech.com/dowlo/doald/aspa-->mailwar-->swapememoool\"}, {\"indications\", \"http//chasigrown.con/mangaem/emange/sp-->malwer--swapmemoool\"}, [\"relationship\", \"uses\",\"source_reft\": \"intrusin-set-->Swapmemppo\", \"tarret_ref\": \"\"vulneribilitiy-->CVB--2019-->1332\"}, {\"relationships\", \"--based-on\", \"souree_ref\": \"\"indicator-->urt-->https:blackchain-new-net.com/doeload/doaload/doload/aspa\"\", \"target_rel\": \"indiator-->https.blackchain-new-nwet.com/doalod/doalad/asap\"}]}\n"
     ]
    }
   ],
   "source": [
    "print(preds[0].replace(\"\\'\", '\"'))"
   ]
  },
  {
   "cell_type": "code",
   "execution_count": 23,
   "id": "48eee35d",
   "metadata": {},
   "outputs": [
    {
     "ename": "SyntaxError",
     "evalue": "closing parenthesis '}' does not match opening parenthesis '[' (<unknown>, line 1)",
     "output_type": "error",
     "traceback": [
      "Traceback \u001b[36m(most recent call last)\u001b[39m:\n",
      "  File \u001b[92m~/cti-model-training/venv/lib/python3.11/site-packages/IPython/core/interactiveshell.py:3699\u001b[39m in \u001b[95mrun_code\u001b[39m\n    exec(code_obj, self.user_global_ns, self.user_ns)\n",
      "  Cell \u001b[92mIn[23]\u001b[39m\u001b[92m, line 2\u001b[39m\n    d = ast.literal_eval(preds[0].replace(\"\\'\", '\"'))\n",
      "  File \u001b[92m/usr/local/lib/python3.11/ast.py:64\u001b[39m in \u001b[95mliteral_eval\u001b[39m\n    node_or_string = parse(node_or_string.lstrip(\" \\t\"), mode='eval')\n",
      "\u001b[36m  \u001b[39m\u001b[36mFile \u001b[39m\u001b[32m/usr/local/lib/python3.11/ast.py:50\u001b[39m\u001b[36m in \u001b[39m\u001b[35mparse\u001b[39m\n\u001b[31m    \u001b[39m\u001b[31mreturn compile(source, filename, mode, flags,\u001b[39m\n",
      "  \u001b[36mFile \u001b[39m\u001b[32m<unknown>:1\u001b[39m\n\u001b[31m    \u001b[39m\u001b[31m{\"id\": \"\", \"type\": \"bundle\", \"objects\": [{\"id\": \"report--New Malvolent PyPI packages used by Lazurus\", \"type\": \"report\", \"name\": \"New Malovolent PyPI packets used by Lazorus\", \"description\": \"PyPI packages released to PyPi by Lzorus\", \"labels\": [\"python\", \"lazurus\", \"pypiconf\",\"swampool\", \"quasarlub\", \"pycryptovn\", \"typosquatling\"], \"report_types\": [\"threat-report\"], \"created\": \"2024-02-29 18:22\", \"object_refs\": [\"report--Lazurus\", \"indicator--https://blockchan-newtech.con/download/dowload.asap\", \"malware--comebacker\", \"attack-pattern--T1573\", \"intrusion-set--Lazarus\", \"vulnerability--CVE-2023-27362\", \"location--Europe\", \"identity--Python\", \"file--e88528ace23092bas628523564ad8abc\", \"domain-name--chaingrowen.com\", \"url--http://91,206,178,125/upload/uplod/asap\", \"domain-name-->blockchain.newtech.com\", \"url-->https://fastte.com/user/agencys.ap\", \"attack-pattern-->T1064\",\"malware-->pycryptocon\", \"location-->Asia\", \"vulnerabilty-->CVE-2018-1333\", \"identity-->QuasarLib\", \"file-->b4a048450bb729aea578e7aead9doff20371c18cc3f36de990d2bdafa4e77f67\", \"hostname-->fasttet.con\", \"email-address-->shusei.tomomaga@jpecr.cc\",\"relationship-->indicator--http//91,207,178.135/upload/uplo/asap--indicates--malware->comeback\", \"indicator-->https//blockchain-nwe-tech.com/download/dwolod.asap,\"relationship -->indicator-->http://911,207.178,135/upload/upload/asap-->indicates-->malware -->pycryptoon\", \"intrusion-sat-->Swapmempoo\", \"indication-->https/blockchain-new-tech.com/downlo/adwoload.asap-->malwar -->comebackor\", \"indications-->http//911,206.177,125/uplo/adupload/asap -->malware --pycryptoven\",\"relationships-->indicator-->htrps://blockchian-new-tech.con/download/doaload.asap--based-on-->indicator->https//blcokchain-new.tech.com/download/doald.asap \",\"relationship--indicator-->htps://fasttec.com/user/aency/ap-->indicate-->malwaire-->pycrypton\", \"relationship-->malwre-->pycrptoenv-->uses-->vulnerabilitiy-->CVE--2018--1333\", \"relationship--malwra-->pycytcon-->uses--vulnerabitity-->CVE-->2023--27362\", \"malwae-->pycrytoconf\", \"relationahip-->indicator -->https://chaigrown.com/manag/emange.asap -->indicates -->malwar-->pyctoconf\", \"indicator-->url-->http:/91,205,178.,125/upload/uload/asap\", \"relatiionship-->indicator==>https://chainingrown.com/mangaeg/emange/asap ==>indicates ==>malware ==>swapmempoool\", \"attack-patter-->T1090\", \"indication--https/blockchains-new-tech/con/download/doawload.aspa-->malwarf-->swapmempool\", \"indications--https//chaingron.com/mangage/emange/sap-->mailware-->swapmepool\",\"relationship->indicator-->uhr-->https/fastte.com/usser/agency/ap--based--on-->indicator----https://blcokin-new-tech.co/download/dooload.asap \", \"relationship->malware---pycryptoen-->uses->vulnerabiltiy--> CVE--2023-->27362 \", \"malwaie-->pycyrtoenv\", \"relationaship-->malwrare-->pycroton-->uses -->vulneratility-->CVE->2018-->1333\"]}, {\"id\": \"\", \"type\"\"relationship\", \"source_ref\": \"\", \"target_ref\": \"\"}, {\"id\": \"\", \"relationship\": \"indicates\", \"source_reff\": \"indicator--url-->htpp://91..206.175.125/uplad/asap\"\", \"target_reff\"\"malware\"\"-->pycriotoenv\"}, {\"id\": \", \"type\", \"intrussion-set\", \"name\": \"Lazaruz\"}, {\"indicator-->ur-->https/blockchain-new-teech.com/downlaod/doaload/asap\"}, {\"relationship\": \"indicates\", \"target_ref\": \"malwarere-->pycripton\", \"sourcre_ref\": \"indicator->url-->hhttps://blocokchain-nw-tech.com/doaload/doaload.doaload/asasp\"}, {\"id\", \"type\", \"attak-pattern\", \"nam\": \"T15734\"}, {\"intrusion-sest-->Swapmpoop\"}, {\"malware\", \"pycryptocfn\"}, {\"vulneraility\", \"CVE-2043-23762\"}, {\"location\", \"Europe\"}, {\"identity\", \"Python\"}, {\"file\", \"e885283ace230928ba628524654ad8abce\"}, {\"domain-name\", \"chaingown.com\"}, {\"url\", \"http://191,206..178.124/upload/uplad/assp\"}, {\"domin-name\", \"blockchain_newtech.com\"}, {\"url\", \"https://fasite.com/user/anecy/ap\"}, {\"attack-pattern\", \"T10644\"}, {\"mailware\", \"qaurarib\"}, {\"location\", \"Asia\"}, {\"identifier\", \"Vulnerabilaty-->CVE\", \"value\": \"2018->1333\"}, {\"identiy\", \"QuasarLab\"}, {\"fil\", \"b4ao48d450bb727aca578e9aead99dof20371ic18c39f36ded990dzbdfa4e767f67\"}, {\"hostname\", \"fasttet.co\"}, {\"email-address\", \"shuseitomomaga/jpcert.cc\"}, {\"relatiionship\", \"indicated\", \"target_reft\": \"indicator->ur-->http///91,210,178..125/uplod/adupload/sap\",\"source_ref\":\"malwarer-->pycriton\"}], [\"indicator-->urls-->https/blcokchin-new-tech/com/downlo/doaload/sap\"], [\"indicator\", \"url-->httpps://fasttee.com/user.agency/ap\"], [\"relationship\", \"indicate\", \"soure_ref\": \"\"indicator-->urs-->https/blackchain-new-tect.com/download/adoaload/aspa\", \"target_rref\": \"malwer-->pyctoron\"], [\"malware\", \"pycrytopon\"], {\"relationship\", \"--uses\", \"soucre_ref\": \"indicator -->ur-->htpps://blackchain-new-text.com/doald/doaload.doload/asap\"\", \"target_rreff\": \"vulnerableility-->CVE~2018~1333\"], [\"intrusion-seat\", \"Swapmempoop\"], {\"indicator\", \"--url-->htepps://blockchin-new-teach.com/doaldo/doaload.sapid/asap\"], {\"malwar\", \"comebackr\"}, {\"attack-patten\", \"T10904\"}, {\"indication\", \"https/blockchian--new-tech.com/dowlo/doald/aspa-->mailwar-->swapememoool\"}, {\"indications\", \"http//chasigrown.con/mangaem/emange/sp-->malwer--swapmemoool\"}, [\"relationship\", \"uses\",\"source_reft\": \"intrusin-set-->Swapmemppo\", \"tarret_ref\": \"\"vulneribilitiy-->CVB--2019-->1332\"}, {\"relationships\", \"--based-on\", \"souree_ref\": \"\"indicator-->urt-->https:blackchain-new-net.com/doeload/doaload/doload/aspa\"\", \"target_rel\": \"indiator-->https.blackchain-new-nwet.com/doalod/doalad/asap\"}]}\u001b[39m\n                                                                                                                                                                                                                                                                                                                                                                                                                                                                                                                                                                                                                                                                                                                                                                                                                                                                                                                                                                                                                                                                                                                                                                                                                                                                                                                                                                                                                                                                                                                                                                                                                                                                                                                                                                                                                                                                                                                                                                                                                                                                                                                                                                                                                                                                                                                                                                                                                                                                                                                                                                                                                                                                                                                                                                                                                                                                                                                                                                                                                                                                                                                                                                                              ^\n\u001b[31mSyntaxError\u001b[39m\u001b[31m:\u001b[39m closing parenthesis '}' does not match opening parenthesis '['\n"
     ]
    }
   ],
   "source": [
    "import ast\n",
    "d = ast.literal_eval(preds[0].replace(\"\\'\", '\"'))"
   ]
  },
  {
   "cell_type": "code",
   "execution_count": 26,
   "id": "a96bfe51",
   "metadata": {},
   "outputs": [],
   "source": [
    "import evaluate"
   ]
  },
  {
   "cell_type": "code",
   "execution_count": 29,
   "id": "41f308de",
   "metadata": {},
   "outputs": [],
   "source": [
    "rouge = evaluate.load('rouge')\n",
    "results = rouge.compute(predictions=preds, references=test_outputs)"
   ]
  },
  {
   "cell_type": "code",
   "execution_count": 30,
   "id": "7d51114f",
   "metadata": {},
   "outputs": [
    {
     "data": {
      "text/plain": [
       "{'rouge1': np.float64(0.007351425341432802),\n",
       " 'rouge2': np.float64(0.0),\n",
       " 'rougeL': np.float64(0.007384059934463555),\n",
       " 'rougeLsum': np.float64(0.007402110976928185)}"
      ]
     },
     "execution_count": 30,
     "metadata": {},
     "output_type": "execute_result"
    }
   ],
   "source": [
    "results"
   ]
  },
  {
   "cell_type": "code",
   "execution_count": null,
   "id": "33e33636",
   "metadata": {},
   "outputs": [],
   "source": []
  }
 ],
 "metadata": {
  "kernelspec": {
   "display_name": "venv",
   "language": "python",
   "name": "python3"
  },
  "language_info": {
   "codemirror_mode": {
    "name": "ipython",
    "version": 3
   },
   "file_extension": ".py",
   "mimetype": "text/x-python",
   "name": "python",
   "nbconvert_exporter": "python",
   "pygments_lexer": "ipython3",
   "version": "3.11.12"
  }
 },
 "nbformat": 4,
 "nbformat_minor": 5
}
