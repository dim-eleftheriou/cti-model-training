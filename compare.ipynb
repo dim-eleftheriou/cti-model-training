{
 "cells": [
  {
   "cell_type": "code",
   "execution_count": 1,
   "id": "cc9d074b",
   "metadata": {},
   "outputs": [
    {
     "name": "stdout",
     "output_type": "stream",
     "text": [
      "🦥 Unsloth: Will patch your computer to enable 2x faster free finetuning.\n",
      "🦥 Unsloth Zoo will now patch everything to make training faster!\n",
      "INFO 09-25 07:39:03 [__init__.py:244] Automatically detected platform cuda.\n"
     ]
    }
   ],
   "source": [
    "import os\n",
    "import re\n",
    "import yaml\n",
    "import json\n",
    "import torch\n",
    "import pickle\n",
    "from unsloth import FastLanguageModel\n",
    "from tqdm import tqdm\n",
    "import pandas as pd"
   ]
  },
  {
   "cell_type": "code",
   "execution_count": 2,
   "id": "43f77dbb",
   "metadata": {},
   "outputs": [],
   "source": [
    "sft_model = \"/mnt/data/training-outputs/Llama-3.1-8B-Malware-Expert/checkpoint-129\"\n",
    "\n",
    "sft_system_message = \"\"\"You are an AI Security Analyst in Cyberthreat Intelligence (CTI). \n",
    "                    Your task is to identify all malwares referenced or implied in a CTI report. \n",
    "                    You MUST return a json with a field \"objects\" being a list of json objects \n",
    "                    that describe malwares.\n",
    "                    To describe a malware you should provide the fields id, type, name, description[Optional], malware_types[Optional], is_family[Optional], aliases[Optional], os_execution_envs[Optional], architecture_execution_envs[Optional], implementation_languages[Optional].\n",
    "                    Instead of using UUID in the id field, use the rule type--name for generating ids.\n",
    "                    If no malwares are identified return a json with an empty list \"objects\".\n",
    "                    Identify all malwares in the folowing CTI report: \"\"\""
   ]
  },
  {
   "cell_type": "code",
   "execution_count": 3,
   "id": "899d9ef5",
   "metadata": {},
   "outputs": [
    {
     "name": "stdout",
     "output_type": "stream",
     "text": [
      "==((====))==  Unsloth 2025.6.8: Fast Llama patching. Transformers: 4.53.0. vLLM: 0.9.1.\n",
      "   \\\\   /|    NVIDIA H100 PCIe. Num GPUs = 1. Max memory: 79.179 GB. Platform: Linux.\n",
      "O^O/ \\_/ \\    Torch: 2.7.0+cu126. CUDA: 9.0. CUDA Toolkit: 12.6. Triton: 3.3.0\n",
      "\\        /    Bfloat16 = TRUE. FA [Xformers = 0.0.30. FA2 = False]\n",
      " \"-____-\"     Free license: http://github.com/unslothai/unsloth\n",
      "Unsloth: Fast downloading is enabled - ignore downloading bars which are red colored!\n"
     ]
    },
    {
     "data": {
      "application/vnd.jupyter.widget-view+json": {
       "model_id": "03fa812eec4b4291b8530a67b27535b7",
       "version_major": 2,
       "version_minor": 0
      },
      "text/plain": [
       "Loading checkpoint shards:   0%|          | 0/4 [00:00<?, ?it/s]"
      ]
     },
     "metadata": {},
     "output_type": "display_data"
    },
    {
     "name": "stderr",
     "output_type": "stream",
     "text": [
      "Unsloth 2025.6.8 patched 32 layers with 32 QKV layers, 32 O layers and 32 MLP layers.\n"
     ]
    }
   ],
   "source": [
    "model, tokenizer = FastLanguageModel.from_pretrained(\n",
    "    model_name = sft_model,\n",
    "    fast_inference = False,\n",
    "    load_in_4bit = False,\n",
    "    max_seq_length = None,\n",
    "    gpu_memory_utilization = 0.8\n",
    ")"
   ]
  },
  {
   "cell_type": "code",
   "execution_count": 38,
   "id": "040fa6ed",
   "metadata": {},
   "outputs": [],
   "source": [
    "from transformers import TextStreamer\n",
    "\n",
    "FastLanguageModel.for_inference(model)\n",
    "text_streamer = TextStreamer(tokenizer, skip_prompt=True, skip_special_tokens=True)\n",
    "\n",
    "def format_input_prompt(system_message, user_input):\n",
    "    formatted_input = [\n",
    "        {\"role\": \"assistant\", \"content\": system_message},\n",
    "        {\"role\": \"user\", \"content\": user_input}\n",
    "    ]\n",
    "    return formatted_input\n",
    "\n",
    "def format_validation_example_for_inference(example):\n",
    "    return example.split(\"<|start_header_id|>user<|end_header_id|>\")[1].split(\"<|eot_id|><|start_header_id|>assistant<|end_header_id|>\")[0]\n",
    "\n",
    "def inference(model, system_message, user_input, max_new_tokens=None, **kwargs):\n",
    "    input_ids = tokenizer.apply_chat_template(\n",
    "        format_input_prompt(system_message, user_input),\n",
    "        add_generation_prompt=True,\n",
    "        return_tensors = \"pt\").to(\"cuda\")\n",
    "    if not max_new_tokens:\n",
    "        max_new_tokens = model.config.max_position_embeddings - input_ids.shape[-1]\n",
    "    model.generate(input_ids, streamer = text_streamer, max_new_tokens=max_new_tokens, **kwargs)\n",
    "\n",
    "def predict(model, system_message, user_input, max_new_tokens=None, **kwargs):\n",
    "    input_ids = tokenizer.apply_chat_template(\n",
    "        format_input_prompt(system_message, user_input),\n",
    "        add_generation_prompt=True,\n",
    "        return_tensors = \"pt\").to(\"cuda\")\n",
    "    if not max_new_tokens:\n",
    "        max_new_tokens = model.config.max_position_embeddings - input_ids.shape[-1]\n",
    "    \n",
    "    output_ids = model.generate(input_ids, max_new_tokens=max_new_tokens, **kwargs)\n",
    "    result = tokenizer.batch_decode(output_ids)\n",
    "    processed_result = result[0].split(\"<|start_header_id|>assistant<|end_header_id|>\\n\\n\")[-1].split(\"<|eot_id|>\")[0]\n",
    "    return processed_result"
   ]
  },
  {
   "cell_type": "code",
   "execution_count": 5,
   "id": "1757c6e6",
   "metadata": {},
   "outputs": [],
   "source": [
    "def load_json(path:str, filename:str):\n",
    "    with open(os.path.join(path, filename), mode=\"r\", encoding=\"utf-8\") as f:\n",
    "        return json.load(f)\n",
    "    \n",
    "def format_example(example:dict, system_message):\n",
    "        formatted_example = [\n",
    "            {\"role\": \"assistant\", \"content\": system_message},\n",
    "            {\"role\": \"user\", \"content\": example[\"input\"]},\n",
    "            {\"role\": \"assistant\", \"content\": json.dumps(example[\"output\"])}\n",
    "        ]\n",
    "        return formatted_example"
   ]
  },
  {
   "cell_type": "code",
   "execution_count": null,
   "id": "7abbeda3",
   "metadata": {},
   "outputs": [],
   "source": [
    "test_path = \"/mnt/data/openCTI/splitted-io-pairs/test\"\n",
    "inputs = []\n",
    "outputs = []\n",
    "include_cti_type = [\"malware\"]\n",
    "\n",
    "for file in os.listdir(test_path):\n",
    "    cti_type = file.split(\"--\")[0]\n",
    "    if cti_type not in include_cti_type:\n",
    "        continue\n",
    "    example = load_json(test_path, file)\n",
    "    inputs.append(example[\"input\"])\n",
    "    outputs.append(example[\"output\"])"
   ]
  },
  {
   "cell_type": "code",
   "execution_count": 24,
   "id": "34b2216c",
   "metadata": {},
   "outputs": [
    {
     "name": "stdout",
     "output_type": "stream",
     "text": [
      "{'objects': [{'id': 'malware--BlueSky', 'type': 'malware', 'name': 'BlueSky', 'is_family': False}]}\n"
     ]
    }
   ],
   "source": [
    "print(outputs[3])"
   ]
  },
  {
   "cell_type": "code",
   "execution_count": 25,
   "id": "caf87972",
   "metadata": {},
   "outputs": [
    {
     "name": "stdout",
     "output_type": "stream",
     "text": [
      "{\"objects\": [{\"id\": \"malware--BlueSky\", \"type\": \"maleware\", \"name\": \"Bluesky\", \"is_family\": false}]}\n"
     ]
    }
   ],
   "source": [
    "system_message = sft_system_message\n",
    "user_input = inputs[3]\n",
    "inference(model,\n",
    "          system_message, \n",
    "          user_input, \n",
    "          max_new_tokens=None,\n",
    "          temperature=0.1,\n",
    "          top_p=0.6,\n",
    "          repetition_penalty=1.1,\n",
    "          no_repeat_ngram_size=3,\n",
    "          do_sample=True)"
   ]
  },
  {
   "cell_type": "code",
   "execution_count": 39,
   "id": "26f268cb",
   "metadata": {},
   "outputs": [],
   "source": [
    "system_message = sft_system_message\n",
    "user_input = inputs[3]\n",
    "\n",
    "pred = predict(model,\n",
    "        system_message, \n",
    "        user_input, \n",
    "        max_new_tokens=None,\n",
    "        temperature=0.1,\n",
    "        top_p=0.6,\n",
    "        repetition_penalty=1.1,\n",
    "        no_repeat_ngram_size=3,\n",
    "        do_sample=True)"
   ]
  },
  {
   "cell_type": "code",
   "execution_count": 52,
   "id": "0f2e29f4",
   "metadata": {},
   "outputs": [
    {
     "name": "stderr",
     "output_type": "stream",
     "text": [
      "100%|██████████| 200/200 [07:46<00:00,  2.33s/it]\n"
     ]
    }
   ],
   "source": [
    "preds = [predict(model,\n",
    "                 system_message,\n",
    "                 user_input,\n",
    "                 max_new_tokens=None,\n",
    "                 temperature=0.1,\n",
    "                 top_p=0.6,\n",
    "                 repetition_penalty=1.1,\n",
    "                 no_repeat_ngram_size=3,\n",
    "                 do_sample=True) for user_input in tqdm(inputs[:200])]"
   ]
  },
  {
   "cell_type": "code",
   "execution_count": 54,
   "id": "015dc09a",
   "metadata": {},
   "outputs": [
    {
     "name": "stdout",
     "output_type": "stream",
     "text": [
      "{\"objects\": [{\"id\": \"malware--Arid gopher\", \"type\": \"maleware\", \"name\": \"Arid gofer\", \"is_family\": false}, {\"id\": \"_malware__MicropsIA\", \"Type\": \"MALWARE\", \"Name\": \"Microps IA\", \"Is_family\": False}]}\n",
      "{\"objects\": [{\"id\": \"malware--BlackMagic\", \"type\": \"maleware\", \"name\": \"BlackMagic', 'is_family': false}]}\n",
      "{\"objects\": [{\"id\": \"malware--SpyNote\", \"type\": \"maleware\", \"name\": \"SpyNote', \"is_family\": false}]}\n",
      "{\"objects\": [{\"id\": \"malware--Zloader\", \"type\": \" malware\", \"name\": \"Zloader', \"is_family\": false}]}\n",
      "{\"objects\": [{\"id\": \"malware--MyKings\", \"type\": \"maleware\", \"name\": \"MyKins\", \"is_family\": false}, {\"id\": \"-malware-CosmicStrands\", \"title\": \"Cosmic Strands\", \"_type\": \"-object\", \"id\": \"\", \"type_: \"-malwares\", \"fields\": {}, \"is_folder\": false, \"is_template\": false}]}\n",
      "{\"objects\": [{\"id\": \"malware--Bahamute Spyware\", \"type\": \"maleware\", 'name': 'Bahamote Spyware', 'is_family': false}]}\n",
      "{\"objects\": [{\"id\": \"malware--GootKit\", \"type\": \"maleware\", \"name\": \"Gootkit\", \"is_family\": false}, {\"id\": \"_malware-Gootloader\", \"_type\": \"Maleware\", \"_name\": \"_Gootloader \", \"_is_family': false}]}\n",
      "{\"objects\": [{\"id\": \"malware--EmotEt\", \"type\\\": \"malWare\", \"name\": \"EmotET\", \"is_family\": false}, {\"id\": \"_malware---Cobolt Strike\", \"\ttype\": \"Malware\", \"\tname\": \"Cobble Strike\", \"_type\": \"MALWARE\", \".is_family\": False}]}\n",
      "{\"objects\": [{\"id\": \"malware--Bumblebee\", \"type\": \"maleware\", \"name\": \"Bumbelbee\", \"_type\": \"\"}, {\"id\": \"-malware-Cobalt Striker\", \"is_family\": false}, {\"type\": \"-family\", \"id\": null, \"name\", \"false\", \"value\": \"False\"}, {\"id\", \"true\", \"family\": false}]}\n",
      "{\"objects\": [{\"id\": \"malware--Tiger RAT\", \"type\": \"maleware\", \"name\": \"Tigar RAT\", \"_type\": \"[malware]\", \"is_family\": false}, {\"id\": \"_malware--[MagicRat]\", \"type': \"maleWARE\", \"isFamily\": false}]}\n",
      "{\"objects\": [{\"id\": \"malware--Calisto\", \"type\": \"maleware\", \"name\": \"Calisto', \"is_family\": false}]}\n",
      "{\"objects\": [{\"id\": \"malware--Invisibleferret\", \"type\": \" malware\", \"name\": \"InvisibleFERRET\", \"is_family\": false}, {\"id\": \"_malware-beavertale\", \"Type\": \"Malware\", \"Name\": \"BeavertalE\", \"Is_family\": False}]}\n",
      "{\"objects\": [{\"id\": \"malware--ClearFake\", \"type\": \"maleware\", \"name\": \"ClearFake', \"is_family\": false}, {\"id\": \"_malware-SocGhoulich\", \"Type\": \"Maleware\", \"_name\": \"_socghoulich\", \"_is_family':\": false}]}\n",
      "{\"objects\": [{\"id\": \"malware--Cl Wiper\", \"type\": \"maleware\", \"name\": \"Cl Wipper\", \"is_family\": false}, {\"id\": \"-malware-Bibi Wiper - Bibi Wiper (Linux)\", \"type':'malware', \"name': 'Bibi Wiprer - Bibiwiper (linux)', \"is family': false}]}\n",
      "{\"objects\": [{\"id\": \"malware--Stealerius\", \"type\": \" malware\", \"name\": \"Steailerius\", \"_is_family\": false}, {\"id\": \"_malware---engima_stealer\", \"\ttype\": \"MALWARE\", \"\tname\": \"-engima-stealer\", \"_-is_family\": False}]}\n",
      "{\"objects\": [{\"id\": \"malware--scanbox\", \"type\": \" malware\", \"name\": \"scanbox', 'is_family': false}]}\n",
      "{\"objects\": [{\"id\": \"malware--SPINNER\", \"type\": \" malware\", \"name\": \"SPINNER', \", \"is_family\": false}, {\"id\": \"_malware-Hodur\", \"_type\": \"Malware\", \"Name\": \"Hodur', \", \"_is_family': false},{\"id\": \"-malware-PlugX\", \"Type\": \"MALWARE\", \"NAME\": \"PlugX', \", \"__is_family'': false}]}\n",
      "{\"objects\": [{\"id\": \"malware--Putin Team\", \"type\": \"maleware\", \"name\": \"Putin Team', 'is_family': false}\", {\"id\": \"-malware-Putin Team\", \"_type\": \"-object\", \"is_family\": false}, {\"id':'malware-Meow\", \"typ':'maleware', \"nam': 'Meow', \"is_famil': false\"}, {\"id'': '-malware-meow\", \"_typ'': '-', \"is_fa': false}, {'id': \"malwar'-BlueSky\", \"ty': \"malewar'\", \"na': \"BlueSky'\", \"is_far': false}]}\n",
      "{\"objects\": [{\"id\": \"malware--Stuxnet\", \"type\": \"maleware\", \"name\": \"StuxNet\", \"is_family\": false}, {\"id\": \"-malware-W32.Stoxnet\", \"-type\": \"-maleware-\", \"-name\": \"-W32.Stoxxnet\", \"-\", \"is_famly\": false}]}\n",
      "{\"objects\": [{\"id\": \"malware--IcedId\", \"type\": \"maleware\", \"name\": \"Icedid\", \"is_family\": false}, {\"id\": \"-malware-Cobalt Strike\", \"Type\": \"Maleware\", \"_type\": \"-Malware\", \"-name\": \"-Cobalt\", \"-is_family': false}]}\n",
      "{\"objects\": [{\"id\": \"malware--LazaSpy\", \"type\": \" malware\", \"name\": \"LazaSpY\", \"is_family\": false}, {\"id\": \"_malware-dracaryS\", \"Type\": \"Malware\", \"Name\": \"Dracary\\u00dcs\", \"Is_family\": False}]}\n",
      "{\"objects\": [{\"id\": \"malware--Chisel\", \"type\": \"maleware\", \"name\": \"Chisel', \"is_family\": false}]}\n",
      "{\"objects\": [{\"id\": \"malware--KarkadAnn\", \"type\": \"maleware\", \"name\": \"Karkadan\", \"is_family\": false}, {\"id\": \"-malware-Candirù\", \"\"type\": \"malesware\", \"-name\": \"-Candìru\", \"Is_family\": \"false\"}]}\n",
      "{\"objects\": [{\"id\": \"malware--JSWorm\", \"type\": \"maleware\", \"name\": \"JSWORM\", \"is_family\": false}, {\"id\": \"-malware-Nokoyowa\", \"Type\": \"Maleware\", \"_type\": \"-Maleware-\", \"name\", \"NokoyaWa\", \"Is_family\", \"false\"}, {\"id\", \"malwar--Cobolt Strike\", \"typ\", \"malewar\", \"nam\", \"Coblt Strik\", \"i\", \"family\", \"False\"}]}\n",
      "{\"objects\": [{\"id\": \"malware--Ntospy\", \"type\": \"maleware\", \"name\": \"Ntosky\", \"is_family\": false}, {\"id\": \"-malware-Agent Racoon\", \"_type\": \"Maleware\", \"_name\": \"-Agent Raccoon\", \"Is_family\": False}]}\n",
      "{\"objects\": [{\"id\": \"malware--Ebury\", \"type\": \"maleware\", \"name\": \"Ebury', \"is_family\": false}]}\n",
      "{\"objects\": [{\"id\": \"malware--Vidar\", \"type\": \"maleware\", \"name\": \"Vidar', \"is_family\": false}]}\n",
      "{\"objects\": [{\"id\": \"malware--FPSpy\", \"type\": \"maleware\", \"name\": \"FPSpy', 'is_family': false}\", {\"id\": \"-malware-KLogEXe\", \"is_family\": false}]}\n",
      "{\"objects\": [{\"id\": \"malware--BatLoader\", \"type\": \"maleware\", \"name\": \"BatLoader', \", \"is_family\": false}, {\"id\": \"_malware-AgentTesla\", \"Type\": \"Maleware\", \"_name\": \"_Malware-AgentTesla\", \"_is_family': false}, {'id': '_malware-Mallox', 'Type': 'Maleware', '_name': '_Malware-MALLOX', '_is_family ': false}]}\n",
      "{\"objects\": [{\"id\": \"malware--EDRKillShifer\", \"type\": \"maleware\", \"name\": \"EDR Kill Shifer\", \"_type\": \"\"}, {\"id\": \"\", \"type\"\": \"maleWare\", \"is_family\": false}]}\n",
      "{\"objects\": [{\"id\": \"malware--ShadowPad\", \"type\": \"maleware\", \"name\": \"ShadowPad', \"is_family\": false}]}\n",
      "{\"objects\": [{\"id\": \"malware--BABADEDA\", \"type\": \"maleware\", \"name\": \"BABADEDa\", \"is_family\": false}, {\"id\": \"_malware__EternityStealer\", \"title\": \"Eterniy Stealer\", \"_type\": \"_object\", \"id\": \"\", \"type_: \"maleware\", \"names\": [\"Eternii Stealer\"], \"is_families\": [false]}, {\"id': \"malwaare--NFT-01\", \"tyoe\": \"maieare\", \"naae\": \"NFT-O1\", \"iis_faamily\": false}]}\n",
      "{\"objects\": [{\"id\": \"malware--Vidar\", \"type\": \"maleware\", \"name\": \"Vidar', \"is_family\": false}]}\n",
      "{\"objects\": [{\"id\": \"malware--PlayCrypt\", \"type\": \"maleware\", \"name\": \"PlayCrypt', 'is_family': false}]}\n",
      "{\"objects\": [{\"id\": \"malware--RedLine\", \"type\": \"maleware\", \".name\": \"RedLine\"}]}}\n",
      "{\"objects\": [{\"id\": \"-malware--Nokoyowa\", \"type\": \"malware\", \"name\": \"NokoyaWa\", \"is_family\": false}, {\"id\": \"--malware---DroxiDat\", \"-type\": \"Malware\", \"_name\": \"-DrohiDat\", \"_is_family': false}, {'id': '--malware----Cobolt Strike', 'type':'malware', '_name': '-Coblt Strike', '_is_family' : false}]}\n",
      "{\"objects\": [{\"id\": \"malware--AMOS\", \"type\": \"maleware\", \"name\": \"AMOS', 'is_family': false}\", {\"id\": \"-malware-Atomic\", \"is_family\": false}]}\n",
      "{\"objects\": [{\"id\": \"malware--XRed\", \"type\": \"maleware\", \"name\": \"XRed', \"is_family\": false}]}\n",
      "{\"objects\": [{\"id\": \"malware--JuicestealeR\", \"type\": \"maleware\", \"name\": \"JuicetealeR', \"is_family\": false}]}\n",
      "{\"objects\": [{\"id\": \"malware--Akira\", \"type\": \"maleware\", \"name\": \"Akira', 'is_family': false}\", {\"id\": \"_malware-HotRat\", \"is_family\": false}, {\"id\":\"malware-AsyncRAT\", \"typer\": \"Maleware\",  \"name\":\"AsyncRat\",\"is_family\":\"false\"}]}\n",
      "{\"objects\": [{\"id\": \"malware--GoldenDrive\", \"type\": \"maleware\", \"name\": \"GoldenDrive', \", \"is_family\": false}, {\"id\": \"_malware-GoldenMailer\", \"Type\": \"Maleware\", \"_name\": \"_GoldenMailer\", \"_is_family': \": false}, {'id': '_malware-JackalWORM', 'Type': 'Maleware', '_name': '_Jackalworm', '_is_family'': false},{'id': \"_malWARE-GoldeneAce\", \"TYPE\": \"MALEWARE\", \"_NAME\": \"_GoldeneAce'\", \"_IS_FAMILY'\": false},{ \"id\": '_malWARE--GoldenUsbgO', \"TYPE': \"MAleware\", '_NAME': \"_GoldenUsBGo'\", \"_is_FAMILY'': False}, {\"Id\": \"_MALWARE--goldenUsbCOPY\", \"TypeName\": \"MALWARE\", \"Name\": \"_goldenUsBCOPY\", \"IsFamily\": false}, {\"id\":\"malware---GoldenRobO\", \"typeName\": \"Malware\",  \"name\":\"GoldenRobOs\", \"isFamily\":false},{\"id\": \"-malware----GoldenHowL\", \"typename\": \"MaLware\", \"-name\": \"-GoldenHowls\", \"-is_family\"\": false}]}\n",
      "{\"objects\": [{\"id\": \"malware--QBot\", \"type\": \" malware\", \"name\": \"QBot', \"is_family\": false}]}\n",
      "{\"objects\": [{\"id\": \"malware--FatBoy\", \"type\": \" malware\", \"name\": \"FatBoy',\", \"is_family\": false}, {\"id\": \"_malware-YoreKey\", \"Type\": \"Malware\", \"Name\": \"Yorekey\", \"Is_family\": False}]}\n",
      "{\"objects\": [{\"id\": \"malware--LapLas Clipper\", \"type\": \"maleware\", \"name\": \"LapLaS Clipper', \"is_family\": false}]}\n",
      "{\"objects\": [{\"id\": \"malware--RomCom\", \"type\": \"maleware\", \"name\": \"RomCom', \"is_family\": false}]}\n",
      "{\"objects\": [{\"id\": \"malware--ShadowLadder\", \"type\": \"maleware\", \"name\": \"ShadowLaddle\", \"is_family\": false}, {\"id\": \"-malware-LumMac.V2\", \"id_type\": \"type--malware\", \"_type\": \"-object\", \"fields\": {}, \"name': \"LumMac V2\", \"_id\": \"\", \"is_deleted\": false}]}\n",
      "{\"objects\": [{\"id\": \"malware--Vidar\", \"type\": \"maleware\", \"name\": \"Vidar', \"is_family\": false}, {\"id\": \"-malware-Cobalt Strike\", \"isFamily\": false}]}\n",
      "{\"objects\": [{\"id\": \"malware--Maui\", \"type\": \"maleware\", \"name\": \"Maui', \"is_family\": false}, {\"id\": \"_malware__HolyGhost\", \"Type\": \"Maleware\", \"_type\": \"_object\", \"Name\": \"HolyGhost', \"Is_family\": False}, {\"Id\": \"Malware--DPRk\", \"_type\": \"MALWARE\", \"_name\": \"DPR-K\", \"isFamily\": false}]}\n",
      "{\"objects\": [{\"id\": \"malware--gh0st-S0032\", \"type\": \"maleware\", \"name\": \"gh0ST-S003\", \"is_family\": false}, {\"id\": \"-malware-PuppetLoader\", \"title\": \"Puppetloader\", \"description\": \"\", \"type':\": \"object\", \"maltype':': \"malWARE\", \"id':\": \"-maleware--Puppet Loader\", \"objects':\": []}, {\"type\":'malware', \"id\": '-malware-BasicLoader', \"name':\": 'BasicLoader', 'is_family':\": false}]}\n",
      "{\"objects\": [{\"id\": \"malWARE--Nikodoor\", \"type\": \"maleware\", \"name\": \"Nikodoor\", \"is_family\": false}, {\"id\": \"_malware--Endoor\", \"_type\": \"_maleware_\", \"name': \"Endoor', \"is\\_family\": false}]}\n",
      "{\"objects\": [{\"id\": \"malware--DarkCraks\", \"type\": \" malware\", \"name\": \"DarkCracs\", \"is_family\": false}, {\"id\": \"_malware__Quasar RAT\", \"_type\": \"Malware\", \"-name\": \"Quasar Rat\", \"Is_family\": False}]}\n",
      "{\"objects\": [{\"id\": \"malware--8Base\", \"type\": \" malware\", \"name\": \"8Base',\", \"is_family\": false}, {\"id\": \"_malware-smoke-loader\", \"-type\": \"Malware\", \"_name\": \"smoke-loader',\", \"_is_family\"): false},{\"id\": \"-malware-PhobOS\", \"atype\": \"MALWARE\", \"aname\": \"PhobOs\", \"_isis_family\": False}]}\n",
      "{\"objects\": [{\"id\": \"malware--Lucky Volunteer\", \"type\": \"maleware\", \"name\": \"Lucky Veteran\", \"is_family\": false}, {\"id\": \"_malware-Latrodectos\", \"Type\": \"Maleware\", \"_type\": \"_maleware-latrodectuos\", \"Name\": \"Latrodectous\", \"Is_family\": False}, {\"Id\": \"Malware--Brute Ratl C4\", \"TYPE\": \"MALWARE\", \"NAME\": \"Brute RATel C\", \"IS_FAMILY\": false}]}\n",
      "{\"objects\": [{\"id\": \"malware--Litterdrifer\", \"type\": \" malware\", \"name\": \"Litterdirfer\", \"is_family\": false}, {\"id\": \"_malware-deobfuscode\", \"\"type\": \"Malware\", \"\"name\": \"deobfuscodef\", \"\"is_family\": true}]}\n",
      "{\"objects\": [{\"id\": \"malware--BlackCat\", \"type\": \"maleware\", \"name\": \"BlackCat', 'is_family': false}, {\"id\": \"-malware-LockBit\", \"is_family\": false}]}\n",
      "{\"objects\": [{\"id\": \"malware--colorama\", \"type\": \"maleware\", \"name\": \"colorama', \"is_family\": false}]}\n",
      "{\"objects\": [{\"id\": \"malware--Get-Datainfo.ps2\", \"type': \"malWare\", \"name\": \"Get-Dateinfo.ps\", \"is_family\": false}, {\"id\":'malware---SystemBC', \"type ': \"malwaRe\", \"naMe \": \"-SystemBC\", \"Is_family \": false}, {'id':'malwaRes--RubeUs', \"tyPe ': \"maLwaRe', \"naMes': '-RubeUS', \"is_faMilY': false},{'id': \"maLaWaRe--SharPhound\", \"type': \"MaLaWaR\", \"Name': \"-SharPhount\", \"IS_family': false},{ \"id': \"'malware\"--BlackSuit\", \"typE': \"MALWARe\", 'name': \"-BlackSuit \", \"is_familY': False}, {\"type': 'MALWARE', \"id ': \"MALWARE--CobAlt Strike - s0154\", \"NaMe ': \"CobAlT Strike - So0154 \", \"Is_familys': false}]}\n",
      "{\"objects\": [{\"id\": \"malware--GLASSTOCKEN\", \"type': \"malWARE\", \"name\": \"GLASSTOPKEN\", \"is_family\": false}, {\"id\":'malware-GiftedVisitor', \"type ': \"malWare\", \"Name\": \"GiftedVisitor\", \"Is_family\": False}, {\"Id\": \"MALWARE--BushWalk\", \"Type\": \"Malware\", \"NAME\": \"BushWalk \", \"IS_family\": FALSE}, {\"ID\": \"MAlware--LightWire\", \"TYPE\": \"MaLware\", 'NAME': \"LightWire \", \"Is_Family\": FALSE }, {\"ID': \"MALware--ChainLine\", \"TYpe\": \"maLware', \"NAME': 'ChainLine ', \"Is_fAmily\": FALSE}]}\n",
      "{\"objects\": [{\"id\": \"malware--Qbot\", \"type\": \"maleware\", \"name\": \"Qbot', \"is_family\": false}, {\"id\": \"_malware__Emotet\", \"isFamily\": false}]}\n",
      "{\"objects\": [{\"id\": \"malware--powertrash\", \"type\": \"maleware\", \"name\": \"powertrash', \"is_family\": false}, {\"id\": \"_malware\"--diceloader\", \"family\": false, \"name\\\": \"diceloADER\", \"is.family\": false}]}\n",
      "{\"objects\": [{\"id\": \"-malware--Rok RAT\", \"type\": \"malware\", \"name': 'Rok Rat', \"is_family\": false}]}\n",
      "{\"objects\": [{\"id\": \"malware--Minas\", \"type\": \"maleware\", \"name\": \"Minas', \"is_family\": false}, {\"id\": \"-malware-Turla\", \"isFamily\": false, \"name\", \"Turla', \"type\", \"maleWare\"}, {\"id\", \"malWare--GopurAM\", \"IsFamily\", false, \",name\", \",GopuraM\", \"Type\", \"Maleware\"}]}\n",
      "{\"objects\": [{\"id\": \"malware--RemcosRat\", \"type\": \"maleware\", \"name\": \"Remcos Rat\", \"is_family\": false}, {\"id\": \"_malware-blottyquasar\", \"Type\": \"Maleware\", \"_type\": \"_maleware-blottychquasar_\", \"name': 'BlotcyQuasar', \"isFamily\": false\"}, {\"id': \"malwaare--QuasarRat', \"type': \"malemare\", \"naem': \"Quasar Rat\", 'isFamily': false'}, {\"id ': \"malwarre--AsyncRAT\", \"tyoe': \"maelware\", 'name': \"AsyncRat'\", \"isFamly': false\"}]}\n",
      "{\"objects\": [{\"id\": \"malware--IMEEX\", \"type\": \"maleware\", \"name\": \"IMEEX', \"is_family\": false}]}\n",
      "{\"objects\": [{\"id\": \"malware--Black-T\", \"type\": \" malware\", \"name\": \"Black-T', \", \"is_family\": false}, {\"id\": \"_malware-XMRig\", \"-type\": \"MALWARE\", \"Name\": \"XMRig', \", \"_is_family': false}]}\n",
      "{\"objects\": [{\"id\": \"malware--Lokibot\", \"type\": \"maleware\", \"name\": \"Lokilock\", \"is_family\": false}, {\"id\": \"-malware-Upatre\", \"Type\": \"Maleware\", \"--name\": \"--Upatre\", \"--is_family\"--: false},({\"id\": \"--malware-AgentTesla\", \"TYPE\": \"MALWARE\", \"--Name\": \"--AgentTesla\", \"--Is_family\": \"--false\"}, {\"id\":\"malware-Leonem\", \"typr\": \"maelware\", \"-name\": \"-Leonem\", \"-is_family\"-: false}]}\n"
     ]
    }
   ],
   "source": [
    "dict_preds = []\n",
    "for p in preds:\n",
    "    try:\n",
    "        dict_preds.append(json.loads(p))\n",
    "    except:\n",
    "        print(p)\n",
    "        dict_preds.append({})"
   ]
  },
  {
   "cell_type": "code",
   "execution_count": 26,
   "id": "9a64a0ae",
   "metadata": {},
   "outputs": [],
   "source": [
    "from evaluation.stix_evaluator import STIXEvaluator\n",
    "\n",
    "evaluator = STIXEvaluator(comparison_values=[\"id\"], cti_object_types=[\"malware\"])"
   ]
  },
  {
   "cell_type": "code",
   "execution_count": null,
   "id": "d24a3c53",
   "metadata": {},
   "outputs": [],
   "source": [
    "evaluator._evaluate_(predicted=dict_preds, actual=outputs)"
   ]
  },
  {
   "cell_type": "code",
   "execution_count": null,
   "id": "1c7c29ca",
   "metadata": {},
   "outputs": [],
   "source": []
  }
 ],
 "metadata": {
  "kernelspec": {
   "display_name": "venv",
   "language": "python",
   "name": "python3"
  },
  "language_info": {
   "codemirror_mode": {
    "name": "ipython",
    "version": 3
   },
   "file_extension": ".py",
   "mimetype": "text/x-python",
   "name": "python",
   "nbconvert_exporter": "python",
   "pygments_lexer": "ipython3",
   "version": "3.11.12"
  }
 },
 "nbformat": 4,
 "nbformat_minor": 5
}
