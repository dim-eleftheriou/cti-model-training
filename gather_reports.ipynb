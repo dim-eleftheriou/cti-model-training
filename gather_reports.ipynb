{
 "cells": [
  {
   "cell_type": "code",
   "execution_count": null,
   "id": "f0599d95",
   "metadata": {},
   "outputs": [
    {
     "name": "stderr",
     "output_type": "stream",
     "text": [
      "c:\\Users\\AIAS\\Documents\\cti-model-training\\venv-eda\\lib\\site-packages\\tqdm\\auto.py:21: TqdmWarning: IProgress not found. Please update jupyter and ipywidgets. See https://ipywidgets.readthedocs.io/en/stable/user_install.html\n",
      "  from .autonotebook import tqdm as notebook_tqdm\n"
     ]
    }
   ],
   "source": [
    "import os\n",
    "import ast\n",
    "import pandas as pd"
   ]
  },
  {
   "cell_type": "code",
   "execution_count": 2,
   "id": "5f48e0b6",
   "metadata": {},
   "outputs": [],
   "source": [
    "reports_references = pd.read_csv(\"data/opencti_reports_external_references.csv\")"
   ]
  },
  {
   "cell_type": "code",
   "execution_count": 3,
   "id": "7034dfe5",
   "metadata": {},
   "outputs": [],
   "source": [
    "references_dict = {\n",
    "    x[\"ID\"]: ast.literal_eval(x[\"Ext. Reference URLs\"])\n",
    "    for _, x in reports_references.iterrows()\n",
    "}"
   ]
  },
  {
   "cell_type": "code",
   "execution_count": null,
   "id": "8b4e4da9",
   "metadata": {},
   "outputs": [],
   "source": [
    "from docling.document_converter import DocumentConverter\n",
    "\n",
    "converter = DocumentConverter()\n",
    "\n",
    "def extract_report(source):\n",
    "    result = converter.convert(source)\n",
    "    return result.document.export_to_markdown()"
   ]
  },
  {
   "cell_type": "code",
   "execution_count": null,
   "id": "903583c0",
   "metadata": {},
   "outputs": [],
   "source": [
    "from selenium import webdriver\n",
    "from selenium.webdriver.common.by import By\n",
    "from selenium.webdriver.support.ui import Select\n",
    "from selenium.webdriver.support.ui import WebDriverWait\n",
    "from selenium.webdriver.support import expected_conditions as EC\n",
    "from bs4 import BeautifulSoup\n",
    "import time\n",
    "\n",
    "# 1. Initialize Selenium WebDriver (adjust path to your webdriver)\n",
    "driver = webdriver.Chrome()  # Or any other browser driver\n",
    "\n",
    "def extract_alienvault_report(url):\n",
    "    try:\n",
    "        # 2. Navigate to the webpage containing the table\n",
    "        driver.get(url)\n",
    "\n",
    "        # 3. Locate the <select> element that controls the number of items\n",
    "        select_element = WebDriverWait(driver, 10).until(\n",
    "            EC.presence_of_element_located((By.ID, \"count\"))  # Replace with the actual ID\n",
    "            # Or use other locators like By.NAME, By.XPATH, By.CSS_SELECTOR\n",
    "        )\n",
    "        item_selector = Select(select_element)\n",
    "\n",
    "        # 4. Select the desired number of items\n",
    "        desired_item_count = \"100\"  # Replace with the value you want to select (e.g., \"50\", \"All\")\n",
    "        item_selector.select_by_value(desired_item_count)  # Or select_by_visible_text() or select_by_index()\n",
    "\n",
    "        # 5. Wait for the table to load/update after the selection (important!)\n",
    "        WebDriverWait(driver, 10)\n",
    "        # .until(\n",
    "        #     EC.presence_of_element_located((By.XPATH, \"//table[@id='your_table_id']/tbody/tr\"))  # Adjust XPath to target a row in the table\n",
    "        # )\n",
    "        time.sleep(2)  # Add an extra small delay if needed for rendering\n",
    "\n",
    "        # 6. Get the updated HTML source\n",
    "        html_source = driver.page_source\n",
    "        soup = BeautifulSoup(html_source, 'html.parser')\n",
    "\n",
    "        # # 7. Locate and extract the table content using BeautifulSoup\n",
    "        table = soup.find(\"otx-table\")#, {'id': 'your_table_id'})  # Replace with the actual table ID\n",
    "    finally:\n",
    "        # 8. Close the browser\n",
    "        driver.quit()\n",
    "\n",
    "    "
   ]
  },
  {
   "cell_type": "code",
   "execution_count": null,
   "id": "2cb1c725",
   "metadata": {},
   "outputs": [
    {
     "name": "stderr",
     "output_type": "stream",
     "text": [
      "Input document IOCs-Spring4Shell.txt does not match any allowed format.\n",
      "Downloading detection model, please wait. This may take several minutes depending upon your network connection.\n",
      "Downloading recognition model, please wait. This may take several minutes depending upon your network connection.\n",
      "c:\\Users\\AIAS\\Documents\\cti-model-training\\venv-eda\\lib\\site-packages\\huggingface_hub\\file_download.py:144: UserWarning: `huggingface_hub` cache-system uses symlinks by default to efficiently store duplicated files but your machine does not support them in C:\\Users\\AIAS\\.cache\\huggingface\\hub\\models--ds4sd--docling-models. Caching files will still work but in a degraded version that might require more space on your disk. This warning can be disabled by setting the `HF_HUB_DISABLE_SYMLINKS_WARNING` environment variable. For more details, see https://huggingface.co/docs/huggingface_hub/how-to-cache#limitations.\n",
      "To support symlinks on Windows, you either need to activate Developer Mode or to run Python as an administrator. In order to activate developer mode, see this article: https://docs.microsoft.com/en-us/windows/apps/get-started/enable-your-device-for-development\n",
      "  warnings.warn(message)\n",
      "Error processing child from tag div: KeyError(-1)\n",
      "Error processing child from tag article: KeyError(-1)\n",
      "Error processing child from tag div: KeyError(-1)\n",
      "Error processing child from tag div: KeyError(-1)\n",
      "Error processing child from tag div: KeyError(-1)\n",
      "Error processing child from tag div: KeyError(-1)\n",
      "Error processing child from tag main: KeyError(-1)\n",
      "Error processing child from tag body: KeyError(-1)\n"
     ]
    },
    {
     "ename": "",
     "evalue": "",
     "output_type": "error",
     "traceback": [
      "\u001b[1;31mCannot execute code, session has been disposed. Please try restarting the Kernel."
     ]
    },
    {
     "ename": "",
     "evalue": "",
     "output_type": "error",
     "traceback": [
      "\u001b[1;31mCannot execute code, session has been disposed. Please try restarting the Kernel. \n",
      "\u001b[1;31mView Jupyter <a href='command:jupyter.viewOutput'>log</a> for further details."
     ]
    }
   ],
   "source": [
    "docs_dict = {}\n",
    "for k, v in references_dict.items():\n",
    "    doc = \"\"\n",
    "    for url in v:\n",
    "        try:\n",
    "            report = extract_report(url)\n",
    "        except Exception as e:\n",
    "            report = \"REPORT IS NOT EXTRACTED! Reason caused the failure:\\n\\n{e}\".format(\n",
    "                e = e\n",
    "            )\n",
    "        doc += \"External reference URL: {url}\\n\\nCTI REPORT\\n\\n{report}\\n\\n\".format(\n",
    "            url = url,\n",
    "            report = report\n",
    "        )\n",
    "    docs_dict.update({k:doc})\n",
    "    with open(os.path.join(\"data/reports_docling\", k), mode=\"w\", encoding=\"utf-8\") as f:\n",
    "        f.write(doc)"
   ]
  },
  {
   "cell_type": "code",
   "execution_count": 47,
   "id": "83136183",
   "metadata": {},
   "outputs": [],
   "source": [
    "#result.document.pictures"
   ]
  },
  {
   "cell_type": "code",
   "execution_count": 48,
   "id": "3dbef170",
   "metadata": {},
   "outputs": [
    {
     "data": {
      "text/plain": [
       "''"
      ]
     },
     "execution_count": 48,
     "metadata": {},
     "output_type": "execute_result"
    }
   ],
   "source": [
    "source = \"https://otx.alienvault.com/pulse/624c29baad734a210134b02c\"\n",
    "converter = DocumentConverter()\n",
    "result = converter.convert(source)\n",
    "result.document.export_to_markdown()"
   ]
  },
  {
   "cell_type": "code",
   "execution_count": 13,
   "id": "50822605",
   "metadata": {},
   "outputs": [],
   "source": [
    "from bs4 import BeautifulSoup\n",
    "from bs4.element import Tag\n",
    "from selenium import webdriver\n",
    "import requests\n",
    "import re\n",
    "import time\n",
    "\n",
    "def get_soup_object(url, dynamic=False):\n",
    "    if dynamic:\n",
    "        html_content = requests.get(url)\n",
    "        soup = BeautifulSoup(html_content.content, \"html.parser\")\n",
    "    else:\n",
    "        driver = webdriver.Chrome()\n",
    "        driver.get(url)\n",
    "        time.sleep(2)\n",
    "        html_content = driver.page_source\n",
    "        soup = BeautifulSoup(html_content, 'html.parser')\n",
    "        driver.quit()\n",
    "    return soup"
   ]
  },
  {
   "cell_type": "code",
   "execution_count": 14,
   "id": "c5e427e5",
   "metadata": {},
   "outputs": [],
   "source": [
    "soup = get_soup_object(source, dynamic=False)"
   ]
  },
  {
   "cell_type": "code",
   "execution_count": 49,
   "id": "071760f5",
   "metadata": {},
   "outputs": [
    {
     "name": "stdout",
     "output_type": "stream",
     "text": [
      "State-sponsored Attack Groups Capitalise on Russia-Ukraine War for Cyber Espionage\n"
     ]
    }
   ],
   "source": [
    "title = soup.find(\"h1\").get_text()\n",
    "print(title)"
   ]
  },
  {
   "cell_type": "code",
   "execution_count": 51,
   "id": "27f5976a",
   "metadata": {},
   "outputs": [
    {
     "name": "stdout",
     "output_type": "stream",
     "text": [
      "Created  3 years ago  Modified 3 years ago by AlienVault Public TLP:  White\n"
     ]
    }
   ],
   "source": [
    "metadata = soup.find(\"div\", class_=\"pulse-meta\").find('ul').get_text().strip()\n",
    "print(metadata)"
   ]
  },
  {
   "cell_type": "code",
   "execution_count": 50,
   "id": "079946a3",
   "metadata": {},
   "outputs": [
    {
     "name": "stdout",
     "output_type": "stream",
     "text": [
      "Tags: APT, spear-phishing, Ukraine, geopolitical conflict\n",
      "\n",
      "Adversary:  El Machete, SideWinder, Lyceum\n",
      "\n",
      "Industries:Maritime, Energy, Government, Financial\n",
      "\n",
      "Targeted Countries: Ukraine ,  Russian Federation\n",
      "\n",
      "Malware Families: Golang ,  SideWinder ,  Lyceum ,  El Machete\n",
      "\n",
      "Att&ck IDs: T1566 - Phishing ,  T1127 - Trusted Developer Utilities Proxy Execution ,  T1115 - Clipboard Data ,  T1056 - Input Capture ,  T1218 - Signed Binary Proxy Execution ,  T1203 - Exploitation for Client Execution ,  T1033 - System Owner/User Discovery ,  T1104 - Multi-Stage Channels ,  T1095 - Non-Application Layer Protocol ,  T1113 - Screen Capture ,  T1564 - Hide Artifacts ,  T1132 - Data Encoding ,  T1036 - Masquerading ,  T1140 - Deobfuscate/Decode Files or Information\n"
     ]
    }
   ],
   "source": [
    "contents = \"\\n\\n\".join(\n",
    "    [tag.get_text().strip() for tag in soup.find(\"div\", class_=\"pulse-general-details\").find_all(\"div\", class_=\"row col-md-12 col-flex detail-row ng-star-inserted\")]\n",
    ")\n",
    "print(contents)"
   ]
  },
  {
   "cell_type": "code",
   "execution_count": 45,
   "id": "d542c3f8",
   "metadata": {},
   "outputs": [
    {
     "name": "stdout",
     "output_type": "stream",
     "text": [
      "typeindicatorRoletitleAddedActiverelated Pulses\n",
      "IPv431.207.44.72command_and_controlPy/CannibalApr 5, 2022, 11:36:27 AM35\n",
      "domaincyberclub.onecommand_and_controlTA457Apr 5, 2022, 11:36:27 AM81\n",
      "FileHash-MD514d3040db6d97f13250c438e2acb64acratPy/CannibalApr 5, 2022, 11:36:27 AM8\n",
      "FileHash-SHA1c66d5875b5db70aad23c868449c3cabbf5d90d0fratPy/CannibalApr 5, 2022, 11:36:27 AM8\n",
      "FileHash-SHA256ed09da9d48afe918f9c7f72fe4466167e2f127a28a7641ba80d6165e82f48431ratPy/CannibalApr 5, 2022, 11:36:27 AM8\n",
      "FileHash-MD58199f14502e80581000bd5b3bda250eetrojanTA457, DeviousDroneApr 5, 2022, 11:36:27 AM18\n",
      "FileHash-MD5bcb465cc2257e5777bab431690ca5039trojanTA457, DeviousDroneApr 5, 2022, 11:36:27 AM10\n",
      "FileHash-MD5d79687676d2d152aec4143c852bdbc4atrojanTA457, DeviousDroneApr 5, 2022, 11:36:27 AM12\n",
      "FileHash-SHA10bc47b1044d1c795ab6cb9d51003e13ade567c6dtrojanTA457, DeviousDroneApr 5, 2022, 11:36:27 AM18\n",
      "FileHash-SHA15a0f97b4aa465f64e6d8f640c2ccb36b400fc68ctrojanTA457, DeviousDroneApr 5, 2022, 11:36:27 AM9\n"
     ]
    }
   ],
   "source": [
    "table_rows = soup.find(\"otx-table\").find_all(\"tr\")\n",
    "for tr in table_rows:\n",
    "    print(tr.get_text())"
   ]
  },
  {
   "cell_type": "code",
   "execution_count": 54,
   "id": "dae9efb5",
   "metadata": {},
   "outputs": [],
   "source": [
    "from selenium import webdriver\n",
    "from selenium.webdriver.common.by import By\n",
    "from selenium.webdriver.support.ui import Select\n",
    "from selenium.webdriver.support.ui import WebDriverWait\n",
    "from selenium.webdriver.support import expected_conditions as EC\n",
    "from bs4 import BeautifulSoup\n",
    "import time\n",
    "\n",
    "# 1. Initialize Selenium WebDriver (adjust path to your webdriver)\n",
    "driver = webdriver.Chrome()  # Or any other browser driver\n",
    "\n",
    "try:\n",
    "    # 2. Navigate to the webpage containing the table\n",
    "    url = source\n",
    "    driver.get(url)\n",
    "\n",
    "    # 3. Locate the <select> element that controls the number of items\n",
    "    select_element = WebDriverWait(driver, 10).until(\n",
    "        EC.presence_of_element_located((By.ID, \"count\"))  # Replace with the actual ID\n",
    "        # Or use other locators like By.NAME, By.XPATH, By.CSS_SELECTOR\n",
    "    )\n",
    "    item_selector = Select(select_element)\n",
    "\n",
    "    # 4. Select the desired number of items\n",
    "    desired_item_count = \"100\"  # Replace with the value you want to select (e.g., \"50\", \"All\")\n",
    "    item_selector.select_by_value(desired_item_count)  # Or select_by_visible_text() or select_by_index()\n",
    "\n",
    "    # 5. Wait for the table to load/update after the selection (important!)\n",
    "    WebDriverWait(driver, 10)\n",
    "    # .until(\n",
    "    #     EC.presence_of_element_located((By.XPATH, \"//table[@id='your_table_id']/tbody/tr\"))  # Adjust XPath to target a row in the table\n",
    "    # )\n",
    "    time.sleep(2)  # Add an extra small delay if needed for rendering\n",
    "\n",
    "    # 6. Get the updated HTML source\n",
    "    html_source = driver.page_source\n",
    "    soup = BeautifulSoup(html_source, 'html.parser')\n",
    "\n",
    "    # 7. Locate and extract the table content using BeautifulSoup\n",
    "    table = soup.find(\"otx-table\")#, {'id': 'your_table_id'})  # Replace with the actual table ID\n",
    "\n",
    "    # if table:\n",
    "    #     # Extract headers\n",
    "    #     headers = [th.text.strip() for th in table.find('thead').find_all('th')] if table.find('thead') else []\n",
    "\n",
    "    #     # Extract rows\n",
    "    #     rows = []\n",
    "    #     tbody = table.find('tbody')\n",
    "    #     if tbody:\n",
    "    #         for tr in tbody.find_all('tr'):\n",
    "    #             row_data = [td.text.strip() for td in tr.find_all('td')]\n",
    "    #             rows.append(row_data)\n",
    "\n",
    "    #     # Process the extracted data (headers and rows)\n",
    "    #     print(\"Headers:\", headers)\n",
    "    #     print(\"Rows:\", rows)\n",
    "    # else:\n",
    "    #     print(\"Table not found.\")\n",
    "\n",
    "finally:\n",
    "    # 8. Close the browser\n",
    "    driver.quit()"
   ]
  },
  {
   "cell_type": "code",
   "execution_count": 59,
   "id": "8bbf06ee",
   "metadata": {},
   "outputs": [],
   "source": [
    "table_rows = table.find_all(\"tr\")"
   ]
  },
  {
   "cell_type": "code",
   "execution_count": 60,
   "id": "9548ebed",
   "metadata": {},
   "outputs": [
    {
     "data": {
      "text/plain": [
       "<tr _ngcontent-apd-c167=\"\"><!-- --><th _ngcontent-apd-c167=\"\" class=\"clickable ng-star-inserted\" style=\"width: 115px;\"><div _ngcontent-apd-c167=\"\" class=\"column-header-container\"><div _ngcontent-apd-c167=\"\" class=\"clickable\">type</div><otx-table-sort-icon _ngcontent-apd-c167=\"\" _nghost-apd-c112=\"\"><div _ngcontent-apd-c112=\"\" class=\"sort-icon ng-star-inserted\"><!-- --><i _ngcontent-apd-c112=\"\" class=\"fa fa-sort ng-star-inserted\"></i><!-- --><!-- --></div><!-- --><!-- --></otx-table-sort-icon></div></th><!-- --><th _ngcontent-apd-c167=\"\" class=\"clickable ng-star-inserted\" style=\"width: 470px;\"><div _ngcontent-apd-c167=\"\" class=\"column-header-container\"><div _ngcontent-apd-c167=\"\" class=\"clickable\">indicator</div><otx-table-sort-icon _ngcontent-apd-c167=\"\" _nghost-apd-c112=\"\"><div _ngcontent-apd-c112=\"\" class=\"sort-icon ng-star-inserted\"><!-- --><i _ngcontent-apd-c112=\"\" class=\"fa fa-sort ng-star-inserted\"></i><!-- --><!-- --></div><!-- --><!-- --></otx-table-sort-icon></div></th><!-- --><th _ngcontent-apd-c167=\"\" class=\"clickable hidden-xs hidden-md hidden-sm ng-star-inserted\" style=\"width: 150px;\"><div _ngcontent-apd-c167=\"\" class=\"column-header-container\"><div _ngcontent-apd-c167=\"\" class=\"clickable\">Role</div><otx-table-sort-icon _ngcontent-apd-c167=\"\" _nghost-apd-c112=\"\"><div _ngcontent-apd-c112=\"\" class=\"sort-icon ng-star-inserted\"><!-- --><i _ngcontent-apd-c112=\"\" class=\"fa fa-sort ng-star-inserted\"></i><!-- --><!-- --></div><!-- --><!-- --></otx-table-sort-icon></div></th><!-- --><th _ngcontent-apd-c167=\"\" class=\"clickable hidden-xs hidden-md hidden-sm ng-star-inserted\" style=\"width: 30%;\"><div _ngcontent-apd-c167=\"\" class=\"column-header-container\"><div _ngcontent-apd-c167=\"\" class=\"clickable\">title</div><otx-table-sort-icon _ngcontent-apd-c167=\"\" _nghost-apd-c112=\"\"><div _ngcontent-apd-c112=\"\" class=\"sort-icon ng-star-inserted\"><!-- --><i _ngcontent-apd-c112=\"\" class=\"fa fa-sort ng-star-inserted\"></i><!-- --><!-- --></div><!-- --><!-- --></otx-table-sort-icon></div></th><!-- --><th _ngcontent-apd-c167=\"\" class=\"clickable hidden-xs hidden-md hidden-sm ng-star-inserted\" style=\"width: 150px;\"><div _ngcontent-apd-c167=\"\" class=\"column-header-container\"><div _ngcontent-apd-c167=\"\" class=\"clickable\">Added</div><otx-table-sort-icon _ngcontent-apd-c167=\"\" _nghost-apd-c112=\"\"><div _ngcontent-apd-c112=\"\" class=\"sort-icon ng-star-inserted\"><!-- --><i _ngcontent-apd-c112=\"\" class=\"fa fa-sort ng-star-inserted\"></i><!-- --><!-- --></div><!-- --><!-- --></otx-table-sort-icon></div></th><!-- --><th _ngcontent-apd-c167=\"\" class=\"clickable text-center hidden-xs hidden-md hidden-sm ng-star-inserted\" style=\"width: 70px;\"><div _ngcontent-apd-c167=\"\" class=\"column-header-container\"><div _ngcontent-apd-c167=\"\" class=\"clickable\">Active</div><otx-table-sort-icon _ngcontent-apd-c167=\"\" _nghost-apd-c112=\"\"><div _ngcontent-apd-c112=\"\" class=\"sort-icon ng-star-inserted\"><!-- --><i _ngcontent-apd-c112=\"\" class=\"fa fa-sort ng-star-inserted\"></i><!-- --><!-- --></div><!-- --><!-- --></otx-table-sort-icon></div></th><!-- --><th _ngcontent-apd-c167=\"\" class=\"text-center hidden-xs hidden-md hidden-sm ng-star-inserted\" style=\"width: 60px;\"><div _ngcontent-apd-c167=\"\" class=\"column-header-container\"><div _ngcontent-apd-c167=\"\" class=\"clickable\">related Pulses</div><otx-table-sort-icon _ngcontent-apd-c167=\"\" _nghost-apd-c112=\"\"><!-- --></otx-table-sort-icon></div></th><!-- --><th _ngcontent-apd-c167=\"\" class=\"hidden-xs ng-star-inserted\" style=\"width: 235px;\"><div _ngcontent-apd-c167=\"\" class=\"column-header-container\"><div _ngcontent-apd-c167=\"\" class=\"clickable\"></div><otx-table-sort-icon _ngcontent-apd-c167=\"\" _nghost-apd-c112=\"\"><!-- --></otx-table-sort-icon></div></th><!-- --><!-- --></tr>"
      ]
     },
     "execution_count": 60,
     "metadata": {},
     "output_type": "execute_result"
    }
   ],
   "source": [
    "table_rows[0]"
   ]
  },
  {
   "cell_type": "code",
   "execution_count": 68,
   "id": "a20f7f1a",
   "metadata": {},
   "outputs": [],
   "source": [
    "table_dict = {}\n",
    "for i, tr in enumerate(table_rows):\n",
    "    if i==0:\n",
    "        table_columns = []\n",
    "        for tag in tr.find_all(\"div\", class_=\"clickable\"):\n",
    "            table_dict.update({tag.get_text().strip():[]})\n",
    "            table_columns.append(tag.get_text().strip())\n",
    "    else:\n",
    "        for j, tag in enumerate(tr.find_all(\"td\", class_=\"ng-star-inserted\")):\n",
    "            k = table_columns[j]\n",
    "            table_dict[k].append(tag.get_text().strip())"
   ]
  },
  {
   "cell_type": "code",
   "execution_count": 72,
   "id": "e9cabd91",
   "metadata": {},
   "outputs": [
    {
     "data": {
      "text/plain": [
       "['',\n",
       " '',\n",
       " '',\n",
       " '',\n",
       " '',\n",
       " '',\n",
       " '',\n",
       " '',\n",
       " '',\n",
       " '',\n",
       " '',\n",
       " '',\n",
       " '',\n",
       " '',\n",
       " '',\n",
       " '',\n",
       " '',\n",
       " '',\n",
       " '',\n",
       " '',\n",
       " '',\n",
       " '',\n",
       " '',\n",
       " '',\n",
       " '',\n",
       " '',\n",
       " '',\n",
       " '',\n",
       " '',\n",
       " '',\n",
       " '',\n",
       " '',\n",
       " '',\n",
       " '',\n",
       " '',\n",
       " '',\n",
       " '',\n",
       " '',\n",
       " '',\n",
       " '',\n",
       " '',\n",
       " '',\n",
       " '',\n",
       " '',\n",
       " '',\n",
       " '',\n",
       " '',\n",
       " '',\n",
       " '',\n",
       " '',\n",
       " '',\n",
       " '',\n",
       " '',\n",
       " '',\n",
       " '',\n",
       " '',\n",
       " '',\n",
       " '',\n",
       " '',\n",
       " '',\n",
       " '',\n",
       " '',\n",
       " '',\n",
       " '',\n",
       " '',\n",
       " '',\n",
       " '',\n",
       " '',\n",
       " '',\n",
       " '',\n",
       " '',\n",
       " '',\n",
       " '',\n",
       " '',\n",
       " '',\n",
       " '',\n",
       " '',\n",
       " '',\n",
       " '',\n",
       " '',\n",
       " '',\n",
       " '',\n",
       " '',\n",
       " '',\n",
       " '',\n",
       " '',\n",
       " '',\n",
       " '',\n",
       " '',\n",
       " '',\n",
       " '',\n",
       " '',\n",
       " '',\n",
       " '',\n",
       " '']"
      ]
     },
     "execution_count": 72,
     "metadata": {},
     "output_type": "execute_result"
    }
   ],
   "source": [
    "table_dict.pop(\"\")"
   ]
  },
  {
   "cell_type": "code",
   "execution_count": 83,
   "id": "4c0e5517",
   "metadata": {},
   "outputs": [
    {
     "name": "stdout",
     "output_type": "stream",
     "text": [
      "                type                                                        indicator                 Role                                title                    Added               Active       related Pulses\n",
      "                IPv4                                                     31.207.44.72  command_and_control                          Py/Cannibal Apr 5, 2022, 11:36:27 AM                                        35\n",
      "              domain                                                    cyberclub.one  command_and_control                                TA457 Apr 5, 2022, 11:36:27 AM                                        81\n",
      "        FileHash-MD5                                 14d3040db6d97f13250c438e2acb64ac                  rat                          Py/Cannibal Apr 5, 2022, 11:36:27 AM                                         8\n",
      "       FileHash-SHA1                         c66d5875b5db70aad23c868449c3cabbf5d90d0f                  rat                          Py/Cannibal Apr 5, 2022, 11:36:27 AM                                         8\n",
      "     FileHash-SHA256 ed09da9d48afe918f9c7f72fe4466167e2f127a28a7641ba80d6165e82f48431                  rat                          Py/Cannibal Apr 5, 2022, 11:36:27 AM                                         8\n",
      "        FileHash-MD5                                 8199f14502e80581000bd5b3bda250ee               trojan                  TA457, DeviousDrone Apr 5, 2022, 11:36:27 AM                                        18\n",
      "        FileHash-MD5                                 bcb465cc2257e5777bab431690ca5039               trojan                  TA457, DeviousDrone Apr 5, 2022, 11:36:27 AM                                        10\n",
      "        FileHash-MD5                                 d79687676d2d152aec4143c852bdbc4a               trojan                  TA457, DeviousDrone Apr 5, 2022, 11:36:27 AM                                        12\n",
      "       FileHash-SHA1                         0bc47b1044d1c795ab6cb9d51003e13ade567c6d               trojan                  TA457, DeviousDrone Apr 5, 2022, 11:36:27 AM                                        18\n",
      "       FileHash-SHA1                         5a0f97b4aa465f64e6d8f640c2ccb36b400fc68c               trojan                  TA457, DeviousDrone Apr 5, 2022, 11:36:27 AM                                         9\n",
      "       FileHash-SHA1                         8f6a891d5de2afefc2c9c6ce2747fe6daedaefeb               trojan                  TA457, DeviousDrone Apr 5, 2022, 11:36:27 AM                                        10\n",
      "     FileHash-SHA256 5f0e0f0abc28ccc1911533fd035e984b4183eb9838bb41c1f6589de84a617ca6               trojan                  TA457, DeviousDrone Apr 5, 2022, 11:36:27 AM                                        10\n",
      "     FileHash-SHA256 ba73116c7cf6faf3aa97b497cf7472b2a115a3b5ad7ad85f7919ff81a1ff2b9a               trojan                  TA457, DeviousDrone Apr 5, 2022, 11:36:27 AM                                        18\n",
      "     FileHash-SHA256 d41fb37b5f32eb817801156d04df1384a2b9ad77deb6974ac73d212710e4f551               trojan                  TA457, DeviousDrone Apr 5, 2022, 11:36:27 AM                                        10\n",
      "                 CVE                                                   CVE-2017-11882                                                           Apr 5, 2022, 11:36:27 AM                                       997\n",
      "        FileHash-MD5                                 13814a190f61b36aff24d6aa1de56fe2                                                           Apr 5, 2022, 11:36:27 AM                                        20\n",
      "        FileHash-MD5                                 1a5489147a888c4f5f32e97ffcb01733                                                           Apr 5, 2022, 11:36:27 AM                                         9\n",
      "        FileHash-MD5                                 1c444ebeba24dcba8628b7dfe5fec7c6                                                           Apr 5, 2022, 11:36:27 AM                                         9\n",
      "        FileHash-MD5                                 214011a0d57b1d8238532be4f6414f58                                                           Apr 5, 2022, 11:36:27 AM                                         9\n",
      "        FileHash-MD5                                 23d174e6a0905fd59b2613d5ac106261                                                           Apr 5, 2022, 11:36:27 AM                                        10\n",
      "        FileHash-MD5                                 2adef8c6699b0791a7636e8071e434fa                                        MS_Visual_Cpp_2008 Apr 5, 2022, 11:36:27 AM                                         8\n",
      "        FileHash-MD5                                 2bc2abefc1a721908bc805894b62227d                                                           Apr 5, 2022, 11:36:27 AM                                         9\n",
      "        FileHash-MD5                                 37a1514a7a5f9b2c6786096129a30721                                                           Apr 5, 2022, 11:36:27 AM                                         9\n",
      "        FileHash-MD5                                 37fe608983d4b06a5549247f0e16bc11                                                           Apr 5, 2022, 11:36:27 AM                                         9\n",
      "        FileHash-MD5                                 53542ec51daf61fba2d26fe91b7d701f                                                           Apr 5, 2022, 11:36:27 AM                                         9\n",
      "        FileHash-MD5                                 5916e5189ef0050dfcc3cc19382d08d5                                                           Apr 5, 2022, 11:36:27 AM                                         9\n",
      "        FileHash-MD5                                 6aeca48c9090b301b3fdf9da4382c882                                                           Apr 5, 2022, 11:36:27 AM                                         9\n",
      "        FileHash-MD5                                 73bddd5f1a0847ae5f5d55e7d9c177f6                                                           Apr 5, 2022, 11:36:27 AM                                         9\n",
      "        FileHash-MD5                                 8044dc6078b003698d6e1cbbd22a9ea6                                                           Apr 5, 2022, 11:36:27 AM                                         9\n",
      "        FileHash-MD5                                 85ca334f87667bd7fa0c47ae6149353e                                                           Apr 5, 2022, 11:36:27 AM                                         9\n",
      "        FileHash-MD5                                 8b01dec07856a67db0e0d849bc84fd9e                                                           Apr 5, 2022, 11:36:27 AM                                        10\n",
      "        FileHash-MD5                                 8d51fbb90ad5942cd1a5a6534bd9d1d7                                                           Apr 5, 2022, 11:36:27 AM                                         9\n",
      "        FileHash-MD5                                 9fb86915db1b7c00f1a4587de4e052de                                                           Apr 5, 2022, 11:36:27 AM                                         9\n",
      "        FileHash-MD5                                 9fcad8f97eeae10f7a222eca94cb9a5f                                                           Apr 5, 2022, 11:36:27 AM                                         9\n",
      "        FileHash-MD5                                 a437f997d45bc14e76d0f2482f572a34                                                           Apr 5, 2022, 11:36:27 AM                                        10\n",
      "        FileHash-MD5                                 a5cdd225208381e2ecc6d820dce5c8b8                                                      LZMA Apr 5, 2022, 11:36:27 AM                                         8\n",
      "        FileHash-MD5                                 a5dbfd729b6fd64a6c4fd77a3e356989                                             GoLandBuildPE Apr 5, 2022, 11:36:27 AM                                         9\n",
      "        FileHash-MD5                                 bbc955b1289b4f90fdfb8906606597e9                                                SideWinder Apr 5, 2022, 11:36:27 AM                                        10\n",
      "        FileHash-MD5                                 c41ffcbd933039bb6981d05b4c4c673e                                                           Apr 5, 2022, 11:36:27 AM                                         9\n",
      "        FileHash-MD5                                 ce186cda677f0120cfdb308803b8e8d8                                                           Apr 5, 2022, 11:36:27 AM                                         9\n",
      "        FileHash-MD5                                 d962dd55fde800d972a156f5c63a6243                                                           Apr 5, 2022, 11:36:27 AM                                         9\n",
      "        FileHash-MD5                                 e03c7e3e8957ede592de07d3dca247b7                                                           Apr 5, 2022, 11:36:27 AM                                         9\n",
      "        FileHash-MD5                                 f3b395661cc663c1baad41b439622071                                                           Apr 5, 2022, 11:36:27 AM                                         9\n",
      "        FileHash-MD5                                 f72768f352994ecce3b9e5109fe93eec                                                           Apr 5, 2022, 11:36:27 AM                                         9\n",
      "        FileHash-MD5                                 f8c29040122cf892190bcf3665975d2f                                                           Apr 5, 2022, 11:36:27 AM                                         9\n",
      "        FileHash-MD5                                 f9fd9e32cb04c4fc93e65f48562ecad3                                                           Apr 5, 2022, 11:36:27 AM                                         9\n",
      "       FileHash-SHA1                         08fd3f4cdcb6e4c3cb28935c41781e5fe84bf0c6                                                           Apr 5, 2022, 11:36:27 AM                                        18\n",
      "       FileHash-SHA1                         4900ce4dbad498ed8245bbc5c1abadbf89180032                                                      LZMA Apr 5, 2022, 11:36:27 AM                                         8\n",
      "       FileHash-SHA1                         6811b418c052baec7e74260e36e6e3cd34b202b0                                                SideWinder Apr 5, 2022, 11:36:27 AM                                         8\n",
      "       FileHash-SHA1                         adf0479481869f31d9e691cec3dc96689dc5bee9                                        MS_Visual_Cpp_2008 Apr 5, 2022, 11:36:27 AM                                         8\n",
      "       FileHash-SHA1                         d65b0cbc3fab280d20c9c60e769e62041f3dd9b9                                             GoLandBuildPE Apr 5, 2022, 11:36:27 AM                                         9\n",
      "     FileHash-SHA256 221292a9f77f1a16fa0a7ed41b0eedbd312475dd9a5104c7923ed7889ea0f292                                                           Apr 5, 2022, 11:36:27 AM                                        19\n",
      "     FileHash-SHA256 4c22116b68732f8fe9e2fb5e56e9ff798f30805f9008e4f7a4be1e1c830162b8                                                           Apr 5, 2022, 11:36:27 AM                                         8\n",
      "     FileHash-SHA256 65e48c986d185d156999adc762d7bff84ddbf44851419d66c2985a2ccc2e072d                                                           Apr 5, 2022, 11:36:27 AM                                         8\n",
      "     FileHash-SHA256 7115580f8235a0bbce61e8af79c3ed5cbe46900912eb0765ccaee82213a9275e                                        MS_Visual_Cpp_2008 Apr 5, 2022, 11:36:27 AM                                         8\n",
      "     FileHash-SHA256 7ea7cae7dd6353831359179f4834ac4c2e9022659e205ca8506f372aad63f629                                                           Apr 5, 2022, 11:36:27 AM                                         8\n",
      "     FileHash-SHA256 8e1360cc27e95fc47924d9ba3ef84cb8fa9e142cfd16e1503c5277d0c16ae241                                                           Apr 5, 2022, 11:36:27 AM                                         8\n",
      "     FileHash-SHA256 907ccb541d0066d36701310e86e1d2b61448178d1d36f6748af0b3163ca273ac                                                           Apr 5, 2022, 11:36:27 AM                                         8\n",
      "     FileHash-SHA256 964f04355d636c596e9b622f589d87c5818aa0ac9666012ed62b7819d2220c7a                                             GoLandBuildPE Apr 5, 2022, 11:36:27 AM                                        10\n",
      "     FileHash-SHA256 96b33df5720901b4f2fc6fb810b6eca994fb8b2ff0edc0aa456195a7c9115615                                                           Apr 5, 2022, 11:36:27 AM                                         8\n",
      "     FileHash-SHA256 a26751cde843d44506ccece87d6347ede5071703bfd63fb12f8982eae7aaf3dd                                                           Apr 5, 2022, 11:36:27 AM                                         8\n",
      "     FileHash-SHA256 a5f0af1124f7abf06e712a2bfb4f1104ee0df179343020577959339617db69b3                                                           Apr 5, 2022, 11:36:27 AM                                         8\n",
      "     FileHash-SHA256 b9bf3e9725696331916e32e5936111e1166867b1d2d3ab05e46b9fff8679cf8f                                                           Apr 5, 2022, 11:36:27 AM                                         8\n",
      "     FileHash-SHA256 bb4b04eff1b5154d23b2636fc55222e4f27c654777f348edee47c920e457835e                                                           Apr 5, 2022, 11:36:27 AM                                         8\n",
      "     FileHash-SHA256 c6c794348d17d40c544487154ca72e8e6199b670f804ee25d7bcd9ff884d67b1                                                      LZMA Apr 5, 2022, 11:36:27 AM                                         8\n",
      "     FileHash-SHA256 ca4182fbaf3f02d9b428f7e851d5a679d6dcfceafabb245cff155b48d9c09307                                                           Apr 5, 2022, 11:36:27 AM                                         8\n",
      "     FileHash-SHA256 caac5087528dde6839481133737de12af973080184b2aa0b2eb35af88875adbb                                                           Apr 5, 2022, 11:36:27 AM                                         8\n",
      "     FileHash-SHA256 da81697353fe3238920a8c2c4cbbf25a298b3e3414f988ece0cf7afb73e3e0a5                                                           Apr 5, 2022, 11:36:27 AM                                         8\n",
      "     FileHash-SHA256 e27f75c4e4e74bff20270ec0f2bd41a4b54c121bcb811451a67c831dba1e4c03                                                           Apr 5, 2022, 11:36:27 AM                                         8\n",
      "     FileHash-SHA256 e2c67e495166be1b97134e67b2326e1b800d3d4d8dba4bc61fd3f8eb3a92d612                                                           Apr 5, 2022, 11:36:27 AM                                         8\n",
      "     FileHash-SHA256 e3718adaca6eafeba6ff171669210cb55a3b8babf3b78072cc513273b99a7639                                                           Apr 5, 2022, 11:36:27 AM                                         8\n",
      "     FileHash-SHA256 e60ea877d008e61cb625b4f8b2d712ce9289892f7e799dbb1030301e2db4b0ac                                                           Apr 5, 2022, 11:36:27 AM                                         8\n",
      "     FileHash-SHA256 ebbcc2075fcb0ba18d43475b8454c51b35bb65e1ed323b657ea7d9651e98074d                                                           Apr 5, 2022, 11:36:27 AM                                         8\n",
      "     FileHash-SHA256 f765b0b6e4a34eb95c6f0ddf058bc88d5ef9ec2b11a5f3504d1673f4f69aceca                                                SideWinder Apr 5, 2022, 11:36:27 AM                                         9\n",
      "                IPv4                                                    104.249.26.60                                                           Apr 5, 2022, 11:36:27 AM                                         9\n",
      "                IPv4                                                  185.243.112.136                                                           Apr 5, 2022, 11:36:27 AM                                         9\n",
      "                IPv4                                                   85.206.175.201                                                           Apr 5, 2022, 11:36:27 AM                                        10\n",
      "                 URL                                         http://31.207.44.72:8080                                                           Apr 5, 2022, 11:36:27 AM                                         5\n",
      "                 URL                                                  http://8.0.26.0                                                           Apr 5, 2022, 11:36:27 AM                                         4\n",
      "                 URL  https://correomindefensagobvemyspace.com/kolomenskoye/Adobe.msi                                                           Apr 5, 2022, 11:36:27 AM                                         5\n",
      "                 URL              https://solutionconect.online/uu2/x3/JavaOracle.msi                      ASCII text, with no line terminators Apr 5, 2022, 11:36:27 AM                                         5\n",
      "                YARA                                       lyceum_dotnet_dns_backdoor                                                           Apr 5, 2022, 11:36:27 AM                                         2\n",
      "                YARA                                                    ElMachete_msi                                                           Apr 5, 2022, 11:36:27 AM                                         2\n",
      "                YARA                                                    ElMachete_doc                                                           Apr 5, 2022, 11:36:27 AM                                         2\n",
      "                YARA                                      lyceum_dotnet_http_backdoor                                                           Apr 5, 2022, 11:36:27 AM                                         2\n",
      "                YARA                                           lyceum_golang_backdoor                                                           Apr 5, 2022, 11:36:27 AM                                         2\n",
      "              domain                                 correomindefensagobvemyspace.com                                                           Apr 5, 2022, 11:36:27 AM                                         8\n",
      "              domain                                                       kpt-pk.net                                                           Apr 5, 2022, 11:36:27 AM                                        12\n",
      "              domain                                                    main.download                                                           Apr 5, 2022, 11:36:27 AM                                         6\n",
      "              domain                                                news-reporter.xyz                                                           Apr 5, 2022, 11:36:27 AM                                        10\n",
      "              domain                                                   news-spot.live                                                           Apr 5, 2022, 11:36:27 AM                                        77\n",
      "              domain                                                    news-spot.xyz                                                           Apr 5, 2022, 11:36:27 AM                                        11\n",
      "              domain                                                science-news.live                                                           Apr 5, 2022, 11:36:27 AM                                        10\n",
      "              domain                                            solutionconect.online                                                           Apr 5, 2022, 11:36:27 AM                                         8\n",
      "            hostname                                      maritimepakistan.kpt-pk.net                                                           Apr 5, 2022, 11:36:27 AM                                        27\n"
     ]
    }
   ],
   "source": [
    "print(pd.DataFrame(table_dict).to_string(index=False, header=True, na_rep='--', col_space=20))"
   ]
  },
  {
   "cell_type": "code",
   "execution_count": 62,
   "id": "e198af82",
   "metadata": {},
   "outputs": [
    {
     "name": "stdout",
     "output_type": "stream",
     "text": [
      "type\n",
      "indicator\n",
      "Role\n",
      "title\n",
      "Added\n",
      "Active\n",
      "related Pulses\n",
      "\n"
     ]
    }
   ],
   "source": [
    "for tag in table_rows[0].find_all(\"div\", class_=\"clickable\"):\n",
    "    print(tag.get_text().strip())"
   ]
  },
  {
   "cell_type": "code",
   "execution_count": 64,
   "id": "60f86f37",
   "metadata": {},
   "outputs": [
    {
     "name": "stdout",
     "output_type": "stream",
     "text": [
      "IPv4\n",
      "31.207.44.72\n",
      "command_and_control\n",
      "Py/Cannibal\n",
      "Apr 5, 2022, 11:36:27 AM\n",
      "\n",
      "35\n",
      "\n"
     ]
    }
   ],
   "source": [
    "for tag in table_rows[1].find_all(\"td\", class_=\"ng-star-inserted\"):\n",
    "    print(tag.get_text().strip())"
   ]
  },
  {
   "cell_type": "code",
   "execution_count": 65,
   "id": "61f2d143",
   "metadata": {},
   "outputs": [
    {
     "data": {
      "text/plain": [
       "''"
      ]
     },
     "execution_count": 65,
     "metadata": {},
     "output_type": "execute_result"
    }
   ],
   "source": [
    "tag.get_text()"
   ]
  },
  {
   "cell_type": "code",
   "execution_count": null,
   "id": "ff8e61f1",
   "metadata": {},
   "outputs": [],
   "source": []
  }
 ],
 "metadata": {
  "kernelspec": {
   "display_name": "venv-eda",
   "language": "python",
   "name": "python3"
  },
  "language_info": {
   "codemirror_mode": {
    "name": "ipython",
    "version": 3
   },
   "file_extension": ".py",
   "mimetype": "text/x-python",
   "name": "python",
   "nbconvert_exporter": "python",
   "pygments_lexer": "ipython3",
   "version": "3.9.13"
  }
 },
 "nbformat": 4,
 "nbformat_minor": 5
}
