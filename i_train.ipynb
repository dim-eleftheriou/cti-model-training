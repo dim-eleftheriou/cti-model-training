{
 "cells": [
  {
   "cell_type": "code",
   "execution_count": null,
   "metadata": {},
   "outputs": [],
   "source": [
    "import warnings\n",
    "warnings.filterwarnings(\"ignore\")\n",
    "\n",
    "from unsloth import FastLanguageModel\n",
    "import torch\n",
    "\n",
    "from multiprocessing import cpu_count\n",
    "num_proc = cpu_count()\n",
    "\n",
    "import yaml\n",
    "\n",
    "from data_processor import SplittedJsonIoDataset\n",
    "from customs import customize_tokenizer\n",
    "\n",
    "from unsloth import UnslothTrainer, UnslothTrainingArguments\n",
    "\n",
    "from trl import SFTTrainer, DataCollatorForCompletionOnlyLM\n",
    "from transformers import TrainingArguments, DataCollatorForSeq2Seq, DataCollatorForLanguageModeling\n",
    "from unsloth import is_bfloat16_supported\n",
    "\n",
    "from unsloth.chat_templates import train_on_responses_only\n",
    "\n",
    "from unsloth import unsloth_train"
   ]
  },
  {
   "cell_type": "code",
   "execution_count": null,
   "metadata": {},
   "outputs": [],
   "source": [
    "with open(\"config.yaml\", \"r\") as f:\n",
    "    config = yaml.load(f, Loader=yaml.SafeLoader)\n",
    "\n",
    "model, tokenizer = FastLanguageModel.from_pretrained(\n",
    "    **config[\"model_loading_args\"]\n",
    ")\n",
    "\n",
    "model, tokenizer = customize_tokenizer(model, tokenizer, config)"
   ]
  },
  {
   "cell_type": "code",
   "execution_count": null,
   "metadata": {},
   "outputs": [],
   "source": [
    "# Create dataset for training\n",
    "dataset = SplittedJsonIoDataset(tokenizer, config[\"system_message\"]).create()"
   ]
  },
  {
   "cell_type": "code",
   "execution_count": null,
   "metadata": {},
   "outputs": [],
   "source": [
    "# Add LoRA weights\n",
    "model = FastLanguageModel.get_peft_model(\n",
    "    model=model,\n",
    "    **config[\"lora_parameters\"]\n",
    ")"
   ]
  },
  {
   "cell_type": "code",
   "execution_count": null,
   "metadata": {},
   "outputs": [],
   "source": [
    "# Select data collator\n",
    "if config[\"fine_tuning_args\"][\"training_type\"]==\"text_completion\":\n",
    "    _train_on_responses_only_bool = True\n",
    "    data_collator = DataCollatorForSeq2Seq(tokenizer=tokenizer)\n",
    "elif config[\"fine_tuning_args\"][\"training_type\"]==\"continued_pre_training\":\n",
    "    _train_on_responses_only_bool = False\n",
    "    data_collator = DataCollatorForLanguageModeling(tokenizer=tokenizer, mlm=False)\n",
    "else:\n",
    "    raise Exception(\"Wrong Training Type. Check config.yaml\")"
   ]
  },
  {
   "cell_type": "code",
   "execution_count": null,
   "metadata": {},
   "outputs": [],
   "source": [
    "# Initiate trainer\n",
    "trainer = UnslothTrainer(\n",
    "    model = model,\n",
    "    tokenizer = tokenizer,\n",
    "    train_dataset = dataset[\"train\"],\n",
    "    eval_dataset = dataset[\"eval\"],\n",
    "    data_collator = data_collator,\n",
    "    dataset_text_field = \"text\",\n",
    "    max_seq_length = config[\"model_loading_args\"][\"max_seq_length\"], # Used only when packing=True for creating a ConstantLengthDataset.\n",
    "    packing = config[\"sft_trainer_arguments\"][\"apply_packing\"],\n",
    "    dataset_num_proc = 1,\n",
    "    args = UnslothTrainingArguments(\n",
    "        fp16 = not is_bfloat16_supported(),\n",
    "        bf16 = is_bfloat16_supported(),\n",
    "        **config[\"training_arguments\"]\n",
    "    )\n",
    ")"
   ]
  },
  {
   "cell_type": "code",
   "execution_count": null,
   "metadata": {},
   "outputs": [],
   "source": [
    "# Wrap trainer for apply training using only the assistant part\n",
    "if _train_on_responses_only_bool:\n",
    "    trainer = train_on_responses_only(\n",
    "        trainer,\n",
    "        instruction_part = config[\"instruction_part\"],\n",
    "        response_part = config[\"response_part\"]\n",
    "    )"
   ]
  },
  {
   "cell_type": "code",
   "execution_count": null,
   "metadata": {},
   "outputs": [],
   "source": [
    "# Start training\n",
    "trainer_stats = unsloth_train(trainer)"
   ]
  },
  {
   "cell_type": "code",
   "execution_count": null,
   "metadata": {},
   "outputs": [],
   "source": [
    "trainer_stats"
   ]
  },
  {
   "cell_type": "code",
   "execution_count": null,
   "metadata": {},
   "outputs": [],
   "source": [
    "vars(trainer).keys()"
   ]
  },
  {
   "cell_type": "code",
   "execution_count": null,
   "metadata": {},
   "outputs": [],
   "source": [
    "trainer.state.log_history"
   ]
  },
  {
   "cell_type": "code",
   "execution_count": null,
   "metadata": {},
   "outputs": [],
   "source": []
  }
 ],
 "metadata": {
  "kernelspec": {
   "display_name": "venv",
   "language": "python",
   "name": "python3"
  },
  "language_info": {
   "codemirror_mode": {
    "name": "ipython",
    "version": 3
   },
   "file_extension": ".py",
   "mimetype": "text/x-python",
   "name": "python",
   "nbconvert_exporter": "python",
   "pygments_lexer": "ipython3",
   "version": "3.12.9"
  }
 },
 "nbformat": 4,
 "nbformat_minor": 2
}
