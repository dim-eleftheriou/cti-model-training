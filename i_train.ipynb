{
 "cells": [
  {
   "cell_type": "code",
   "execution_count": null,
   "metadata": {},
   "outputs": [
    {
     "name": "stdout",
     "output_type": "stream",
     "text": [
      "🦥 Unsloth: Will patch your computer to enable 2x faster free finetuning.\n",
      "🦥 Unsloth Zoo will now patch everything to make training faster!\n",
      "INFO 07-24 08:43:52 [__init__.py:244] Automatically detected platform cuda.\n"
     ]
    }
   ],
   "source": [
    "import warnings\n",
    "warnings.filterwarnings(\"ignore\")\n",
    "\n",
    "from pprint import pprint\n",
    "\n",
    "import os\n",
    "\n",
    "from unsloth import FastLanguageModel\n",
    "import torch\n",
    "\n",
    "from multiprocessing import cpu_count\n",
    "num_proc = cpu_count()\n",
    "\n",
    "import yaml\n",
    "\n",
    "from data_processor import SplittedJsonIoDataset\n",
    "from customs import customize_tokenizer\n",
    "\n",
    "from unsloth import UnslothTrainer, UnslothTrainingArguments\n",
    "\n",
    "from trl import SFTTrainer, DataCollatorForCompletionOnlyLM\n",
    "from transformers import TrainingArguments, DataCollatorForSeq2Seq, DataCollatorForLanguageModeling\n",
    "from unsloth import is_bfloat16_supported\n",
    "\n",
    "from unsloth.chat_templates import train_on_responses_only\n",
    "\n",
    "from unsloth import unsloth_train\n",
    "\n",
    "from utils import save_log_history"
   ]
  },
  {
   "cell_type": "code",
   "execution_count": 2,
   "metadata": {},
   "outputs": [],
   "source": [
    "# Clear GPU cache\n",
    "torch.cuda.empty_cache()"
   ]
  },
  {
   "cell_type": "code",
   "execution_count": 3,
   "metadata": {},
   "outputs": [
    {
     "name": "stdout",
     "output_type": "stream",
     "text": [
      "==((====))==  Unsloth 2025.6.8: Fast Llama patching. Transformers: 4.53.0. vLLM: 0.9.1.\n",
      "   \\\\   /|    NVIDIA H100 PCIe. Num GPUs = 1. Max memory: 79.19 GB. Platform: Linux.\n",
      "O^O/ \\_/ \\    Torch: 2.7.0+cu126. CUDA: 9.0. CUDA Toolkit: 12.6. Triton: 3.3.0\n",
      "\\        /    Bfloat16 = TRUE. FA [Xformers = 0.0.30. FA2 = False]\n",
      " \"-____-\"     Free license: http://github.com/unslothai/unsloth\n",
      "Unsloth: Fast downloading is enabled - ignore downloading bars which are red colored!\n",
      "\n",
      "Tokenizer has a built-in chat template.\n",
      "\n",
      "It follows an example of a formatted instruction using chat template. If instruction_part and\n",
      "    response_part have been defined in config.yaml, please verify their correctness.\n",
      "\n",
      "CHAT TEMPLATE\n",
      "\n",
      "<|begin_of_text|><|start_header_id|>system<|end_header_id|>\n",
      "\n",
      "Cutting Knowledge Date: December 2023\n",
      "Today Date: 26 Jul 2024\n",
      "\n",
      "<|eot_id|><|start_header_id|>assistant<|end_header_id|>\n",
      "\n",
      "SYSTEM MESSAGE PLACEHOLDER<|eot_id|><|start_header_id|>user<|end_header_id|>\n",
      "\n",
      "USER INPUT MESSAGE PLACEHOLDER<|eot_id|><|start_header_id|>assistant<|end_header_id|>\n",
      "\n",
      "MODEL RESPONSE MESSAGE PLACEHOLDER<|eot_id|>\n",
      "Pad token is already set to: <|finetune_right_pad_id|>\n",
      "Default padding side is left. It is forced to be on the right!\n"
     ]
    }
   ],
   "source": [
    "with open(\"config.yaml\", \"r\") as f:\n",
    "    config = yaml.load(f, Loader=yaml.SafeLoader)\n",
    "\n",
    "model, tokenizer = FastLanguageModel.from_pretrained(\n",
    "    **config[\"model_loading_args\"]\n",
    ")\n",
    "\n",
    "model, tokenizer = customize_tokenizer(model, tokenizer, config)"
   ]
  },
  {
   "cell_type": "code",
   "execution_count": 4,
   "metadata": {},
   "outputs": [
    {
     "name": "stdout",
     "output_type": "stream",
     "text": [
      "Model's context window: 131072\n"
     ]
    }
   ],
   "source": [
    "print(f\"Model's context window: {model.max_seq_length}\")"
   ]
  },
  {
   "cell_type": "code",
   "execution_count": 5,
   "metadata": {},
   "outputs": [
    {
     "data": {
      "application/vnd.jupyter.widget-view+json": {
       "model_id": "b2657be1b0ef4519b9d460a90341322d",
       "version_major": 2,
       "version_minor": 0
      },
      "text/plain": [
       "Filter:   0%|          | 0/1564 [00:00<?, ? examples/s]"
      ]
     },
     "metadata": {},
     "output_type": "display_data"
    },
    {
     "data": {
      "application/vnd.jupyter.widget-view+json": {
       "model_id": "1cdebe9180d1410bb796c2996d771d97",
       "version_major": 2,
       "version_minor": 0
      },
      "text/plain": [
       "Filter:   0%|          | 0/207 [00:00<?, ? examples/s]"
      ]
     },
     "metadata": {},
     "output_type": "display_data"
    }
   ],
   "source": [
    "# Create dataset for training\n",
    "dataset = SplittedJsonIoDataset(tokenizer, config).create()"
   ]
  },
  {
   "cell_type": "markdown",
   "metadata": {},
   "source": [
    "LoRA Config"
   ]
  },
  {
   "cell_type": "code",
   "execution_count": 25,
   "metadata": {},
   "outputs": [
    {
     "name": "stdout",
     "output_type": "stream",
     "text": [
      "{'bias': 'none',\n",
      " 'loftq_config': 'None',\n",
      " 'lora_alpha': 8,\n",
      " 'lora_dropout': 0,\n",
      " 'r': 8,\n",
      " 'target_modules': ['q_proj',\n",
      "                    'k_proj',\n",
      "                    'v_proj',\n",
      "                    'o_proj',\n",
      "                    'gate_proj',\n",
      "                    'up_proj',\n",
      "                    'down_proj',\n",
      "                    'lm_head',\n",
      "                    'embed_tokens'],\n",
      " 'use_gradient_checkpointing': 'unsloth',\n",
      " 'use_rslora': True}\n"
     ]
    }
   ],
   "source": [
    "pprint(config[\"lora_parameters\"])"
   ]
  },
  {
   "cell_type": "code",
   "execution_count": 26,
   "metadata": {},
   "outputs": [
    {
     "name": "stdout",
     "output_type": "stream",
     "text": [
      "Unsloth: Offloading input_embeddings to disk to save VRAM\n",
      "Unsloth: Offloading output_embeddings to disk to save VRAM\n"
     ]
    },
    {
     "name": "stderr",
     "output_type": "stream",
     "text": [
      "Unsloth 2025.6.8 patched 32 layers with 32 QKV layers, 32 O layers and 32 MLP layers.\n"
     ]
    },
    {
     "name": "stdout",
     "output_type": "stream",
     "text": [
      "Unsloth: Training embed_tokens in mixed precision to save VRAM\n",
      "Unsloth: Training lm_head in mixed precision to save VRAM\n"
     ]
    }
   ],
   "source": [
    "# Add LoRA weights\n",
    "model = FastLanguageModel.get_peft_model(\n",
    "    model=model,\n",
    "    **config[\"lora_parameters\"]\n",
    ")"
   ]
  },
  {
   "cell_type": "code",
   "execution_count": 27,
   "metadata": {},
   "outputs": [],
   "source": [
    "# Select data collator\n",
    "if config[\"fine_tuning_args\"][\"training_type\"]==\"text_completion\":\n",
    "    _train_on_responses_only_bool = True\n",
    "    data_collator = DataCollatorForSeq2Seq(tokenizer=tokenizer)\n",
    "elif config[\"fine_tuning_args\"][\"training_type\"]==\"continued_pre_training\":\n",
    "    _train_on_responses_only_bool = False\n",
    "    data_collator = DataCollatorForLanguageModeling(tokenizer=tokenizer, mlm=False)\n",
    "else:\n",
    "    raise Exception(\"Wrong Training Type. Check config.yaml\")"
   ]
  },
  {
   "cell_type": "markdown",
   "metadata": {},
   "source": [
    "Training Arguments"
   ]
  },
  {
   "cell_type": "code",
   "execution_count": 29,
   "metadata": {},
   "outputs": [
    {
     "name": "stdout",
     "output_type": "stream",
     "text": [
      "{'embedding_learning_rate': 5e-06,\n",
      " 'eval_accumulation_steps': 16,\n",
      " 'eval_strategy': 'steps',\n",
      " 'fp16_full_eval': True,\n",
      " 'gradient_accumulation_steps': 16,\n",
      " 'learning_rate': 5e-05,\n",
      " 'load_best_model_at_end': True,\n",
      " 'logging_steps': 1,\n",
      " 'logging_strategy': 'steps',\n",
      " 'lr_scheduler_type': 'cosine',\n",
      " 'metric_for_best_model': 'loss',\n",
      " 'num_train_epochs': 5,\n",
      " 'optim': 'adamw_8bit',\n",
      " 'output_dir': 'Llama-3.1-8B-Instruct-CTI-4BIT-ALL-MODULES',\n",
      " 'per_device_eval_batch_size': 1,\n",
      " 'per_device_train_batch_size': 1,\n",
      " 'report_to': 'tensorboard',\n",
      " 'save_strategy': 'best',\n",
      " 'save_total_limit': 1,\n",
      " 'seed': 1234,\n",
      " 'warmup_ratio': 0.1,\n",
      " 'weight_decay': 0.01}\n"
     ]
    }
   ],
   "source": [
    "pprint(config[\"training_arguments\"])"
   ]
  },
  {
   "cell_type": "code",
   "execution_count": 30,
   "metadata": {},
   "outputs": [
    {
     "data": {
      "application/vnd.jupyter.widget-view+json": {
       "model_id": "cf8f8a0e7d6b430caac2d12d5b51b5dc",
       "version_major": 2,
       "version_minor": 0
      },
      "text/plain": [
       "Unsloth: Tokenizing [\"text\"]:   0%|          | 0/1546 [00:00<?, ? examples/s]"
      ]
     },
     "metadata": {},
     "output_type": "display_data"
    },
    {
     "data": {
      "application/vnd.jupyter.widget-view+json": {
       "model_id": "e23277058b414ef9a2b0f65fce92be78",
       "version_major": 2,
       "version_minor": 0
      },
      "text/plain": [
       "Unsloth: Tokenizing [\"text\"]:   0%|          | 0/206 [00:00<?, ? examples/s]"
      ]
     },
     "metadata": {},
     "output_type": "display_data"
    }
   ],
   "source": [
    "# Initiate trainer\n",
    "trainer = UnslothTrainer(\n",
    "    model = model,\n",
    "    tokenizer = tokenizer,\n",
    "    train_dataset = dataset[\"train\"],\n",
    "    eval_dataset = dataset[\"eval\"],\n",
    "    data_collator = data_collator,\n",
    "    dataset_text_field = \"text\",\n",
    "    max_seq_length = config[\"model_loading_args\"][\"max_seq_length\"], # Used only when packing=True for creating a ConstantLengthDataset.\n",
    "    packing = config[\"sft_trainer_arguments\"][\"apply_packing\"],\n",
    "    dataset_num_proc = num_proc,\n",
    "    args = UnslothTrainingArguments(\n",
    "        fp16 = not is_bfloat16_supported(),\n",
    "        bf16 = is_bfloat16_supported(),\n",
    "        **config[\"training_arguments\"]\n",
    "    )\n",
    ")"
   ]
  },
  {
   "cell_type": "code",
   "execution_count": 31,
   "metadata": {},
   "outputs": [
    {
     "data": {
      "application/vnd.jupyter.widget-view+json": {
       "model_id": "5611304f87f8484bb75327ac0701fc04",
       "version_major": 2,
       "version_minor": 0
      },
      "text/plain": [
       "Map (num_proc=30):   0%|          | 0/1546 [00:00<?, ? examples/s]"
      ]
     },
     "metadata": {},
     "output_type": "display_data"
    },
    {
     "data": {
      "application/vnd.jupyter.widget-view+json": {
       "model_id": "fbdfb746ce1c4d91b60aa7e31c78b41e",
       "version_major": 2,
       "version_minor": 0
      },
      "text/plain": [
       "Map (num_proc=30):   0%|          | 0/206 [00:00<?, ? examples/s]"
      ]
     },
     "metadata": {},
     "output_type": "display_data"
    }
   ],
   "source": [
    "# Wrap trainer for apply training using only the assistant part\n",
    "if _train_on_responses_only_bool:\n",
    "    trainer = train_on_responses_only(\n",
    "        trainer,\n",
    "        instruction_part = config[\"instruction_part\"],\n",
    "        response_part = config[\"response_part\"]\n",
    "    )"
   ]
  },
  {
   "cell_type": "code",
   "execution_count": 32,
   "metadata": {},
   "outputs": [],
   "source": [
    "if config[\"early_stopping_patience\"]:\n",
    "    from transformers import EarlyStoppingCallback\n",
    "    early_stopping_callback = EarlyStoppingCallback(early_stopping_patience = config[\"early_stopping_patience\"])\n",
    "    trainer.add_callback(early_stopping_callback)"
   ]
  },
  {
   "cell_type": "code",
   "execution_count": null,
   "metadata": {},
   "outputs": [
    {
     "name": "stderr",
     "output_type": "stream",
     "text": [
      "==((====))==  Unsloth - 2x faster free finetuning | Num GPUs used = 1\n",
      "   \\\\   /|    Num examples = 1,546 | Num Epochs = 5 | Total steps = 485\n",
      "O^O/ \\_/ \\    Batch size per device = 1 | Gradient accumulation steps = 16\n",
      "\\        /    Data Parallel GPUs = 1 | Total batch size (1 x 16 x 1) = 16\n",
      " \"-____-\"     Trainable parameters = 1,071,644,672/8,000,000,000 (13.40% trained)\n"
     ]
    },
    {
     "name": "stdout",
     "output_type": "stream",
     "text": [
      "Unsloth: Setting lr = 5.00e-06 instead of 5.00e-05 for embed_tokens.\n",
      "Unsloth: Setting lr = 5.00e-06 instead of 5.00e-05 for lm_head.\n",
      "Unsloth: Will smartly offload gradients to save VRAM!\n"
     ]
    },
    {
     "data": {
      "text/html": [
       "\n",
       "    <div>\n",
       "      \n",
       "      <progress value='65' max='485' style='width:300px; height:20px; vertical-align: middle;'></progress>\n",
       "      [ 65/485 5:41:44 < 37:58:19, 0.00 it/s, Epoch 0.66/5]\n",
       "    </div>\n",
       "    <table border=\"1\" class=\"dataframe\">\n",
       "  <thead>\n",
       " <tr style=\"text-align: left;\">\n",
       "      <th>Step</th>\n",
       "      <th>Training Loss</th>\n",
       "      <th>Validation Loss</th>\n",
       "    </tr>\n",
       "  </thead>\n",
       "  <tbody>\n",
       "    <tr>\n",
       "      <td>1</td>\n",
       "      <td>0.317100</td>\n",
       "      <td>0.393374</td>\n",
       "    </tr>\n",
       "    <tr>\n",
       "      <td>2</td>\n",
       "      <td>0.171100</td>\n",
       "      <td>0.393353</td>\n",
       "    </tr>\n",
       "    <tr>\n",
       "      <td>3</td>\n",
       "      <td>0.729400</td>\n",
       "      <td>0.393321</td>\n",
       "    </tr>\n",
       "    <tr>\n",
       "      <td>4</td>\n",
       "      <td>0.152300</td>\n",
       "      <td>0.393247</td>\n",
       "    </tr>\n",
       "    <tr>\n",
       "      <td>5</td>\n",
       "      <td>0.902500</td>\n",
       "      <td>0.392893</td>\n",
       "    </tr>\n",
       "    <tr>\n",
       "      <td>6</td>\n",
       "      <td>0.499300</td>\n",
       "      <td>0.392486</td>\n",
       "    </tr>\n",
       "    <tr>\n",
       "      <td>7</td>\n",
       "      <td>0.728500</td>\n",
       "      <td>0.391692</td>\n",
       "    </tr>\n",
       "    <tr>\n",
       "      <td>8</td>\n",
       "      <td>0.622700</td>\n",
       "      <td>0.390827</td>\n",
       "    </tr>\n",
       "    <tr>\n",
       "      <td>9</td>\n",
       "      <td>0.769800</td>\n",
       "      <td>0.389365</td>\n",
       "    </tr>\n",
       "    <tr>\n",
       "      <td>10</td>\n",
       "      <td>0.428100</td>\n",
       "      <td>0.387127</td>\n",
       "    </tr>\n",
       "    <tr>\n",
       "      <td>11</td>\n",
       "      <td>0.787400</td>\n",
       "      <td>0.384076</td>\n",
       "    </tr>\n",
       "    <tr>\n",
       "      <td>12</td>\n",
       "      <td>0.249500</td>\n",
       "      <td>0.381100</td>\n",
       "    </tr>\n",
       "    <tr>\n",
       "      <td>13</td>\n",
       "      <td>0.242400</td>\n",
       "      <td>0.376940</td>\n",
       "    </tr>\n",
       "    <tr>\n",
       "      <td>14</td>\n",
       "      <td>0.723700</td>\n",
       "      <td>0.370871</td>\n",
       "    </tr>\n",
       "    <tr>\n",
       "      <td>15</td>\n",
       "      <td>0.709300</td>\n",
       "      <td>0.364105</td>\n",
       "    </tr>\n",
       "    <tr>\n",
       "      <td>16</td>\n",
       "      <td>0.162500</td>\n",
       "      <td>0.356992</td>\n",
       "    </tr>\n",
       "    <tr>\n",
       "      <td>17</td>\n",
       "      <td>0.849200</td>\n",
       "      <td>0.348619</td>\n",
       "    </tr>\n",
       "    <tr>\n",
       "      <td>18</td>\n",
       "      <td>0.421000</td>\n",
       "      <td>0.338893</td>\n",
       "    </tr>\n",
       "    <tr>\n",
       "      <td>19</td>\n",
       "      <td>0.198100</td>\n",
       "      <td>0.328075</td>\n",
       "    </tr>\n",
       "    <tr>\n",
       "      <td>20</td>\n",
       "      <td>0.165500</td>\n",
       "      <td>0.317988</td>\n",
       "    </tr>\n",
       "    <tr>\n",
       "      <td>21</td>\n",
       "      <td>0.357200</td>\n",
       "      <td>0.307744</td>\n",
       "    </tr>\n",
       "    <tr>\n",
       "      <td>22</td>\n",
       "      <td>0.407400</td>\n",
       "      <td>0.298549</td>\n",
       "    </tr>\n",
       "    <tr>\n",
       "      <td>23</td>\n",
       "      <td>0.652100</td>\n",
       "      <td>0.290154</td>\n",
       "    </tr>\n",
       "    <tr>\n",
       "      <td>24</td>\n",
       "      <td>0.361400</td>\n",
       "      <td>0.281546</td>\n",
       "    </tr>\n",
       "    <tr>\n",
       "      <td>25</td>\n",
       "      <td>0.167300</td>\n",
       "      <td>0.273743</td>\n",
       "    </tr>\n",
       "    <tr>\n",
       "      <td>26</td>\n",
       "      <td>0.233900</td>\n",
       "      <td>0.266140</td>\n",
       "    </tr>\n",
       "    <tr>\n",
       "      <td>27</td>\n",
       "      <td>0.173700</td>\n",
       "      <td>0.258963</td>\n",
       "    </tr>\n",
       "    <tr>\n",
       "      <td>28</td>\n",
       "      <td>0.155000</td>\n",
       "      <td>0.251639</td>\n",
       "    </tr>\n",
       "    <tr>\n",
       "      <td>29</td>\n",
       "      <td>0.314400</td>\n",
       "      <td>0.243524</td>\n",
       "    </tr>\n",
       "    <tr>\n",
       "      <td>30</td>\n",
       "      <td>0.199400</td>\n",
       "      <td>0.235036</td>\n",
       "    </tr>\n",
       "    <tr>\n",
       "      <td>31</td>\n",
       "      <td>0.291500</td>\n",
       "      <td>0.226668</td>\n",
       "    </tr>\n",
       "    <tr>\n",
       "      <td>32</td>\n",
       "      <td>0.179500</td>\n",
       "      <td>0.218713</td>\n",
       "    </tr>\n",
       "    <tr>\n",
       "      <td>33</td>\n",
       "      <td>0.120400</td>\n",
       "      <td>0.211830</td>\n",
       "    </tr>\n",
       "    <tr>\n",
       "      <td>34</td>\n",
       "      <td>0.289200</td>\n",
       "      <td>0.205412</td>\n",
       "    </tr>\n",
       "    <tr>\n",
       "      <td>35</td>\n",
       "      <td>0.144400</td>\n",
       "      <td>0.199131</td>\n",
       "    </tr>\n",
       "    <tr>\n",
       "      <td>36</td>\n",
       "      <td>0.170000</td>\n",
       "      <td>0.193384</td>\n",
       "    </tr>\n",
       "    <tr>\n",
       "      <td>37</td>\n",
       "      <td>0.138700</td>\n",
       "      <td>0.187881</td>\n",
       "    </tr>\n",
       "    <tr>\n",
       "      <td>38</td>\n",
       "      <td>0.121100</td>\n",
       "      <td>0.182764</td>\n",
       "    </tr>\n",
       "    <tr>\n",
       "      <td>39</td>\n",
       "      <td>0.116800</td>\n",
       "      <td>0.177578</td>\n",
       "    </tr>\n",
       "    <tr>\n",
       "      <td>40</td>\n",
       "      <td>0.183500</td>\n",
       "      <td>0.172758</td>\n",
       "    </tr>\n",
       "    <tr>\n",
       "      <td>41</td>\n",
       "      <td>0.232800</td>\n",
       "      <td>0.168002</td>\n",
       "    </tr>\n",
       "    <tr>\n",
       "      <td>42</td>\n",
       "      <td>0.130500</td>\n",
       "      <td>0.163071</td>\n",
       "    </tr>\n",
       "    <tr>\n",
       "      <td>43</td>\n",
       "      <td>0.109500</td>\n",
       "      <td>0.158134</td>\n",
       "    </tr>\n",
       "    <tr>\n",
       "      <td>44</td>\n",
       "      <td>0.121800</td>\n",
       "      <td>0.152950</td>\n",
       "    </tr>\n",
       "    <tr>\n",
       "      <td>45</td>\n",
       "      <td>0.114800</td>\n",
       "      <td>0.147399</td>\n",
       "    </tr>\n",
       "    <tr>\n",
       "      <td>46</td>\n",
       "      <td>0.091400</td>\n",
       "      <td>0.141594</td>\n",
       "    </tr>\n",
       "    <tr>\n",
       "      <td>47</td>\n",
       "      <td>0.163700</td>\n",
       "      <td>0.135732</td>\n",
       "    </tr>\n",
       "    <tr>\n",
       "      <td>48</td>\n",
       "      <td>0.107700</td>\n",
       "      <td>0.129932</td>\n",
       "    </tr>\n",
       "    <tr>\n",
       "      <td>49</td>\n",
       "      <td>0.106600</td>\n",
       "      <td>0.124003</td>\n",
       "    </tr>\n",
       "    <tr>\n",
       "      <td>50</td>\n",
       "      <td>0.070600</td>\n",
       "      <td>0.118336</td>\n",
       "    </tr>\n",
       "    <tr>\n",
       "      <td>51</td>\n",
       "      <td>0.067000</td>\n",
       "      <td>0.112949</td>\n",
       "    </tr>\n",
       "    <tr>\n",
       "      <td>52</td>\n",
       "      <td>0.078600</td>\n",
       "      <td>0.107603</td>\n",
       "    </tr>\n",
       "    <tr>\n",
       "      <td>53</td>\n",
       "      <td>0.103400</td>\n",
       "      <td>0.102387</td>\n",
       "    </tr>\n",
       "    <tr>\n",
       "      <td>54</td>\n",
       "      <td>0.102700</td>\n",
       "      <td>0.097829</td>\n",
       "    </tr>\n",
       "    <tr>\n",
       "      <td>55</td>\n",
       "      <td>0.084400</td>\n",
       "      <td>0.093675</td>\n",
       "    </tr>\n",
       "    <tr>\n",
       "      <td>56</td>\n",
       "      <td>0.076000</td>\n",
       "      <td>0.088983</td>\n",
       "    </tr>\n",
       "    <tr>\n",
       "      <td>57</td>\n",
       "      <td>0.058300</td>\n",
       "      <td>0.084821</td>\n",
       "    </tr>\n",
       "    <tr>\n",
       "      <td>58</td>\n",
       "      <td>0.075000</td>\n",
       "      <td>0.081001</td>\n",
       "    </tr>\n",
       "    <tr>\n",
       "      <td>59</td>\n",
       "      <td>0.059700</td>\n",
       "      <td>0.076642</td>\n",
       "    </tr>\n",
       "    <tr>\n",
       "      <td>60</td>\n",
       "      <td>0.114600</td>\n",
       "      <td>0.072707</td>\n",
       "    </tr>\n",
       "    <tr>\n",
       "      <td>61</td>\n",
       "      <td>0.073100</td>\n",
       "      <td>0.070078</td>\n",
       "    </tr>\n",
       "    <tr>\n",
       "      <td>62</td>\n",
       "      <td>0.067900</td>\n",
       "      <td>0.067336</td>\n",
       "    </tr>\n",
       "    <tr>\n",
       "      <td>63</td>\n",
       "      <td>0.053500</td>\n",
       "      <td>0.065443</td>\n",
       "    </tr>\n",
       "  </tbody>\n",
       "</table><p>\n",
       "    <div>\n",
       "      \n",
       "      <progress value='106' max='206' style='width:300px; height:20px; vertical-align: middle;'></progress>\n",
       "      [106/206 02:18 < 02:11, 0.76 it/s]\n",
       "    </div>\n",
       "    "
      ],
      "text/plain": [
       "<IPython.core.display.HTML object>"
      ]
     },
     "metadata": {},
     "output_type": "display_data"
    },
    {
     "name": "stderr",
     "output_type": "stream",
     "text": [
      "Unsloth: Not an error, but LlamaForCausalLM does not accept `num_items_in_batch`.\n",
      "Using gradient accumulation will be very slightly less accurate.\n",
      "Read more on gradient accumulation issues here: https://unsloth.ai/blog/gradient\n"
     ]
    }
   ],
   "source": [
    "# Start training\n",
    "trainer_stats = unsloth_train(trainer)"
   ]
  },
  {
   "cell_type": "code",
   "execution_count": null,
   "metadata": {},
   "outputs": [],
   "source": [
    "save_log_history(trainer)"
   ]
  },
  {
   "cell_type": "code",
   "execution_count": null,
   "metadata": {},
   "outputs": [],
   "source": [
    "!sudo mkdir /mnt/data/training-outputs/Llama-3.1-8B-Instruct-CTI-4BIT-ALL-MODULES\n",
    "!sudo cp -r Llama-3.1-8B-Instruct-CTI-4BIT-ALL-MODULES /mnt/data/training-outputs/Llama-3.1-8B-Instruct-CTI-4BIT-ALL-MODULES\n",
    "!sudo cp -r log_history /mnt/data/training-outputs/Llama-3.1-8B-Instruct-CTI-4BIT-ALL-MODULES\n",
    "!ls /mnt/data/training-outputs/Llama-3.1-8B-Instruct-CTI-4BIT-ALL-MODULES"
   ]
  },
  {
   "cell_type": "code",
   "execution_count": null,
   "metadata": {},
   "outputs": [],
   "source": [
    "from transformers import TextStreamer\n",
    "\n",
    "FastLanguageModel.for_inference(model)\n",
    "text_streamer = TextStreamer(tokenizer, skip_prompt=True, skip_special_tokens=True)\n",
    "\n",
    "def format_input_prompt(system_message, user_input):\n",
    "    formatted_input = [\n",
    "        {\"role\": \"assistant\", \"content\": system_message},\n",
    "        {\"role\": \"user\", \"content\": user_input}\n",
    "    ]\n",
    "    return formatted_input\n",
    "\n",
    "def format_validation_example_for_inference(example):\n",
    "    return example.split(\"<|start_header_id|>user<|end_header_id|>\")[1].split(\"<|eot_id|><|start_header_id|>assistant<|end_header_id|>\")[0]\n",
    "\n",
    "def inference(model, system_message, user_input, max_new_tokens=None, **kwargs):\n",
    "    input_ids = tokenizer.apply_chat_template(\n",
    "        format_input_prompt(system_message, user_input),\n",
    "        add_generation_prompt=True,\n",
    "        return_tensors = \"pt\").to(\"cuda\")\n",
    "    if not max_new_tokens:\n",
    "        max_new_tokens = model.config.max_position_embeddings - input_ids.shape[-1]\n",
    "    model.generate(input_ids, streamer = text_streamer, max_new_tokens=max_new_tokens, **kwargs)"
   ]
  },
  {
   "cell_type": "code",
   "execution_count": null,
   "metadata": {},
   "outputs": [],
   "source": [
    "system_message = \"\"\n",
    "user_input = \"Hello! How are you?\"\n",
    "inference(model, system_message, user_input, max_new_tokens=100)"
   ]
  },
  {
   "cell_type": "code",
   "execution_count": null,
   "metadata": {},
   "outputs": [],
   "source": [
    "system_message = config[\"system_message\"]\n",
    "user_input = format_validation_example_for_inference(dataset[\"eval\"][\"text\"][134])\n",
    "inference(model,\n",
    "          system_message, \n",
    "          user_input, \n",
    "          max_new_tokens=None,\n",
    "          temperature=0.7,\n",
    "          top_p=0.6,\n",
    "          repetition_penalty=1.1,\n",
    "          no_repeat_ngram_size=3,\n",
    "          do_sample=True)"
   ]
  }
 ],
 "metadata": {
  "kernelspec": {
   "display_name": "venv",
   "language": "python",
   "name": "python3"
  },
  "language_info": {
   "codemirror_mode": {
    "name": "ipython",
    "version": 3
   },
   "file_extension": ".py",
   "mimetype": "text/x-python",
   "name": "python",
   "nbconvert_exporter": "python",
   "pygments_lexer": "ipython3",
   "version": "3.11.12"
  }
 },
 "nbformat": 4,
 "nbformat_minor": 2
}
