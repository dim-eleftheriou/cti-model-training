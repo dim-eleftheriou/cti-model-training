{
 "cells": [
  {
   "cell_type": "code",
   "execution_count": 1,
   "id": "9ad9e0cb",
   "metadata": {},
   "outputs": [],
   "source": [
    "import os\n",
    "import re\n",
    "import json\n",
    "from tqdm import tqdm\n",
    "from langchain_ollama.llms import OllamaLLM"
   ]
  },
  {
   "cell_type": "code",
   "execution_count": 2,
   "id": "b0ceed8b",
   "metadata": {},
   "outputs": [],
   "source": [
    "sft_system_message = \"\"\"You are an AI Security Analyst in Cyberthreat Intelligence (CTI). \n",
    "                    Your task is to identify all malwares referenced or implied in a CTI report. \n",
    "                    You MUST return a json with a field \"objects\" being a list of json objects \n",
    "                    that describe malwares.\n",
    "                    To describe a malware you should provide the fields id, type, name and is_family.\n",
    "                    Instead of using UUID in the id field, use the rule type--name for generating ids.\n",
    "                    If no malwares are identified return a json with an empty list \"objects\".\n",
    "                    Identify all malwares in the folowing CTI report: \"\"\""
   ]
  },
  {
   "cell_type": "code",
   "execution_count": 3,
   "id": "334518d0",
   "metadata": {},
   "outputs": [],
   "source": [
    "def load_json(path:str, filename:str):\n",
    "    with open(os.path.join(path, filename), mode=\"r\", encoding=\"utf-8\") as f:\n",
    "        return json.load(f)\n",
    "    \n",
    "def format_example(example:dict, system_message):\n",
    "        formatted_example = [\n",
    "            {\"role\": \"assistant\", \"content\": system_message},\n",
    "            {\"role\": \"user\", \"content\": example[\"input\"]},\n",
    "            {\"role\": \"assistant\", \"content\": json.dumps(example[\"output\"])}\n",
    "        ]\n",
    "        return formatted_example"
   ]
  },
  {
   "cell_type": "code",
   "execution_count": 4,
   "id": "bff6b60b",
   "metadata": {},
   "outputs": [],
   "source": [
    "test_path = \"/mnt/data/openCTI/splitted-io-pairs/test\"\n",
    "inputs = []\n",
    "outputs = []\n",
    "include_cti_type = [\"malware\"]\n",
    "\n",
    "for file in os.listdir(test_path):\n",
    "    cti_type = file.split(\"--\")[0]\n",
    "    if cti_type not in include_cti_type:\n",
    "        continue\n",
    "    example = load_json(test_path, file)\n",
    "    inputs.append(example[\"input\"])\n",
    "    outputs.append(example[\"output\"])"
   ]
  },
  {
   "cell_type": "code",
   "execution_count": 5,
   "id": "3a67d6a8",
   "metadata": {},
   "outputs": [],
   "source": [
    "model = OllamaLLM(model=\"gpt-oss:120b\",\n",
    "                  num_ctx=128000,\n",
    "                  num_predict=5000)"
   ]
  },
  {
   "cell_type": "code",
   "execution_count": 7,
   "id": "381a0d47",
   "metadata": {},
   "outputs": [
    {
     "name": "stderr",
     "output_type": "stream",
     "text": [
      "100%|██████████| 307/307 [57:21<00:00, 11.21s/it] \n"
     ]
    }
   ],
   "source": [
    "preds = [model.invoke(sft_system_message + user_input) for user_input in tqdm(inputs)]"
   ]
  },
  {
   "cell_type": "code",
   "execution_count": 8,
   "id": "2e0cee0f",
   "metadata": {},
   "outputs": [],
   "source": [
    "preds4eval = []\n",
    "failed_preds = []\n",
    "pattern = r'\\{\\s*\"id\"\\s*:\\s*\"[^\"]*\"\\s*,\\s*\"type\"\\s*:\\s*\"[^\"]*\"\\s*,\\s*\"name\"\\s*:\\s*\"[^\"]*\"\\s*,\\s*\"is_family\"\\s*:\\s*(?:true|false|null|\"(?:[^\"]*)\"|[-+]?\\d+(?:\\.\\d+)?)\\s*\\}'\n",
    "\n",
    "for p in preds:\n",
    "\n",
    "    p = p.lower().replace(\"\\t\", \"\")\n",
    "\n",
    "    try:\n",
    "        objects = json.loads(p)[\"objects\"]\n",
    "    except:\n",
    "        objects = re.findall(pattern, p)\n",
    "        if not objects and '\"objects\": []' not in p:\n",
    "            failed_preds.append(p)\n",
    "        elif objects:\n",
    "            objects = [json.loads(obj) for obj in objects]\n",
    "    \n",
    "    preds4eval.append(\n",
    "            {\n",
    "                \"objects\":objects\n",
    "                }\n",
    "        )"
   ]
  },
  {
   "cell_type": "code",
   "execution_count": 9,
   "id": "84a4bb98",
   "metadata": {},
   "outputs": [
    {
     "name": "stdout",
     "output_type": "stream",
     "text": [
      "Percenrage of failed json outputs: 0.0%\n"
     ]
    }
   ],
   "source": [
    "print(f\"Percenrage of failed json outputs: {'{:.1f}'.format(100 * len(failed_preds) / len(inputs))}%\")"
   ]
  },
  {
   "cell_type": "code",
   "execution_count": 10,
   "id": "ba3fd4b7",
   "metadata": {},
   "outputs": [],
   "source": [
    "# Post processing\n",
    "processed_preds4eval = []\n",
    "\n",
    "def fix_malware_id(wrong_id: str) -> str:\n",
    "    \"\"\"\n",
    "    Fixes malformed malware IDs according to the observed patterns.\n",
    "    \"\"\"\n",
    "\n",
    "    # Trim spaces\n",
    "    s = wrong_id.strip().lower()\n",
    "\n",
    "    # Remove leading underscores or hyphens\n",
    "    s = re.sub(r'^[-_]+', '', s)\n",
    "\n",
    "    # Remove redundant 'malware' if it’s at the start but malformed\n",
    "    s = re.sub(r'^(malware[-_]+)', '', s)\n",
    "\n",
    "    # Handle duplicated name parts (e.g., 'fatboy--fatboy')\n",
    "    parts = re.split(r'--+', s)\n",
    "    if len(parts) == 2 and parts[0] == parts[1]:\n",
    "        s = parts[0]\n",
    "\n",
    "    # Prepend 'malware--'\n",
    "    corrected = f\"malware--{s}\"\n",
    "\n",
    "    # Ensure only one double dash after 'malware'\n",
    "    corrected = re.sub(r'^malware-+', 'malware--', corrected)\n",
    "\n",
    "    return corrected\n",
    "\n",
    "# Step 1\n",
    "for p in preds4eval:\n",
    "    objects = []\n",
    "    for obj in p[\"objects\"]:\n",
    "        # Step 1\n",
    "        if \"id\" in obj.keys():\n",
    "            ID = fix_malware_id(obj[\"id\"].strip())\n",
    "\n",
    "        if \"name\" in obj.keys():\n",
    "            NAME = obj[\"name\"]\n",
    "        else:\n",
    "            NAME = ID.split(\"malware--\")[-1]\n",
    "\n",
    "        if \"is_family\" in obj.keys():\n",
    "            IS_FAMILY = obj[\"is_family\"]\n",
    "        else:\n",
    "            IS_FAMILY = False\n",
    "\n",
    "        objects.append(\n",
    "            {\n",
    "                \"id\":ID,\n",
    "                \"type\":\"malware\",\n",
    "                \"name\":NAME,\n",
    "                \"is_family\":IS_FAMILY\n",
    "            }\n",
    "        )\n",
    "\n",
    "    processed_preds4eval.append(\n",
    "                {\n",
    "                    \"objects\":objects\n",
    "                }\n",
    "            )"
   ]
  },
  {
   "cell_type": "code",
   "execution_count": 11,
   "id": "8473465d",
   "metadata": {},
   "outputs": [],
   "source": [
    "from evaluation.stix_evaluator import STIXEvaluator\n",
    "import warnings\n",
    "warnings.filterwarnings(action=\"ignore\")\n",
    "\n",
    "evaluator = STIXEvaluator(comparison_values=[\"type\", \"name\"], cti_object_types=[\"malware\"])"
   ]
  },
  {
   "cell_type": "code",
   "execution_count": 12,
   "id": "f1e3ffe3",
   "metadata": {},
   "outputs": [
    {
     "name": "stdout",
     "output_type": "stream",
     "text": [
      "Precison: 0.27698\n",
      "Recall: 0.88676\n",
      "F1-Score: 0.42211\n"
     ]
    }
   ],
   "source": [
    "p, r, f1, full_res = evaluator._evaluate_(predicted=processed_preds4eval, actual=outputs)\n",
    "print(f\"Precison: {p}\\nRecall: {r}\\nF1-Score: {f1}\")"
   ]
  },
  {
   "cell_type": "code",
   "execution_count": null,
   "id": "c9948801",
   "metadata": {},
   "outputs": [],
   "source": []
  }
 ],
 "metadata": {
  "kernelspec": {
   "display_name": "venv",
   "language": "python",
   "name": "python3"
  },
  "language_info": {
   "codemirror_mode": {
    "name": "ipython",
    "version": 3
   },
   "file_extension": ".py",
   "mimetype": "text/x-python",
   "name": "python",
   "nbconvert_exporter": "python",
   "pygments_lexer": "ipython3",
   "version": "3.11.12"
  }
 },
 "nbformat": 4,
 "nbformat_minor": 5
}
