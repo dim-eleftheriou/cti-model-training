{
 "cells": [
  {
   "cell_type": "code",
   "execution_count": 15,
   "id": "4b3fea5d",
   "metadata": {},
   "outputs": [],
   "source": [
    "import os\n",
    "import json\n",
    "from utils import save_bundle"
   ]
  },
  {
   "cell_type": "code",
   "execution_count": 8,
   "id": "8560dd6f",
   "metadata": {},
   "outputs": [],
   "source": [
    "data_path = \"/mnt/data/openCTI/data\"\n",
    "bundles_path = os.path.join(data_path, \"bundles/processed\")\n",
    "reports_path = os.path.join(data_path, \"reports/final-reports\")"
   ]
  },
  {
   "cell_type": "code",
   "execution_count": 9,
   "id": "11cd4c7c",
   "metadata": {},
   "outputs": [],
   "source": [
    "def load_json(filepath, filename):\n",
    "    with open(os.path.join(filepath, filename), mode=\"r\", encoding=\"utf-8\") as f:\n",
    "        return json.load(f)\n",
    "    \n",
    "def load_txt(filepath, filename):\n",
    "    with open(os.path.join(filepath, filename), mode=\"r\", encoding=\"utf-8\") as f:\n",
    "        return f.read()"
   ]
  },
  {
   "cell_type": "code",
   "execution_count": 12,
   "id": "e0317031",
   "metadata": {},
   "outputs": [],
   "source": [
    "results = {}\n",
    "\n",
    "for cti_type in os.listdir(bundles_path):\n",
    "    if cti_type==\"complete_bundles\":\n",
    "        continue\n",
    "    cti_type_path = os.path.join(bundles_path, cti_type)\n",
    "    results[cti_type] = {\"empty\":0, \"non_empty\":0}\n",
    "    for filename in os.listdir(cti_type_path):\n",
    "        bundle = load_json(cti_type_path, filename)\n",
    "        is_empty = bundle[\"objects\"]==[]\n",
    "        if is_empty:\n",
    "            results[cti_type][\"empty\"] += 1\n",
    "        else:\n",
    "            results[cti_type][\"non_empty\"] += 1"
   ]
  },
  {
   "cell_type": "code",
   "execution_count": 13,
   "id": "863114fa",
   "metadata": {},
   "outputs": [
    {
     "data": {
      "text/plain": [
       "{'url': {'empty': 1805, 'non_empty': 760},\n",
       " 'indicator': {'empty': 215, 'non_empty': 2350},\n",
       " 'malware': {'empty': 698, 'non_empty': 1867},\n",
       " 'vulnerability': {'empty': 2221, 'non_empty': 344},\n",
       " 'report': {'empty': 0, 'non_empty': 2565},\n",
       " 'domain-name': {'empty': 1467, 'non_empty': 1098},\n",
       " 'file': {'empty': 639, 'non_empty': 1926},\n",
       " 'attack-pattern': {'empty': 123, 'non_empty': 2442},\n",
       " 'hostname': {'empty': 1791, 'non_empty': 774},\n",
       " 'location': {'empty': 1760, 'non_empty': 805},\n",
       " 'intrusion-set': {'empty': 1558, 'non_empty': 1007},\n",
       " 'relationship': {'empty': 35, 'non_empty': 2530},\n",
       " 'ipv4-addr': {'empty': 2470, 'non_empty': 95},\n",
       " 'cryptocurrency-wallet': {'empty': 2539, 'non_empty': 26},\n",
       " 'identity': {'empty': 1764, 'non_empty': 801},\n",
       " 'email-addr': {'empty': 2471, 'non_empty': 94}}"
      ]
     },
     "execution_count": 13,
     "metadata": {},
     "output_type": "execute_result"
    }
   ],
   "source": [
    "results"
   ]
  },
  {
   "cell_type": "code",
   "execution_count": 17,
   "id": "a008d2fd",
   "metadata": {},
   "outputs": [],
   "source": [
    "save_path = \"/home/deleftheriou/cti-model-training/splitted-io-pairs\""
   ]
  },
  {
   "cell_type": "code",
   "execution_count": 19,
   "id": "aed9685b",
   "metadata": {},
   "outputs": [
    {
     "ename": "FileNotFoundError",
     "evalue": "[Errno 2] No such file or directory: '/mnt/data/openCTI/data/bundles/processed/url/b677f308-8ba9-404d-b8db-53eb518fe0c8.json'",
     "output_type": "error",
     "traceback": [
      "\u001b[31m---------------------------------------------------------------------------\u001b[39m",
      "\u001b[31mFileNotFoundError\u001b[39m                         Traceback (most recent call last)",
      "\u001b[36mCell\u001b[39m\u001b[36m \u001b[39m\u001b[32mIn[19]\u001b[39m\u001b[32m, line 10\u001b[39m\n\u001b[32m      8\u001b[39m cti_type_path = os.path.join(bundles_path, cti_type)\n\u001b[32m      9\u001b[39m \u001b[38;5;28;01mif\u001b[39;00m os.path.exists(cti_type_path):\n\u001b[32m---> \u001b[39m\u001b[32m10\u001b[39m     bundle = \u001b[43mload_json\u001b[49m\u001b[43m(\u001b[49m\u001b[43mcti_type_path\u001b[49m\u001b[43m,\u001b[49m\u001b[43m \u001b[49m\u001b[43mbundle_name\u001b[49m\u001b[43m)\u001b[49m\n\u001b[32m     11\u001b[39m     example = {\u001b[33m\"\u001b[39m\u001b[33minput\u001b[39m\u001b[33m\"\u001b[39m:report, \u001b[33m\"\u001b[39m\u001b[33moutput\u001b[39m\u001b[33m\"\u001b[39m:bundle}\n\u001b[32m     12\u001b[39m     save_name = cti_type + \u001b[33m\"\u001b[39m\u001b[33m--\u001b[39m\u001b[33m\"\u001b[39m + bundle_name\n",
      "\u001b[36mCell\u001b[39m\u001b[36m \u001b[39m\u001b[32mIn[9]\u001b[39m\u001b[32m, line 2\u001b[39m, in \u001b[36mload_json\u001b[39m\u001b[34m(filepath, filename)\u001b[39m\n\u001b[32m      1\u001b[39m \u001b[38;5;28;01mdef\u001b[39;00m\u001b[38;5;250m \u001b[39m\u001b[34mload_json\u001b[39m(filepath, filename):\n\u001b[32m----> \u001b[39m\u001b[32m2\u001b[39m     \u001b[38;5;28;01mwith\u001b[39;00m \u001b[38;5;28;43mopen\u001b[39;49m\u001b[43m(\u001b[49m\u001b[43mos\u001b[49m\u001b[43m.\u001b[49m\u001b[43mpath\u001b[49m\u001b[43m.\u001b[49m\u001b[43mjoin\u001b[49m\u001b[43m(\u001b[49m\u001b[43mfilepath\u001b[49m\u001b[43m,\u001b[49m\u001b[43m \u001b[49m\u001b[43mfilename\u001b[49m\u001b[43m)\u001b[49m\u001b[43m,\u001b[49m\u001b[43m \u001b[49m\u001b[43mmode\u001b[49m\u001b[43m=\u001b[49m\u001b[33;43m\"\u001b[39;49m\u001b[33;43mr\u001b[39;49m\u001b[33;43m\"\u001b[39;49m\u001b[43m,\u001b[49m\u001b[43m \u001b[49m\u001b[43mencoding\u001b[49m\u001b[43m=\u001b[49m\u001b[33;43m\"\u001b[39;49m\u001b[33;43mutf-8\u001b[39;49m\u001b[33;43m\"\u001b[39;49m\u001b[43m)\u001b[49m \u001b[38;5;28;01mas\u001b[39;00m f:\n\u001b[32m      3\u001b[39m         \u001b[38;5;28;01mreturn\u001b[39;00m json.load(f)\n",
      "\u001b[36mFile \u001b[39m\u001b[32m~/cti-model-training/venv/lib/python3.11/site-packages/IPython/core/interactiveshell.py:343\u001b[39m, in \u001b[36m_modified_open\u001b[39m\u001b[34m(file, *args, **kwargs)\u001b[39m\n\u001b[32m    336\u001b[39m \u001b[38;5;28;01mif\u001b[39;00m file \u001b[38;5;129;01min\u001b[39;00m {\u001b[32m0\u001b[39m, \u001b[32m1\u001b[39m, \u001b[32m2\u001b[39m}:\n\u001b[32m    337\u001b[39m     \u001b[38;5;28;01mraise\u001b[39;00m \u001b[38;5;167;01mValueError\u001b[39;00m(\n\u001b[32m    338\u001b[39m         \u001b[33mf\u001b[39m\u001b[33m\"\u001b[39m\u001b[33mIPython won\u001b[39m\u001b[33m'\u001b[39m\u001b[33mt let you open fd=\u001b[39m\u001b[38;5;132;01m{\u001b[39;00mfile\u001b[38;5;132;01m}\u001b[39;00m\u001b[33m by default \u001b[39m\u001b[33m\"\u001b[39m\n\u001b[32m    339\u001b[39m         \u001b[33m\"\u001b[39m\u001b[33mas it is likely to crash IPython. If you know what you are doing, \u001b[39m\u001b[33m\"\u001b[39m\n\u001b[32m    340\u001b[39m         \u001b[33m\"\u001b[39m\u001b[33myou can use builtins\u001b[39m\u001b[33m'\u001b[39m\u001b[33m open.\u001b[39m\u001b[33m\"\u001b[39m\n\u001b[32m    341\u001b[39m     )\n\u001b[32m--> \u001b[39m\u001b[32m343\u001b[39m \u001b[38;5;28;01mreturn\u001b[39;00m \u001b[43mio_open\u001b[49m\u001b[43m(\u001b[49m\u001b[43mfile\u001b[49m\u001b[43m,\u001b[49m\u001b[43m \u001b[49m\u001b[43m*\u001b[49m\u001b[43margs\u001b[49m\u001b[43m,\u001b[49m\u001b[43m \u001b[49m\u001b[43m*\u001b[49m\u001b[43m*\u001b[49m\u001b[43mkwargs\u001b[49m\u001b[43m)\u001b[49m\n",
      "\u001b[31mFileNotFoundError\u001b[39m: [Errno 2] No such file or directory: '/mnt/data/openCTI/data/bundles/processed/url/b677f308-8ba9-404d-b8db-53eb518fe0c8.json'"
     ]
    }
   ],
   "source": [
    "for report_name in os.listdir(reports_path):\n",
    "    report = load_txt(reports_path, report_name)\n",
    "    filename = report_name.split(\".txt\")[0]\n",
    "    bundle_name = filename + \".json\"\n",
    "    for cti_type in os.listdir(bundles_path):\n",
    "        if cti_type==\"complete_bundles\":\n",
    "            continue\n",
    "        cti_type_path = os.path.join(bundles_path, cti_type)\n",
    "        if os.path.exists(cti_type_path):\n",
    "            bundle = load_json(cti_type_path, bundle_name)\n",
    "            example = {\"input\":report, \"output\":bundle}\n",
    "            save_name = cti_type + \"--\" + bundle_name\n",
    "            save_bundle(save_path, save_name, example)\n"
   ]
  },
  {
   "cell_type": "code",
   "execution_count": null,
   "id": "ba362230",
   "metadata": {},
   "outputs": [],
   "source": []
  }
 ],
 "metadata": {
  "kernelspec": {
   "display_name": "venv",
   "language": "python",
   "name": "python3"
  },
  "language_info": {
   "codemirror_mode": {
    "name": "ipython",
    "version": 3
   },
   "file_extension": ".py",
   "mimetype": "text/x-python",
   "name": "python",
   "nbconvert_exporter": "python",
   "pygments_lexer": "ipython3",
   "version": "3.11.12"
  }
 },
 "nbformat": 4,
 "nbformat_minor": 5
}
