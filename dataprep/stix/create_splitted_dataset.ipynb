{
 "cells": [
  {
   "cell_type": "code",
   "execution_count": 1,
   "id": "4b3fea5d",
   "metadata": {},
   "outputs": [],
   "source": [
    "import os\n",
    "import json\n",
    "from utils import save_bundle"
   ]
  },
  {
   "cell_type": "code",
   "execution_count": 2,
   "id": "8560dd6f",
   "metadata": {},
   "outputs": [],
   "source": [
    "data_path = \"/mnt/data/openCTI/data\"\n",
    "bundles_path = os.path.join(data_path, \"bundles/processed\")\n",
    "reports_path = os.path.join(data_path, \"reports/final-reports\")"
   ]
  },
  {
   "cell_type": "code",
   "execution_count": 3,
   "id": "11cd4c7c",
   "metadata": {},
   "outputs": [],
   "source": [
    "def load_json(filepath, filename):\n",
    "    with open(os.path.join(filepath, filename), mode=\"r\", encoding=\"utf-8\") as f:\n",
    "        return json.load(f)\n",
    "    \n",
    "def load_txt(filepath, filename):\n",
    "    with open(os.path.join(filepath, filename), mode=\"r\", encoding=\"utf-8\") as f:\n",
    "        return f.read()"
   ]
  },
  {
   "cell_type": "code",
   "execution_count": 4,
   "id": "e0317031",
   "metadata": {},
   "outputs": [],
   "source": [
    "results = {}\n",
    "\n",
    "for cti_type in os.listdir(bundles_path):\n",
    "    if cti_type==\"complete_bundles\":\n",
    "        continue\n",
    "    cti_type_path = os.path.join(bundles_path, cti_type)\n",
    "    results[cti_type] = {\"empty\":0, \"non_empty\":0}\n",
    "    for filename in os.listdir(cti_type_path):\n",
    "        bundle = load_json(cti_type_path, filename)\n",
    "        is_empty = bundle[\"objects\"]==[]\n",
    "        if is_empty:\n",
    "            results[cti_type][\"empty\"] += 1\n",
    "        else:\n",
    "            results[cti_type][\"non_empty\"] += 1"
   ]
  },
  {
   "cell_type": "code",
   "execution_count": 5,
   "id": "863114fa",
   "metadata": {},
   "outputs": [
    {
     "data": {
      "text/plain": [
       "{'url': {'empty': 1805, 'non_empty': 760},\n",
       " 'indicator': {'empty': 215, 'non_empty': 2350},\n",
       " 'malware': {'empty': 698, 'non_empty': 1867},\n",
       " 'vulnerability': {'empty': 2221, 'non_empty': 344},\n",
       " 'report': {'empty': 0, 'non_empty': 2565},\n",
       " 'domain-name': {'empty': 1467, 'non_empty': 1098},\n",
       " 'file': {'empty': 639, 'non_empty': 1926},\n",
       " 'attack-pattern': {'empty': 123, 'non_empty': 2442},\n",
       " 'hostname': {'empty': 1791, 'non_empty': 774},\n",
       " 'location': {'empty': 1760, 'non_empty': 805},\n",
       " 'intrusion-set': {'empty': 1558, 'non_empty': 1007},\n",
       " 'relationship': {'empty': 35, 'non_empty': 2530},\n",
       " 'ipv4-addr': {'empty': 2470, 'non_empty': 95},\n",
       " 'cryptocurrency-wallet': {'empty': 2539, 'non_empty': 26},\n",
       " 'identity': {'empty': 1764, 'non_empty': 801},\n",
       " 'email-addr': {'empty': 2471, 'non_empty': 94}}"
      ]
     },
     "execution_count": 5,
     "metadata": {},
     "output_type": "execute_result"
    }
   ],
   "source": [
    "results"
   ]
  },
  {
   "cell_type": "code",
   "execution_count": 6,
   "id": "a008d2fd",
   "metadata": {},
   "outputs": [],
   "source": [
    "save_path = \"/home/deleftheriou/cti-model-training/splitted-io-pairs\""
   ]
  },
  {
   "cell_type": "code",
   "execution_count": 8,
   "id": "aed9685b",
   "metadata": {},
   "outputs": [],
   "source": [
    "for report_name in os.listdir(reports_path):\n",
    "    report = load_txt(reports_path, report_name)\n",
    "    filename = report_name.split(\".txt\")[0]\n",
    "    bundle_name = filename + \".json\"\n",
    "    for cti_type in os.listdir(bundles_path):\n",
    "        if cti_type==\"complete_bundles\":\n",
    "            continue\n",
    "        cti_type_path = os.path.join(bundles_path, cti_type)\n",
    "        if bundle_name in os.listdir(cti_type_path):\n",
    "            bundle = load_json(cti_type_path, bundle_name)\n",
    "            example = {\"input\":report, \"output\":bundle}\n",
    "            save_name = cti_type + \"--\" + bundle_name\n",
    "            save_bundle(save_path, save_name, example)\n"
   ]
  },
  {
   "cell_type": "code",
   "execution_count": null,
   "id": "02704d43",
   "metadata": {},
   "outputs": [],
   "source": []
  }
 ],
 "metadata": {
  "kernelspec": {
   "display_name": "venv",
   "language": "python",
   "name": "python3"
  },
  "language_info": {
   "codemirror_mode": {
    "name": "ipython",
    "version": 3
   },
   "file_extension": ".py",
   "mimetype": "text/x-python",
   "name": "python",
   "nbconvert_exporter": "python",
   "pygments_lexer": "ipython3",
   "version": "3.11.12"
  }
 },
 "nbformat": 4,
 "nbformat_minor": 5
}
